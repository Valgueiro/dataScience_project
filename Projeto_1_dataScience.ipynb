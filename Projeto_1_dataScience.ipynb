{
  "nbformat": 4,
  "nbformat_minor": 0,
  "metadata": {
    "colab": {
      "name": "Projeto 1_dataScience.ipynb",
      "provenance": [],
      "collapsed_sections": [],
      "toc_visible": true,
      "include_colab_link": true
    },
    "kernelspec": {
      "name": "python3",
      "display_name": "Python 3"
    }
  },
  "cells": [
    {
      "cell_type": "markdown",
      "metadata": {
        "id": "view-in-github",
        "colab_type": "text"
      },
      "source": [
        "<a href=\"https://colab.research.google.com/github/Valgueiro/dataScience_project/blob/master/Projeto_1_dataScience.ipynb\" target=\"_parent\"><img src=\"https://colab.research.google.com/assets/colab-badge.svg\" alt=\"Open In Colab\"/></a>"
      ]
    },
    {
      "cell_type": "markdown",
      "metadata": {
        "id": "1TFXSAJdYCFJ"
      },
      "source": [
        "### Instalar bibliotecas necessárias"
      ]
    },
    {
      "cell_type": "code",
      "metadata": {
        "id": "LnZoAaC-X-xp"
      },
      "source": [
        "# Por enquando nenhuma."
      ],
      "execution_count": null,
      "outputs": []
    },
    {
      "cell_type": "markdown",
      "metadata": {
        "id": "uIbSp-73wljE"
      },
      "source": [
        "# Analisandos os dados da temporada 2019/20 da NFL\n",
        "\n",
        "Utilizarei os dados de https://www.kaggle.com/dvc415/nfl-2019-weekly-player-stats . Nele podemos encontrar estatísticas sobre diversos jogadores de 3 posiçoes do futebol americano:\n",
        "\n",
        "* Quaterbacks (qbs) - A mente por trás do ataque, são os responsáveis por liderar e coordenar o ataque\n",
        "\n",
        "* Running Backs (rbs) - corredores da equipe, geralmente recebem a bola diretamente do Quarteback e correm para dentro da defesa.\n",
        "\n",
        "* Wide receivers (wrs) - também são corredores, mas geralmente correm pra dentro da defesa adversária e recebem a bola do QB através de um passe."
      ]
    },
    {
      "cell_type": "markdown",
      "metadata": {
        "id": "aisi1eEuyYi9"
      },
      "source": [
        "## Pré-processando os dados"
      ]
    },
    {
      "cell_type": "markdown",
      "metadata": {
        "id": "YhtJ7rtdWqRO"
      },
      "source": [
        "### Coletando dados\n",
        "\n"
      ]
    },
    {
      "cell_type": "code",
      "metadata": {
        "id": "V7b-GeVtcSSO"
      },
      "source": [
        "import numpy as np\n",
        "import pandas as pd"
      ],
      "execution_count": 4,
      "outputs": []
    },
    {
      "cell_type": "code",
      "metadata": {
        "id": "MGDLq2b1U6-I",
        "outputId": "7a8116c1-3da5-4460-c516-9340763aba4c",
        "colab": {
          "base_uri": "https://localhost:8080/",
          "height": 285
        }
      },
      "source": [
        "qbs = pd.read_csv(\"https://raw.githubusercontent.com/Valgueiro/dataScience_project/master/data/nfl_2019_qb_weekly_stats.csv\")\n",
        "rbs = pd.read_csv(\"https://raw.githubusercontent.com/Valgueiro/dataScience_project/master/data/nfl_2019_rb_weekly_stats.csv\")\n",
        "wrs = pd.read_csv(\"https://raw.githubusercontent.com/Valgueiro/dataScience_project/master/data/nfl_2019_wr_weekly_stats.csv\")"
      ],
      "execution_count": 7,
      "outputs": [
        {
          "output_type": "execute_result",
          "data": {
            "text/html": [
              "<div>\n",
              "<style scoped>\n",
              "    .dataframe tbody tr th:only-of-type {\n",
              "        vertical-align: middle;\n",
              "    }\n",
              "\n",
              "    .dataframe tbody tr th {\n",
              "        vertical-align: top;\n",
              "    }\n",
              "\n",
              "    .dataframe thead th {\n",
              "        text-align: right;\n",
              "    }\n",
              "</style>\n",
              "<table border=\"1\" class=\"dataframe\">\n",
              "  <thead>\n",
              "    <tr style=\"text-align: right;\">\n",
              "      <th></th>\n",
              "      <th>Rank</th>\n",
              "      <th>Player</th>\n",
              "      <th>Position</th>\n",
              "      <th>Age</th>\n",
              "      <th>Date</th>\n",
              "      <th>League</th>\n",
              "      <th>Team</th>\n",
              "      <th>Opp</th>\n",
              "      <th>Result</th>\n",
              "      <th>Game</th>\n",
              "      <th>Week</th>\n",
              "      <th>Day</th>\n",
              "      <th>Attempts</th>\n",
              "      <th>Rush_Yards</th>\n",
              "      <th>Yards_per_Attempt</th>\n",
              "      <th>Rush_TD</th>\n",
              "    </tr>\n",
              "  </thead>\n",
              "  <tbody>\n",
              "    <tr>\n",
              "      <th>0</th>\n",
              "      <td>1</td>\n",
              "      <td>Marlon Mack</td>\n",
              "      <td>RB</td>\n",
              "      <td>23.185</td>\n",
              "      <td>2019-09-08</td>\n",
              "      <td>NFL</td>\n",
              "      <td>IND</td>\n",
              "      <td>LAC</td>\n",
              "      <td>L 24-30</td>\n",
              "      <td>1</td>\n",
              "      <td>1</td>\n",
              "      <td>Sun</td>\n",
              "      <td>25</td>\n",
              "      <td>174</td>\n",
              "      <td>6.96</td>\n",
              "      <td>1</td>\n",
              "    </tr>\n",
              "    <tr>\n",
              "      <th>1</th>\n",
              "      <td>2</td>\n",
              "      <td>Christian McCaffrey</td>\n",
              "      <td>RB</td>\n",
              "      <td>23.093</td>\n",
              "      <td>2019-09-08</td>\n",
              "      <td>NFL</td>\n",
              "      <td>CAR</td>\n",
              "      <td>LAR</td>\n",
              "      <td>L 27-30</td>\n",
              "      <td>1</td>\n",
              "      <td>1</td>\n",
              "      <td>Sun</td>\n",
              "      <td>19</td>\n",
              "      <td>128</td>\n",
              "      <td>6.74</td>\n",
              "      <td>2</td>\n",
              "    </tr>\n",
              "    <tr>\n",
              "      <th>2</th>\n",
              "      <td>3</td>\n",
              "      <td>Saquon Barkley</td>\n",
              "      <td>RB</td>\n",
              "      <td>22.211</td>\n",
              "      <td>2019-09-08</td>\n",
              "      <td>NFL</td>\n",
              "      <td>NYG</td>\n",
              "      <td>DAL</td>\n",
              "      <td>L 17-35</td>\n",
              "      <td>1</td>\n",
              "      <td>1</td>\n",
              "      <td>Sun</td>\n",
              "      <td>11</td>\n",
              "      <td>120</td>\n",
              "      <td>10.91</td>\n",
              "      <td>0</td>\n",
              "    </tr>\n",
              "    <tr>\n",
              "      <th>3</th>\n",
              "      <td>4</td>\n",
              "      <td>Dalvin Cook</td>\n",
              "      <td>RB</td>\n",
              "      <td>24.029</td>\n",
              "      <td>2019-09-08</td>\n",
              "      <td>NFL</td>\n",
              "      <td>MIN</td>\n",
              "      <td>ATL</td>\n",
              "      <td>W 28-12</td>\n",
              "      <td>1</td>\n",
              "      <td>1</td>\n",
              "      <td>Sun</td>\n",
              "      <td>21</td>\n",
              "      <td>111</td>\n",
              "      <td>5.29</td>\n",
              "      <td>2</td>\n",
              "    </tr>\n",
              "    <tr>\n",
              "      <th>4</th>\n",
              "      <td>5</td>\n",
              "      <td>Mark Ingram</td>\n",
              "      <td>RB</td>\n",
              "      <td>29.261</td>\n",
              "      <td>2019-09-08</td>\n",
              "      <td>NFL</td>\n",
              "      <td>BAL</td>\n",
              "      <td>MIA</td>\n",
              "      <td>W 59-10</td>\n",
              "      <td>1</td>\n",
              "      <td>1</td>\n",
              "      <td>Sun</td>\n",
              "      <td>14</td>\n",
              "      <td>107</td>\n",
              "      <td>7.64</td>\n",
              "      <td>2</td>\n",
              "    </tr>\n",
              "  </tbody>\n",
              "</table>\n",
              "</div>"
            ],
            "text/plain": [
              "   Rank               Player Position  ...  Rush_Yards Yards_per_Attempt Rush_TD\n",
              "0     1          Marlon Mack       RB  ...         174              6.96       1\n",
              "1     2  Christian McCaffrey       RB  ...         128              6.74       2\n",
              "2     3       Saquon Barkley       RB  ...         120             10.91       0\n",
              "3     4          Dalvin Cook       RB  ...         111              5.29       2\n",
              "4     5          Mark Ingram       RB  ...         107              7.64       2\n",
              "\n",
              "[5 rows x 16 columns]"
            ]
          },
          "metadata": {
            "tags": []
          },
          "execution_count": 7
        }
      ]
    },
    {
      "cell_type": "markdown",
      "metadata": {
        "id": "xVbonCpVyeUX"
      },
      "source": [
        "### Analisando os dados de Qbs"
      ]
    },
    {
      "cell_type": "code",
      "metadata": {
        "id": "0iOIZQJ1yiOA",
        "outputId": "769f8859-9ce6-4219-fe46-b03747971767",
        "colab": {
          "base_uri": "https://localhost:8080/",
          "height": 535
        }
      },
      "source": [
        "qbs.info()"
      ],
      "execution_count": 9,
      "outputs": [
        {
          "output_type": "stream",
          "text": [
            "<class 'pandas.core.frame.DataFrame'>\n",
            "RangeIndex: 611 entries, 0 to 610\n",
            "Data columns (total 23 columns):\n",
            " #   Column         Non-Null Count  Dtype  \n",
            "---  ------         --------------  -----  \n",
            " 0   Rank           611 non-null    int64  \n",
            " 1   Player         611 non-null    object \n",
            " 2   Position       611 non-null    object \n",
            " 3   Age            611 non-null    float64\n",
            " 4   Date           611 non-null    object \n",
            " 5   League         611 non-null    object \n",
            " 6   Team           611 non-null    object \n",
            " 7   Opp            611 non-null    object \n",
            " 8   Result         611 non-null    object \n",
            " 9   Game           611 non-null    int64  \n",
            " 10  Week           611 non-null    int64  \n",
            " 11  Day            611 non-null    object \n",
            " 12  Cmp            611 non-null    int64  \n",
            " 13  Pass_Att       611 non-null    int64  \n",
            " 14  Cmp_Per        611 non-null    float64\n",
            " 15  Pass_Yards     611 non-null    int64  \n",
            " 16  Pass_TD        611 non-null    int64  \n",
            " 17  Pass_Int       611 non-null    int64  \n",
            " 18  QB_Rate        611 non-null    float64\n",
            " 19  Sacked         611 non-null    int64  \n",
            " 20  Yds_Lost       611 non-null    int64  \n",
            " 21  Yards_Att      611 non-null    float64\n",
            " 22  Adj_Yards_Att  611 non-null    float64\n",
            "dtypes: float64(5), int64(10), object(8)\n",
            "memory usage: 109.9+ KB\n"
          ],
          "name": "stdout"
        }
      ]
    },
    {
      "cell_type": "markdown",
      "metadata": {
        "id": "uepKCJhd3oEN"
      },
      "source": [
        "Logo de cara podemos ver que não temos dados ausentes, mas alguns tipos devem ser estudados e melhorados."
      ]
    },
    {
      "cell_type": "markdown",
      "metadata": {
        "id": "RIu2dg930hUJ"
      },
      "source": [
        "#### Verificando a necessidade da coluna \"Position\""
      ]
    },
    {
      "cell_type": "code",
      "metadata": {
        "id": "IapOQHht0JZU",
        "outputId": "df90c821-5c17-4415-f6f7-137a6c338378",
        "colab": {
          "base_uri": "https://localhost:8080/",
          "height": 35
        }
      },
      "source": [
        "qbs[\"Position\"].unique()"
      ],
      "execution_count": 23,
      "outputs": [
        {
          "output_type": "execute_result",
          "data": {
            "text/plain": [
              "array(['QB', 'WR', 'RB', 'K', 'P', 'FB/TE'], dtype=object)"
            ]
          },
          "metadata": {
            "tags": []
          },
          "execution_count": 23
        }
      ]
    },
    {
      "cell_type": "code",
      "metadata": {
        "id": "iFys5n5007jT",
        "outputId": "4bd06a7c-f827-4c7a-a845-0b0ea496395b",
        "colab": {
          "base_uri": "https://localhost:8080/",
          "height": 648
        }
      },
      "source": [
        "qbs[qbs[\"Position\"] == 'WR'][[\"Player\", \"Pass_Att\"]]"
      ],
      "execution_count": 21,
      "outputs": [
        {
          "output_type": "execute_result",
          "data": {
            "text/html": [
              "<div>\n",
              "<style scoped>\n",
              "    .dataframe tbody tr th:only-of-type {\n",
              "        vertical-align: middle;\n",
              "    }\n",
              "\n",
              "    .dataframe tbody tr th {\n",
              "        vertical-align: top;\n",
              "    }\n",
              "\n",
              "    .dataframe thead th {\n",
              "        text-align: right;\n",
              "    }\n",
              "</style>\n",
              "<table border=\"1\" class=\"dataframe\">\n",
              "  <thead>\n",
              "    <tr style=\"text-align: right;\">\n",
              "      <th></th>\n",
              "      <th>Player</th>\n",
              "      <th>Pass_Att</th>\n",
              "      <th>Pass_Yards</th>\n",
              "    </tr>\n",
              "  </thead>\n",
              "  <tbody>\n",
              "    <tr>\n",
              "      <th>14</th>\n",
              "      <td>Julian Edelman</td>\n",
              "      <td>1</td>\n",
              "      <td>32</td>\n",
              "    </tr>\n",
              "    <tr>\n",
              "      <th>43</th>\n",
              "      <td>Dante Pettis</td>\n",
              "      <td>1</td>\n",
              "      <td>16</td>\n",
              "    </tr>\n",
              "    <tr>\n",
              "      <th>142</th>\n",
              "      <td>Odell Beckham Jr.</td>\n",
              "      <td>1</td>\n",
              "      <td>0</td>\n",
              "    </tr>\n",
              "    <tr>\n",
              "      <th>146</th>\n",
              "      <td>DeAndre Hopkins</td>\n",
              "      <td>1</td>\n",
              "      <td>0</td>\n",
              "    </tr>\n",
              "    <tr>\n",
              "      <th>151</th>\n",
              "      <td>Odell Beckham Jr.</td>\n",
              "      <td>1</td>\n",
              "      <td>20</td>\n",
              "    </tr>\n",
              "    <tr>\n",
              "      <th>248</th>\n",
              "      <td>Zach Pascal</td>\n",
              "      <td>1</td>\n",
              "      <td>0</td>\n",
              "    </tr>\n",
              "    <tr>\n",
              "      <th>338</th>\n",
              "      <td>Randall Cobb</td>\n",
              "      <td>1</td>\n",
              "      <td>0</td>\n",
              "    </tr>\n",
              "    <tr>\n",
              "      <th>343</th>\n",
              "      <td>Julian Edelman</td>\n",
              "      <td>1</td>\n",
              "      <td>15</td>\n",
              "    </tr>\n",
              "    <tr>\n",
              "      <th>348</th>\n",
              "      <td>Courtland Sutton</td>\n",
              "      <td>1</td>\n",
              "      <td>38</td>\n",
              "    </tr>\n",
              "    <tr>\n",
              "      <th>411</th>\n",
              "      <td>Steven Sims</td>\n",
              "      <td>1</td>\n",
              "      <td>0</td>\n",
              "    </tr>\n",
              "    <tr>\n",
              "      <th>413</th>\n",
              "      <td>John Brown</td>\n",
              "      <td>1</td>\n",
              "      <td>28</td>\n",
              "    </tr>\n",
              "    <tr>\n",
              "      <th>415</th>\n",
              "      <td>DeAndre Hopkins</td>\n",
              "      <td>1</td>\n",
              "      <td>6</td>\n",
              "    </tr>\n",
              "    <tr>\n",
              "      <th>452</th>\n",
              "      <td>Emmanuel Sanders</td>\n",
              "      <td>1</td>\n",
              "      <td>35</td>\n",
              "    </tr>\n",
              "    <tr>\n",
              "      <th>458</th>\n",
              "      <td>Alex Erickson</td>\n",
              "      <td>1</td>\n",
              "      <td>26</td>\n",
              "    </tr>\n",
              "    <tr>\n",
              "      <th>490</th>\n",
              "      <td>Cooper Kupp</td>\n",
              "      <td>1</td>\n",
              "      <td>0</td>\n",
              "    </tr>\n",
              "    <tr>\n",
              "      <th>529</th>\n",
              "      <td>Josh Gordon</td>\n",
              "      <td>1</td>\n",
              "      <td>0</td>\n",
              "    </tr>\n",
              "    <tr>\n",
              "      <th>537</th>\n",
              "      <td>Kelvin Harmon</td>\n",
              "      <td>1</td>\n",
              "      <td>11</td>\n",
              "    </tr>\n",
              "    <tr>\n",
              "      <th>569</th>\n",
              "      <td>Stefon Diggs</td>\n",
              "      <td>1</td>\n",
              "      <td>0</td>\n",
              "    </tr>\n",
              "    <tr>\n",
              "      <th>571</th>\n",
              "      <td>Danny Amendola</td>\n",
              "      <td>1</td>\n",
              "      <td>19</td>\n",
              "    </tr>\n",
              "    <tr>\n",
              "      <th>586</th>\n",
              "      <td>Albert Wilson</td>\n",
              "      <td>2</td>\n",
              "      <td>20</td>\n",
              "    </tr>\n",
              "  </tbody>\n",
              "</table>\n",
              "</div>"
            ],
            "text/plain": [
              "                Player  Pass_Att  Pass_Yards\n",
              "14      Julian Edelman         1          32\n",
              "43        Dante Pettis         1          16\n",
              "142  Odell Beckham Jr.         1           0\n",
              "146    DeAndre Hopkins         1           0\n",
              "151  Odell Beckham Jr.         1          20\n",
              "248        Zach Pascal         1           0\n",
              "338       Randall Cobb         1           0\n",
              "343     Julian Edelman         1          15\n",
              "348   Courtland Sutton         1          38\n",
              "411        Steven Sims         1           0\n",
              "413         John Brown         1          28\n",
              "415    DeAndre Hopkins         1           6\n",
              "452   Emmanuel Sanders         1          35\n",
              "458      Alex Erickson         1          26\n",
              "490        Cooper Kupp         1           0\n",
              "529        Josh Gordon         1           0\n",
              "537      Kelvin Harmon         1          11\n",
              "569       Stefon Diggs         1           0\n",
              "571     Danny Amendola         1          19\n",
              "586      Albert Wilson         2          20"
            ]
          },
          "metadata": {
            "tags": []
          },
          "execution_count": 21
        }
      ]
    },
    {
      "cell_type": "markdown",
      "metadata": {
        "id": "r_Engxny0s8d"
      },
      "source": [
        "Como podemos ver, o dataset conta também com jogadores de outra posição que jogaram de QB em algum momento, como por exemplo os Wide Receivers que vemos nesta ultima tabela. Com as duas colunas mostradas podemos ver que todos eles fizeram apenas 2 passes no máximo. Geralmente essas jogadas são fora do comum, são chamadas de \"trick play\"."
      ]
    },
    {
      "cell_type": "markdown",
      "metadata": {
        "id": "ngDRtfud2VKJ"
      },
      "source": [
        "#### Verificando o tipo da coluna \"Age\""
      ]
    },
    {
      "cell_type": "code",
      "metadata": {
        "id": "oSRlJ3BH2CMR",
        "outputId": "78a72365-b0b4-47a9-fd32-a304bf0dd377",
        "colab": {
          "base_uri": "https://localhost:8080/",
          "height": 173
        }
      },
      "source": [
        "qbs[\"Age\"].describe()"
      ],
      "execution_count": 25,
      "outputs": [
        {
          "output_type": "execute_result",
          "data": {
            "text/plain": [
              "count    611.000000\n",
              "mean      28.154298\n",
              "std        5.364599\n",
              "min       22.032000\n",
              "25%       24.046500\n",
              "50%       26.308000\n",
              "75%       31.219000\n",
              "max       42.148000\n",
              "Name: Age, dtype: float64"
            ]
          },
          "metadata": {
            "tags": []
          },
          "execution_count": 25
        }
      ]
    },
    {
      "cell_type": "code",
      "metadata": {
        "id": "XpJGSd0t2coA",
        "outputId": "39106c32-d31b-4a26-b396-9061c0209617",
        "colab": {
          "base_uri": "https://localhost:8080/",
          "height": 498
        }
      },
      "source": [
        "qbs[qbs[\"Player\"] == \"Kirk Cousins\"][[\"Player\",\"Age\",\"Date\"]]"
      ],
      "execution_count": 31,
      "outputs": [
        {
          "output_type": "execute_result",
          "data": {
            "text/html": [
              "<div>\n",
              "<style scoped>\n",
              "    .dataframe tbody tr th:only-of-type {\n",
              "        vertical-align: middle;\n",
              "    }\n",
              "\n",
              "    .dataframe tbody tr th {\n",
              "        vertical-align: top;\n",
              "    }\n",
              "\n",
              "    .dataframe thead th {\n",
              "        text-align: right;\n",
              "    }\n",
              "</style>\n",
              "<table border=\"1\" class=\"dataframe\">\n",
              "  <thead>\n",
              "    <tr style=\"text-align: right;\">\n",
              "      <th></th>\n",
              "      <th>Player</th>\n",
              "      <th>Age</th>\n",
              "      <th>Date</th>\n",
              "    </tr>\n",
              "  </thead>\n",
              "  <tbody>\n",
              "    <tr>\n",
              "      <th>4</th>\n",
              "      <td>Kirk Cousins</td>\n",
              "      <td>31.020</td>\n",
              "      <td>2019-09-08</td>\n",
              "    </tr>\n",
              "    <tr>\n",
              "      <th>72</th>\n",
              "      <td>Kirk Cousins</td>\n",
              "      <td>31.027</td>\n",
              "      <td>2019-09-15</td>\n",
              "    </tr>\n",
              "    <tr>\n",
              "      <th>86</th>\n",
              "      <td>Kirk Cousins</td>\n",
              "      <td>31.034</td>\n",
              "      <td>2019-09-22</td>\n",
              "    </tr>\n",
              "    <tr>\n",
              "      <th>126</th>\n",
              "      <td>Kirk Cousins</td>\n",
              "      <td>31.041</td>\n",
              "      <td>2019-09-29</td>\n",
              "    </tr>\n",
              "    <tr>\n",
              "      <th>149</th>\n",
              "      <td>Kirk Cousins</td>\n",
              "      <td>31.048</td>\n",
              "      <td>2019-10-06</td>\n",
              "    </tr>\n",
              "    <tr>\n",
              "      <th>186</th>\n",
              "      <td>Kirk Cousins</td>\n",
              "      <td>31.055</td>\n",
              "      <td>2019-10-13</td>\n",
              "    </tr>\n",
              "    <tr>\n",
              "      <th>219</th>\n",
              "      <td>Kirk Cousins</td>\n",
              "      <td>31.062</td>\n",
              "      <td>2019-10-20</td>\n",
              "    </tr>\n",
              "    <tr>\n",
              "      <th>259</th>\n",
              "      <td>Kirk Cousins</td>\n",
              "      <td>31.066</td>\n",
              "      <td>2019-10-24</td>\n",
              "    </tr>\n",
              "    <tr>\n",
              "      <th>298</th>\n",
              "      <td>Kirk Cousins</td>\n",
              "      <td>31.076</td>\n",
              "      <td>2019-11-03</td>\n",
              "    </tr>\n",
              "    <tr>\n",
              "      <th>318</th>\n",
              "      <td>Kirk Cousins</td>\n",
              "      <td>31.083</td>\n",
              "      <td>2019-11-10</td>\n",
              "    </tr>\n",
              "    <tr>\n",
              "      <th>345</th>\n",
              "      <td>Kirk Cousins</td>\n",
              "      <td>31.090</td>\n",
              "      <td>2019-11-17</td>\n",
              "    </tr>\n",
              "    <tr>\n",
              "      <th>433</th>\n",
              "      <td>Kirk Cousins</td>\n",
              "      <td>31.105</td>\n",
              "      <td>2019-12-02</td>\n",
              "    </tr>\n",
              "    <tr>\n",
              "      <th>464</th>\n",
              "      <td>Kirk Cousins</td>\n",
              "      <td>31.111</td>\n",
              "      <td>2019-12-08</td>\n",
              "    </tr>\n",
              "    <tr>\n",
              "      <th>502</th>\n",
              "      <td>Kirk Cousins</td>\n",
              "      <td>31.118</td>\n",
              "      <td>2019-12-15</td>\n",
              "    </tr>\n",
              "    <tr>\n",
              "      <th>566</th>\n",
              "      <td>Kirk Cousins</td>\n",
              "      <td>31.126</td>\n",
              "      <td>2019-12-23</td>\n",
              "    </tr>\n",
              "  </tbody>\n",
              "</table>\n",
              "</div>"
            ],
            "text/plain": [
              "           Player     Age        Date\n",
              "4    Kirk Cousins  31.020  2019-09-08\n",
              "72   Kirk Cousins  31.027  2019-09-15\n",
              "86   Kirk Cousins  31.034  2019-09-22\n",
              "126  Kirk Cousins  31.041  2019-09-29\n",
              "149  Kirk Cousins  31.048  2019-10-06\n",
              "186  Kirk Cousins  31.055  2019-10-13\n",
              "219  Kirk Cousins  31.062  2019-10-20\n",
              "259  Kirk Cousins  31.066  2019-10-24\n",
              "298  Kirk Cousins  31.076  2019-11-03\n",
              "318  Kirk Cousins  31.083  2019-11-10\n",
              "345  Kirk Cousins  31.090  2019-11-17\n",
              "433  Kirk Cousins  31.105  2019-12-02\n",
              "464  Kirk Cousins  31.111  2019-12-08\n",
              "502  Kirk Cousins  31.118  2019-12-15\n",
              "566  Kirk Cousins  31.126  2019-12-23"
            ]
          },
          "metadata": {
            "tags": []
          },
          "execution_count": 31
        }
      ]
    },
    {
      "cell_type": "markdown",
      "metadata": {
        "id": "H0ed-UXP2mpK"
      },
      "source": [
        "Como podemos ver, apesar de idade normalmente ser tratada com inteiro, aqui é mostrada a idade inclusive incluindo a quantidade de meses e dias."
      ]
    },
    {
      "cell_type": "markdown",
      "metadata": {
        "id": "odoMOa7G3ZTC"
      },
      "source": [
        "#### Transformando o tipo da coluna Date"
      ]
    },
    {
      "cell_type": "markdown",
      "metadata": {
        "id": "muQcYAud31rv"
      },
      "source": [
        "Com o describe, vimos que a coluna Date está com o tipo Object. Devemos mudá-la para o tipo correto de datas."
      ]
    },
    {
      "cell_type": "code",
      "metadata": {
        "id": "UKycRAgW3gBy",
        "outputId": "9da8340a-d537-4b01-b664-05b8bb5cd510",
        "colab": {
          "base_uri": "https://localhost:8080/",
          "height": 121
        }
      },
      "source": [
        "qbs[\"Date\"].head()"
      ],
      "execution_count": 34,
      "outputs": [
        {
          "output_type": "execute_result",
          "data": {
            "text/plain": [
              "0    2019-09-08\n",
              "1    2019-09-08\n",
              "2    2019-09-08\n",
              "3    2019-09-08\n",
              "4    2019-09-08\n",
              "Name: Date, dtype: object"
            ]
          },
          "metadata": {
            "tags": []
          },
          "execution_count": 34
        }
      ]
    },
    {
      "cell_type": "code",
      "metadata": {
        "id": "Q2IB2Y_a4zqn",
        "outputId": "33d6f220-0a09-4126-a55c-1bfd0ed30de4",
        "colab": {
          "base_uri": "https://localhost:8080/",
          "height": 121
        }
      },
      "source": [
        "qbs[\"Date\"] = pd.to_datetime(qbs[\"Date\"])\n",
        "qbs[\"Date\"].head()"
      ],
      "execution_count": 36,
      "outputs": [
        {
          "output_type": "execute_result",
          "data": {
            "text/plain": [
              "0   2019-09-08\n",
              "1   2019-09-08\n",
              "2   2019-09-08\n",
              "3   2019-09-08\n",
              "4   2019-09-08\n",
              "Name: Date, dtype: datetime64[ns]"
            ]
          },
          "metadata": {
            "tags": []
          },
          "execution_count": 36
        }
      ]
    },
    {
      "cell_type": "markdown",
      "metadata": {
        "id": "Gm1b6K_Q5BmM"
      },
      "source": [
        "#### Verificando a necessidade da coluna League"
      ]
    },
    {
      "cell_type": "code",
      "metadata": {
        "id": "l-flkAx75Mux",
        "outputId": "7c3ce81e-297a-4255-f640-7269ecfcd627",
        "colab": {
          "base_uri": "https://localhost:8080/",
          "height": 35
        }
      },
      "source": [
        "qbs[\"League\"].unique()"
      ],
      "execution_count": 37,
      "outputs": [
        {
          "output_type": "execute_result",
          "data": {
            "text/plain": [
              "array(['NFL'], dtype=object)"
            ]
          },
          "metadata": {
            "tags": []
          },
          "execution_count": 37
        }
      ]
    },
    {
      "cell_type": "markdown",
      "metadata": {
        "id": "lscN4YrM5Shh"
      },
      "source": [
        "Como podemos ver todas as linhas tem o mesmo valor para esta coluna. Como já é sabido que estamos no contexto da NFL, vou retirá-la do dataset."
      ]
    },
    {
      "cell_type": "code",
      "metadata": {
        "id": "kaboQXb85aW_",
        "outputId": "91aeed9a-5fab-4436-8a53-e290b4fb1c38",
        "colab": {
          "base_uri": "https://localhost:8080/",
          "height": 600
        }
      },
      "source": [
        "qbs.drop(columns=['League'])"
      ],
      "execution_count": 40,
      "outputs": [
        {
          "output_type": "execute_result",
          "data": {
            "text/html": [
              "<div>\n",
              "<style scoped>\n",
              "    .dataframe tbody tr th:only-of-type {\n",
              "        vertical-align: middle;\n",
              "    }\n",
              "\n",
              "    .dataframe tbody tr th {\n",
              "        vertical-align: top;\n",
              "    }\n",
              "\n",
              "    .dataframe thead th {\n",
              "        text-align: right;\n",
              "    }\n",
              "</style>\n",
              "<table border=\"1\" class=\"dataframe\">\n",
              "  <thead>\n",
              "    <tr style=\"text-align: right;\">\n",
              "      <th></th>\n",
              "      <th>Rank</th>\n",
              "      <th>Player</th>\n",
              "      <th>Position</th>\n",
              "      <th>Age</th>\n",
              "      <th>Date</th>\n",
              "      <th>Team</th>\n",
              "      <th>Opp</th>\n",
              "      <th>Result</th>\n",
              "      <th>Game</th>\n",
              "      <th>Week</th>\n",
              "      <th>Day</th>\n",
              "      <th>Cmp</th>\n",
              "      <th>Pass_Att</th>\n",
              "      <th>Cmp_Per</th>\n",
              "      <th>Pass_Yards</th>\n",
              "      <th>Pass_TD</th>\n",
              "      <th>Pass_Int</th>\n",
              "      <th>QB_Rate</th>\n",
              "      <th>Sacked</th>\n",
              "      <th>Yds_Lost</th>\n",
              "      <th>Yards_Att</th>\n",
              "      <th>Adj_Yards_Att</th>\n",
              "    </tr>\n",
              "  </thead>\n",
              "  <tbody>\n",
              "    <tr>\n",
              "      <th>0</th>\n",
              "      <td>1</td>\n",
              "      <td>Lamar Jackson</td>\n",
              "      <td>QB</td>\n",
              "      <td>22.244</td>\n",
              "      <td>2019-09-08</td>\n",
              "      <td>BAL</td>\n",
              "      <td>MIA</td>\n",
              "      <td>W 59-10</td>\n",
              "      <td>1</td>\n",
              "      <td>1</td>\n",
              "      <td>Sun</td>\n",
              "      <td>17</td>\n",
              "      <td>20</td>\n",
              "      <td>85.00</td>\n",
              "      <td>324</td>\n",
              "      <td>5</td>\n",
              "      <td>0</td>\n",
              "      <td>158.3</td>\n",
              "      <td>1</td>\n",
              "      <td>1</td>\n",
              "      <td>16.20</td>\n",
              "      <td>16.20</td>\n",
              "    </tr>\n",
              "    <tr>\n",
              "      <th>1</th>\n",
              "      <td>2</td>\n",
              "      <td>Dak Prescott</td>\n",
              "      <td>QB</td>\n",
              "      <td>26.041</td>\n",
              "      <td>2019-09-08</td>\n",
              "      <td>DAL</td>\n",
              "      <td>NYG</td>\n",
              "      <td>W 35-17</td>\n",
              "      <td>1</td>\n",
              "      <td>1</td>\n",
              "      <td>Sun</td>\n",
              "      <td>25</td>\n",
              "      <td>32</td>\n",
              "      <td>78.13</td>\n",
              "      <td>405</td>\n",
              "      <td>4</td>\n",
              "      <td>0</td>\n",
              "      <td>158.3</td>\n",
              "      <td>0</td>\n",
              "      <td>0</td>\n",
              "      <td>12.66</td>\n",
              "      <td>12.66</td>\n",
              "    </tr>\n",
              "    <tr>\n",
              "      <th>2</th>\n",
              "      <td>3</td>\n",
              "      <td>Robert Griffin III</td>\n",
              "      <td>QB</td>\n",
              "      <td>29.208</td>\n",
              "      <td>2019-09-08</td>\n",
              "      <td>BAL</td>\n",
              "      <td>MIA</td>\n",
              "      <td>W 59-10</td>\n",
              "      <td>1</td>\n",
              "      <td>1</td>\n",
              "      <td>Sun</td>\n",
              "      <td>6</td>\n",
              "      <td>6</td>\n",
              "      <td>100.00</td>\n",
              "      <td>55</td>\n",
              "      <td>1</td>\n",
              "      <td>0</td>\n",
              "      <td>144.4</td>\n",
              "      <td>0</td>\n",
              "      <td>0</td>\n",
              "      <td>9.17</td>\n",
              "      <td>9.17</td>\n",
              "    </tr>\n",
              "    <tr>\n",
              "      <th>3</th>\n",
              "      <td>4</td>\n",
              "      <td>Patrick Mahomes</td>\n",
              "      <td>QB</td>\n",
              "      <td>23.356</td>\n",
              "      <td>2019-09-08</td>\n",
              "      <td>KAN</td>\n",
              "      <td>JAX</td>\n",
              "      <td>W 40-26</td>\n",
              "      <td>1</td>\n",
              "      <td>1</td>\n",
              "      <td>Sun</td>\n",
              "      <td>25</td>\n",
              "      <td>33</td>\n",
              "      <td>75.76</td>\n",
              "      <td>378</td>\n",
              "      <td>3</td>\n",
              "      <td>0</td>\n",
              "      <td>143.2</td>\n",
              "      <td>0</td>\n",
              "      <td>0</td>\n",
              "      <td>11.45</td>\n",
              "      <td>11.45</td>\n",
              "    </tr>\n",
              "    <tr>\n",
              "      <th>4</th>\n",
              "      <td>5</td>\n",
              "      <td>Kirk Cousins</td>\n",
              "      <td>QB</td>\n",
              "      <td>31.020</td>\n",
              "      <td>2019-09-08</td>\n",
              "      <td>MIN</td>\n",
              "      <td>ATL</td>\n",
              "      <td>W 28-12</td>\n",
              "      <td>1</td>\n",
              "      <td>1</td>\n",
              "      <td>Sun</td>\n",
              "      <td>8</td>\n",
              "      <td>10</td>\n",
              "      <td>80.00</td>\n",
              "      <td>98</td>\n",
              "      <td>1</td>\n",
              "      <td>0</td>\n",
              "      <td>140.8</td>\n",
              "      <td>1</td>\n",
              "      <td>1</td>\n",
              "      <td>9.80</td>\n",
              "      <td>9.80</td>\n",
              "    </tr>\n",
              "    <tr>\n",
              "      <th>...</th>\n",
              "      <td>...</td>\n",
              "      <td>...</td>\n",
              "      <td>...</td>\n",
              "      <td>...</td>\n",
              "      <td>...</td>\n",
              "      <td>...</td>\n",
              "      <td>...</td>\n",
              "      <td>...</td>\n",
              "      <td>...</td>\n",
              "      <td>...</td>\n",
              "      <td>...</td>\n",
              "      <td>...</td>\n",
              "      <td>...</td>\n",
              "      <td>...</td>\n",
              "      <td>...</td>\n",
              "      <td>...</td>\n",
              "      <td>...</td>\n",
              "      <td>...</td>\n",
              "      <td>...</td>\n",
              "      <td>...</td>\n",
              "      <td>...</td>\n",
              "      <td>...</td>\n",
              "    </tr>\n",
              "    <tr>\n",
              "      <th>606</th>\n",
              "      <td>36</td>\n",
              "      <td>Robert Griffin III</td>\n",
              "      <td>QB</td>\n",
              "      <td>29.320</td>\n",
              "      <td>2019-12-29</td>\n",
              "      <td>BAL</td>\n",
              "      <td>PIT</td>\n",
              "      <td>W 28-10</td>\n",
              "      <td>16</td>\n",
              "      <td>17</td>\n",
              "      <td>Sun</td>\n",
              "      <td>11</td>\n",
              "      <td>21</td>\n",
              "      <td>52.38</td>\n",
              "      <td>96</td>\n",
              "      <td>0</td>\n",
              "      <td>1</td>\n",
              "      <td>44.9</td>\n",
              "      <td>3</td>\n",
              "      <td>15</td>\n",
              "      <td>4.57</td>\n",
              "      <td>4.57</td>\n",
              "    </tr>\n",
              "    <tr>\n",
              "      <th>607</th>\n",
              "      <td>37</td>\n",
              "      <td>David Blough</td>\n",
              "      <td>QB</td>\n",
              "      <td>24.151</td>\n",
              "      <td>2019-12-29</td>\n",
              "      <td>DET</td>\n",
              "      <td>GNB</td>\n",
              "      <td>L 20-23</td>\n",
              "      <td>16</td>\n",
              "      <td>17</td>\n",
              "      <td>Sun</td>\n",
              "      <td>12</td>\n",
              "      <td>29</td>\n",
              "      <td>41.38</td>\n",
              "      <td>122</td>\n",
              "      <td>0</td>\n",
              "      <td>1</td>\n",
              "      <td>39.7</td>\n",
              "      <td>1</td>\n",
              "      <td>7</td>\n",
              "      <td>4.21</td>\n",
              "      <td>4.21</td>\n",
              "    </tr>\n",
              "    <tr>\n",
              "      <th>608</th>\n",
              "      <td>38</td>\n",
              "      <td>Matt Haack</td>\n",
              "      <td>P</td>\n",
              "      <td>25.187</td>\n",
              "      <td>2019-12-29</td>\n",
              "      <td>MIA</td>\n",
              "      <td>NWE</td>\n",
              "      <td>W 27-24</td>\n",
              "      <td>16</td>\n",
              "      <td>17</td>\n",
              "      <td>Sun</td>\n",
              "      <td>0</td>\n",
              "      <td>1</td>\n",
              "      <td>0.00</td>\n",
              "      <td>0</td>\n",
              "      <td>0</td>\n",
              "      <td>0</td>\n",
              "      <td>39.6</td>\n",
              "      <td>0</td>\n",
              "      <td>0</td>\n",
              "      <td>0.00</td>\n",
              "      <td>0.00</td>\n",
              "    </tr>\n",
              "    <tr>\n",
              "      <th>609</th>\n",
              "      <td>39</td>\n",
              "      <td>Sean Mannion</td>\n",
              "      <td>QB</td>\n",
              "      <td>27.248</td>\n",
              "      <td>2019-12-29</td>\n",
              "      <td>MIN</td>\n",
              "      <td>CHI</td>\n",
              "      <td>L 19-21</td>\n",
              "      <td>16</td>\n",
              "      <td>17</td>\n",
              "      <td>Sun</td>\n",
              "      <td>12</td>\n",
              "      <td>21</td>\n",
              "      <td>57.14</td>\n",
              "      <td>126</td>\n",
              "      <td>0</td>\n",
              "      <td>2</td>\n",
              "      <td>35.1</td>\n",
              "      <td>0</td>\n",
              "      <td>0</td>\n",
              "      <td>6.00</td>\n",
              "      <td>6.00</td>\n",
              "    </tr>\n",
              "    <tr>\n",
              "      <th>610</th>\n",
              "      <td>40</td>\n",
              "      <td>Will Grier</td>\n",
              "      <td>QB</td>\n",
              "      <td>24.270</td>\n",
              "      <td>2019-12-29</td>\n",
              "      <td>CAR</td>\n",
              "      <td>NOR</td>\n",
              "      <td>L 10-42</td>\n",
              "      <td>16</td>\n",
              "      <td>17</td>\n",
              "      <td>Sun</td>\n",
              "      <td>1</td>\n",
              "      <td>8</td>\n",
              "      <td>12.50</td>\n",
              "      <td>4</td>\n",
              "      <td>0</td>\n",
              "      <td>1</td>\n",
              "      <td>0.0</td>\n",
              "      <td>1</td>\n",
              "      <td>7</td>\n",
              "      <td>0.50</td>\n",
              "      <td>0.50</td>\n",
              "    </tr>\n",
              "  </tbody>\n",
              "</table>\n",
              "<p>611 rows × 22 columns</p>\n",
              "</div>"
            ],
            "text/plain": [
              "     Rank              Player Position  ...  Yds_Lost Yards_Att Adj_Yards_Att\n",
              "0       1       Lamar Jackson       QB  ...         1     16.20         16.20\n",
              "1       2        Dak Prescott       QB  ...         0     12.66         12.66\n",
              "2       3  Robert Griffin III       QB  ...         0      9.17          9.17\n",
              "3       4     Patrick Mahomes       QB  ...         0     11.45         11.45\n",
              "4       5        Kirk Cousins       QB  ...         1      9.80          9.80\n",
              "..    ...                 ...      ...  ...       ...       ...           ...\n",
              "606    36  Robert Griffin III       QB  ...        15      4.57          4.57\n",
              "607    37        David Blough       QB  ...         7      4.21          4.21\n",
              "608    38          Matt Haack        P  ...         0      0.00          0.00\n",
              "609    39        Sean Mannion       QB  ...         0      6.00          6.00\n",
              "610    40          Will Grier       QB  ...         7      0.50          0.50\n",
              "\n",
              "[611 rows x 22 columns]"
            ]
          },
          "metadata": {
            "tags": []
          },
          "execution_count": 40
        }
      ]
    }
  ]
}