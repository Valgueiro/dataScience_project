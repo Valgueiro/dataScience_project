{
  "nbformat": 4,
  "nbformat_minor": 0,
  "metadata": {
    "colab": {
      "name": "Projeto 1_dataScience.ipynb",
      "provenance": [],
      "collapsed_sections": [],
      "toc_visible": true,
      "include_colab_link": true
    },
    "kernelspec": {
      "name": "python3",
      "display_name": "Python 3"
    }
  },
  "cells": [
    {
      "cell_type": "markdown",
      "metadata": {
        "id": "view-in-github",
        "colab_type": "text"
      },
      "source": [
        "<a href=\"https://colab.research.google.com/github/Valgueiro/dataScience_project/blob/master/Projeto_1_dataScience.ipynb\" target=\"_parent\"><img src=\"https://colab.research.google.com/assets/colab-badge.svg\" alt=\"Open In Colab\"/></a>"
      ]
    },
    {
      "cell_type": "markdown",
      "metadata": {
        "id": "1TFXSAJdYCFJ"
      },
      "source": [
        "### Instalar bibliotecas necessárias"
      ]
    },
    {
      "cell_type": "code",
      "metadata": {
        "id": "LnZoAaC-X-xp"
      },
      "source": [
        "# Por enquando nenhuma."
      ],
      "execution_count": null,
      "outputs": []
    },
    {
      "cell_type": "markdown",
      "metadata": {
        "id": "uIbSp-73wljE"
      },
      "source": [
        "# Analisandos os dados da temporada 2019/20 da NFL"
      ]
    },
    {
      "cell_type": "markdown",
      "metadata": {
        "id": "YhtJ7rtdWqRO"
      },
      "source": [
        "### Coletando dados\n",
        "\n",
        "Utilizando https://www.kaggle.com/dvc415/nfl-2019-weekly-player-stats\n",
        "\n"
      ]
    },
    {
      "cell_type": "code",
      "metadata": {
        "id": "V7b-GeVtcSSO"
      },
      "source": [
        "import numpy as np\n",
        "import pandas as pd"
      ],
      "execution_count": null,
      "outputs": []
    },
    {
      "cell_type": "code",
      "metadata": {
        "id": "MGDLq2b1U6-I",
        "outputId": "d0f0f8b8-7da9-485c-ed25-22e796bb35a9",
        "colab": {
          "base_uri": "https://localhost:8080/",
          "height": 285
        }
      },
      "source": [
        "qbs = pd.read_csv(\"https://raw.githubusercontent.com/Valgueiro/dataScience_project/master/data/nfl_2019_qb_weekly_stats.csv\")\n",
        "rbs = pd.read_csv(\"https://raw.githubusercontent.com/Valgueiro/dataScience_project/master/data/nfl_2019_rb_weekly_stats.csv\")\n",
        "wrs = pd.read_csv(\"https://raw.githubusercontent.com/Valgueiro/dataScience_project/master/data/nfl_2019_wr_weekly_stats.csv\")\n",
        "rbs.head()"
      ],
      "execution_count": null,
      "outputs": [
        {
          "output_type": "execute_result",
          "data": {
            "text/html": [
              "<div>\n",
              "<style scoped>\n",
              "    .dataframe tbody tr th:only-of-type {\n",
              "        vertical-align: middle;\n",
              "    }\n",
              "\n",
              "    .dataframe tbody tr th {\n",
              "        vertical-align: top;\n",
              "    }\n",
              "\n",
              "    .dataframe thead th {\n",
              "        text-align: right;\n",
              "    }\n",
              "</style>\n",
              "<table border=\"1\" class=\"dataframe\">\n",
              "  <thead>\n",
              "    <tr style=\"text-align: right;\">\n",
              "      <th></th>\n",
              "      <th>Rank</th>\n",
              "      <th>Player</th>\n",
              "      <th>Position</th>\n",
              "      <th>Age</th>\n",
              "      <th>Date</th>\n",
              "      <th>League</th>\n",
              "      <th>Team</th>\n",
              "      <th>Opp</th>\n",
              "      <th>Result</th>\n",
              "      <th>Game</th>\n",
              "      <th>Week</th>\n",
              "      <th>Day</th>\n",
              "      <th>Attempts</th>\n",
              "      <th>Rush_Yards</th>\n",
              "      <th>Yards_per_Attempt</th>\n",
              "      <th>Rush_TD</th>\n",
              "    </tr>\n",
              "  </thead>\n",
              "  <tbody>\n",
              "    <tr>\n",
              "      <th>0</th>\n",
              "      <td>1</td>\n",
              "      <td>Marlon Mack</td>\n",
              "      <td>RB</td>\n",
              "      <td>23.185</td>\n",
              "      <td>2019-09-08</td>\n",
              "      <td>NFL</td>\n",
              "      <td>IND</td>\n",
              "      <td>LAC</td>\n",
              "      <td>L 24-30</td>\n",
              "      <td>1</td>\n",
              "      <td>1</td>\n",
              "      <td>Sun</td>\n",
              "      <td>25</td>\n",
              "      <td>174</td>\n",
              "      <td>6.96</td>\n",
              "      <td>1</td>\n",
              "    </tr>\n",
              "    <tr>\n",
              "      <th>1</th>\n",
              "      <td>2</td>\n",
              "      <td>Christian McCaffrey</td>\n",
              "      <td>RB</td>\n",
              "      <td>23.093</td>\n",
              "      <td>2019-09-08</td>\n",
              "      <td>NFL</td>\n",
              "      <td>CAR</td>\n",
              "      <td>LAR</td>\n",
              "      <td>L 27-30</td>\n",
              "      <td>1</td>\n",
              "      <td>1</td>\n",
              "      <td>Sun</td>\n",
              "      <td>19</td>\n",
              "      <td>128</td>\n",
              "      <td>6.74</td>\n",
              "      <td>2</td>\n",
              "    </tr>\n",
              "    <tr>\n",
              "      <th>2</th>\n",
              "      <td>3</td>\n",
              "      <td>Saquon Barkley</td>\n",
              "      <td>RB</td>\n",
              "      <td>22.211</td>\n",
              "      <td>2019-09-08</td>\n",
              "      <td>NFL</td>\n",
              "      <td>NYG</td>\n",
              "      <td>DAL</td>\n",
              "      <td>L 17-35</td>\n",
              "      <td>1</td>\n",
              "      <td>1</td>\n",
              "      <td>Sun</td>\n",
              "      <td>11</td>\n",
              "      <td>120</td>\n",
              "      <td>10.91</td>\n",
              "      <td>0</td>\n",
              "    </tr>\n",
              "    <tr>\n",
              "      <th>3</th>\n",
              "      <td>4</td>\n",
              "      <td>Dalvin Cook</td>\n",
              "      <td>RB</td>\n",
              "      <td>24.029</td>\n",
              "      <td>2019-09-08</td>\n",
              "      <td>NFL</td>\n",
              "      <td>MIN</td>\n",
              "      <td>ATL</td>\n",
              "      <td>W 28-12</td>\n",
              "      <td>1</td>\n",
              "      <td>1</td>\n",
              "      <td>Sun</td>\n",
              "      <td>21</td>\n",
              "      <td>111</td>\n",
              "      <td>5.29</td>\n",
              "      <td>2</td>\n",
              "    </tr>\n",
              "    <tr>\n",
              "      <th>4</th>\n",
              "      <td>5</td>\n",
              "      <td>Mark Ingram</td>\n",
              "      <td>RB</td>\n",
              "      <td>29.261</td>\n",
              "      <td>2019-09-08</td>\n",
              "      <td>NFL</td>\n",
              "      <td>BAL</td>\n",
              "      <td>MIA</td>\n",
              "      <td>W 59-10</td>\n",
              "      <td>1</td>\n",
              "      <td>1</td>\n",
              "      <td>Sun</td>\n",
              "      <td>14</td>\n",
              "      <td>107</td>\n",
              "      <td>7.64</td>\n",
              "      <td>2</td>\n",
              "    </tr>\n",
              "  </tbody>\n",
              "</table>\n",
              "</div>"
            ],
            "text/plain": [
              "   Rank               Player Position  ...  Rush_Yards Yards_per_Attempt Rush_TD\n",
              "0     1          Marlon Mack       RB  ...         174              6.96       1\n",
              "1     2  Christian McCaffrey       RB  ...         128              6.74       2\n",
              "2     3       Saquon Barkley       RB  ...         120             10.91       0\n",
              "3     4          Dalvin Cook       RB  ...         111              5.29       2\n",
              "4     5          Mark Ingram       RB  ...         107              7.64       2\n",
              "\n",
              "[5 rows x 16 columns]"
            ]
          },
          "metadata": {
            "tags": []
          },
          "execution_count": 26
        }
      ]
    }
  ]
}