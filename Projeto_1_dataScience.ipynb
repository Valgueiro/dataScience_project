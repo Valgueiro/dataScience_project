{
  "nbformat": 4,
  "nbformat_minor": 0,
  "metadata": {
    "colab": {
      "name": "Projeto 1_dataScience.ipynb",
      "provenance": [],
      "collapsed_sections": [],
      "toc_visible": true,
      "include_colab_link": true
    },
    "kernelspec": {
      "name": "python3",
      "display_name": "Python 3"
    }
  },
  "cells": [
    {
      "cell_type": "markdown",
      "metadata": {
        "id": "view-in-github",
        "colab_type": "text"
      },
      "source": [
        "<a href=\"https://colab.research.google.com/github/Valgueiro/dataScience_project/blob/master/Projeto_1_dataScience.ipynb\" target=\"_parent\"><img src=\"https://colab.research.google.com/assets/colab-badge.svg\" alt=\"Open In Colab\"/></a>"
      ]
    },
    {
      "cell_type": "markdown",
      "metadata": {
        "id": "uIbSp-73wljE"
      },
      "source": [
        "# Analisandos os dados da temporada 2019/20 da NFL\n",
        "\n",
        "Utilizarei os dados de https://www.kaggle.com/dvc415/nfl-2019-weekly-player-stats . Nele podemos encontrar estatísticas sobre diversos jogadores de 3 posiçoes do futebol americano:\n",
        "\n",
        "* Quaterbacks (qbs) - A mente por trás do ataque, são os responsáveis por liderar e coordenar o ataque\n",
        "\n",
        "* Running Backs (rbs) - corredores da equipe, geralmente recebem a bola diretamente do Quarteback e correm para dentro da defesa.\n",
        "\n",
        "* Wide receivers (wrs) - também são corredores, mas geralmente correm pra dentro da defesa adversária e recebem a bola do QB através de um passe."
      ]
    },
    {
      "cell_type": "markdown",
      "metadata": {
        "id": "aisi1eEuyYi9"
      },
      "source": [
        "## Pré-processando os dados"
      ]
    },
    {
      "cell_type": "markdown",
      "metadata": {
        "id": "YhtJ7rtdWqRO"
      },
      "source": [
        "### Coletando dados\n",
        "\n"
      ]
    },
    {
      "cell_type": "code",
      "metadata": {
        "id": "V7b-GeVtcSSO"
      },
      "source": [
        "import numpy as np\n",
        "import pandas as pd"
      ],
      "execution_count": 98,
      "outputs": []
    },
    {
      "cell_type": "code",
      "metadata": {
        "id": "MGDLq2b1U6-I"
      },
      "source": [
        "qbs = pd.read_csv(\"https://raw.githubusercontent.com/Valgueiro/dataScience_project/master/data/nfl_2019_qb_weekly_stats.csv\")"
      ],
      "execution_count": 99,
      "outputs": []
    },
    {
      "cell_type": "markdown",
      "metadata": {
        "id": "xVbonCpVyeUX"
      },
      "source": [
        "### Filtrando e reorganizando os dados de Qbs"
      ]
    },
    {
      "cell_type": "code",
      "metadata": {
        "id": "0iOIZQJ1yiOA",
        "outputId": "27f161b5-a1ae-4065-d8df-5d7c223c3a1f",
        "colab": {
          "base_uri": "https://localhost:8080/",
          "height": 535
        }
      },
      "source": [
        "qbs.info()"
      ],
      "execution_count": 100,
      "outputs": [
        {
          "output_type": "stream",
          "text": [
            "<class 'pandas.core.frame.DataFrame'>\n",
            "RangeIndex: 611 entries, 0 to 610\n",
            "Data columns (total 23 columns):\n",
            " #   Column         Non-Null Count  Dtype  \n",
            "---  ------         --------------  -----  \n",
            " 0   Rank           611 non-null    int64  \n",
            " 1   Player         611 non-null    object \n",
            " 2   Position       611 non-null    object \n",
            " 3   Age            611 non-null    float64\n",
            " 4   Date           611 non-null    object \n",
            " 5   League         611 non-null    object \n",
            " 6   Team           611 non-null    object \n",
            " 7   Opp            611 non-null    object \n",
            " 8   Result         611 non-null    object \n",
            " 9   Game           611 non-null    int64  \n",
            " 10  Week           611 non-null    int64  \n",
            " 11  Day            611 non-null    object \n",
            " 12  Cmp            611 non-null    int64  \n",
            " 13  Pass_Att       611 non-null    int64  \n",
            " 14  Cmp_Per        611 non-null    float64\n",
            " 15  Pass_Yards     611 non-null    int64  \n",
            " 16  Pass_TD        611 non-null    int64  \n",
            " 17  Pass_Int       611 non-null    int64  \n",
            " 18  QB_Rate        611 non-null    float64\n",
            " 19  Sacked         611 non-null    int64  \n",
            " 20  Yds_Lost       611 non-null    int64  \n",
            " 21  Yards_Att      611 non-null    float64\n",
            " 22  Adj_Yards_Att  611 non-null    float64\n",
            "dtypes: float64(5), int64(10), object(8)\n",
            "memory usage: 109.9+ KB\n"
          ],
          "name": "stdout"
        }
      ]
    },
    {
      "cell_type": "markdown",
      "metadata": {
        "id": "uepKCJhd3oEN"
      },
      "source": [
        "Logo de cara podemos ver que não temos dados ausentes, mas alguns tipos devem ser estudados e melhorados, assim como algumas colunas devem ser discretizadas."
      ]
    },
    {
      "cell_type": "markdown",
      "metadata": {
        "id": "RIu2dg930hUJ"
      },
      "source": [
        "#### Verificando a necessidade da coluna \"Position\""
      ]
    },
    {
      "cell_type": "code",
      "metadata": {
        "id": "IapOQHht0JZU",
        "outputId": "9d3981dc-25e0-42ab-aa74-3f9c3914c6db",
        "colab": {
          "base_uri": "https://localhost:8080/",
          "height": 35
        }
      },
      "source": [
        "qbs[\"Position\"].unique()"
      ],
      "execution_count": 101,
      "outputs": [
        {
          "output_type": "execute_result",
          "data": {
            "text/plain": [
              "array(['QB', 'WR', 'RB', 'K', 'P', 'FB/TE'], dtype=object)"
            ]
          },
          "metadata": {
            "tags": []
          },
          "execution_count": 101
        }
      ]
    },
    {
      "cell_type": "code",
      "metadata": {
        "id": "iFys5n5007jT",
        "outputId": "ad65438d-6fbc-4f89-8121-471dedb98938",
        "colab": {
          "base_uri": "https://localhost:8080/",
          "height": 648
        }
      },
      "source": [
        "qbs[qbs[\"Position\"] == 'WR'][[\"Player\", \"Pass_Att\"]]"
      ],
      "execution_count": 102,
      "outputs": [
        {
          "output_type": "execute_result",
          "data": {
            "text/html": [
              "<div>\n",
              "<style scoped>\n",
              "    .dataframe tbody tr th:only-of-type {\n",
              "        vertical-align: middle;\n",
              "    }\n",
              "\n",
              "    .dataframe tbody tr th {\n",
              "        vertical-align: top;\n",
              "    }\n",
              "\n",
              "    .dataframe thead th {\n",
              "        text-align: right;\n",
              "    }\n",
              "</style>\n",
              "<table border=\"1\" class=\"dataframe\">\n",
              "  <thead>\n",
              "    <tr style=\"text-align: right;\">\n",
              "      <th></th>\n",
              "      <th>Player</th>\n",
              "      <th>Pass_Att</th>\n",
              "    </tr>\n",
              "  </thead>\n",
              "  <tbody>\n",
              "    <tr>\n",
              "      <th>14</th>\n",
              "      <td>Julian Edelman</td>\n",
              "      <td>1</td>\n",
              "    </tr>\n",
              "    <tr>\n",
              "      <th>43</th>\n",
              "      <td>Dante Pettis</td>\n",
              "      <td>1</td>\n",
              "    </tr>\n",
              "    <tr>\n",
              "      <th>142</th>\n",
              "      <td>Odell Beckham Jr.</td>\n",
              "      <td>1</td>\n",
              "    </tr>\n",
              "    <tr>\n",
              "      <th>146</th>\n",
              "      <td>DeAndre Hopkins</td>\n",
              "      <td>1</td>\n",
              "    </tr>\n",
              "    <tr>\n",
              "      <th>151</th>\n",
              "      <td>Odell Beckham Jr.</td>\n",
              "      <td>1</td>\n",
              "    </tr>\n",
              "    <tr>\n",
              "      <th>248</th>\n",
              "      <td>Zach Pascal</td>\n",
              "      <td>1</td>\n",
              "    </tr>\n",
              "    <tr>\n",
              "      <th>338</th>\n",
              "      <td>Randall Cobb</td>\n",
              "      <td>1</td>\n",
              "    </tr>\n",
              "    <tr>\n",
              "      <th>343</th>\n",
              "      <td>Julian Edelman</td>\n",
              "      <td>1</td>\n",
              "    </tr>\n",
              "    <tr>\n",
              "      <th>348</th>\n",
              "      <td>Courtland Sutton</td>\n",
              "      <td>1</td>\n",
              "    </tr>\n",
              "    <tr>\n",
              "      <th>411</th>\n",
              "      <td>Steven Sims</td>\n",
              "      <td>1</td>\n",
              "    </tr>\n",
              "    <tr>\n",
              "      <th>413</th>\n",
              "      <td>John Brown</td>\n",
              "      <td>1</td>\n",
              "    </tr>\n",
              "    <tr>\n",
              "      <th>415</th>\n",
              "      <td>DeAndre Hopkins</td>\n",
              "      <td>1</td>\n",
              "    </tr>\n",
              "    <tr>\n",
              "      <th>452</th>\n",
              "      <td>Emmanuel Sanders</td>\n",
              "      <td>1</td>\n",
              "    </tr>\n",
              "    <tr>\n",
              "      <th>458</th>\n",
              "      <td>Alex Erickson</td>\n",
              "      <td>1</td>\n",
              "    </tr>\n",
              "    <tr>\n",
              "      <th>490</th>\n",
              "      <td>Cooper Kupp</td>\n",
              "      <td>1</td>\n",
              "    </tr>\n",
              "    <tr>\n",
              "      <th>529</th>\n",
              "      <td>Josh Gordon</td>\n",
              "      <td>1</td>\n",
              "    </tr>\n",
              "    <tr>\n",
              "      <th>537</th>\n",
              "      <td>Kelvin Harmon</td>\n",
              "      <td>1</td>\n",
              "    </tr>\n",
              "    <tr>\n",
              "      <th>569</th>\n",
              "      <td>Stefon Diggs</td>\n",
              "      <td>1</td>\n",
              "    </tr>\n",
              "    <tr>\n",
              "      <th>571</th>\n",
              "      <td>Danny Amendola</td>\n",
              "      <td>1</td>\n",
              "    </tr>\n",
              "    <tr>\n",
              "      <th>586</th>\n",
              "      <td>Albert Wilson</td>\n",
              "      <td>2</td>\n",
              "    </tr>\n",
              "  </tbody>\n",
              "</table>\n",
              "</div>"
            ],
            "text/plain": [
              "                Player  Pass_Att\n",
              "14      Julian Edelman         1\n",
              "43        Dante Pettis         1\n",
              "142  Odell Beckham Jr.         1\n",
              "146    DeAndre Hopkins         1\n",
              "151  Odell Beckham Jr.         1\n",
              "248        Zach Pascal         1\n",
              "338       Randall Cobb         1\n",
              "343     Julian Edelman         1\n",
              "348   Courtland Sutton         1\n",
              "411        Steven Sims         1\n",
              "413         John Brown         1\n",
              "415    DeAndre Hopkins         1\n",
              "452   Emmanuel Sanders         1\n",
              "458      Alex Erickson         1\n",
              "490        Cooper Kupp         1\n",
              "529        Josh Gordon         1\n",
              "537      Kelvin Harmon         1\n",
              "569       Stefon Diggs         1\n",
              "571     Danny Amendola         1\n",
              "586      Albert Wilson         2"
            ]
          },
          "metadata": {
            "tags": []
          },
          "execution_count": 102
        }
      ]
    },
    {
      "cell_type": "markdown",
      "metadata": {
        "id": "r_Engxny0s8d"
      },
      "source": [
        "Como podemos ver, o dataset conta também com jogadores de outra posição que jogaram de QB em algum momento, como por exemplo os Wide Receivers que vemos nesta ultima tabela. Com as duas colunas mostradas podemos ver que todos eles fizeram apenas 2 passes no máximo. Geralmente essas jogadas são fora do comum, são chamadas de \"trick play\"."
      ]
    },
    {
      "cell_type": "markdown",
      "metadata": {
        "id": "ngDRtfud2VKJ"
      },
      "source": [
        "#### Verificando o tipo da coluna \"Age\""
      ]
    },
    {
      "cell_type": "code",
      "metadata": {
        "id": "oSRlJ3BH2CMR",
        "outputId": "6fa2339d-6a0f-4438-e49c-71bf6dedcd1f",
        "colab": {
          "base_uri": "https://localhost:8080/",
          "height": 173
        }
      },
      "source": [
        "qbs[\"Age\"].describe()"
      ],
      "execution_count": 103,
      "outputs": [
        {
          "output_type": "execute_result",
          "data": {
            "text/plain": [
              "count    611.000000\n",
              "mean      28.154298\n",
              "std        5.364599\n",
              "min       22.032000\n",
              "25%       24.046500\n",
              "50%       26.308000\n",
              "75%       31.219000\n",
              "max       42.148000\n",
              "Name: Age, dtype: float64"
            ]
          },
          "metadata": {
            "tags": []
          },
          "execution_count": 103
        }
      ]
    },
    {
      "cell_type": "code",
      "metadata": {
        "id": "XpJGSd0t2coA",
        "outputId": "d4249aef-fd0e-4bd1-dae4-b5f3a5810735",
        "colab": {
          "base_uri": "https://localhost:8080/",
          "height": 498
        }
      },
      "source": [
        "qbs[qbs[\"Player\"] == \"Kirk Cousins\"][[\"Player\",\"Age\",\"Date\"]]"
      ],
      "execution_count": 104,
      "outputs": [
        {
          "output_type": "execute_result",
          "data": {
            "text/html": [
              "<div>\n",
              "<style scoped>\n",
              "    .dataframe tbody tr th:only-of-type {\n",
              "        vertical-align: middle;\n",
              "    }\n",
              "\n",
              "    .dataframe tbody tr th {\n",
              "        vertical-align: top;\n",
              "    }\n",
              "\n",
              "    .dataframe thead th {\n",
              "        text-align: right;\n",
              "    }\n",
              "</style>\n",
              "<table border=\"1\" class=\"dataframe\">\n",
              "  <thead>\n",
              "    <tr style=\"text-align: right;\">\n",
              "      <th></th>\n",
              "      <th>Player</th>\n",
              "      <th>Age</th>\n",
              "      <th>Date</th>\n",
              "    </tr>\n",
              "  </thead>\n",
              "  <tbody>\n",
              "    <tr>\n",
              "      <th>4</th>\n",
              "      <td>Kirk Cousins</td>\n",
              "      <td>31.020</td>\n",
              "      <td>2019-09-08</td>\n",
              "    </tr>\n",
              "    <tr>\n",
              "      <th>72</th>\n",
              "      <td>Kirk Cousins</td>\n",
              "      <td>31.027</td>\n",
              "      <td>2019-09-15</td>\n",
              "    </tr>\n",
              "    <tr>\n",
              "      <th>86</th>\n",
              "      <td>Kirk Cousins</td>\n",
              "      <td>31.034</td>\n",
              "      <td>2019-09-22</td>\n",
              "    </tr>\n",
              "    <tr>\n",
              "      <th>126</th>\n",
              "      <td>Kirk Cousins</td>\n",
              "      <td>31.041</td>\n",
              "      <td>2019-09-29</td>\n",
              "    </tr>\n",
              "    <tr>\n",
              "      <th>149</th>\n",
              "      <td>Kirk Cousins</td>\n",
              "      <td>31.048</td>\n",
              "      <td>2019-10-06</td>\n",
              "    </tr>\n",
              "    <tr>\n",
              "      <th>186</th>\n",
              "      <td>Kirk Cousins</td>\n",
              "      <td>31.055</td>\n",
              "      <td>2019-10-13</td>\n",
              "    </tr>\n",
              "    <tr>\n",
              "      <th>219</th>\n",
              "      <td>Kirk Cousins</td>\n",
              "      <td>31.062</td>\n",
              "      <td>2019-10-20</td>\n",
              "    </tr>\n",
              "    <tr>\n",
              "      <th>259</th>\n",
              "      <td>Kirk Cousins</td>\n",
              "      <td>31.066</td>\n",
              "      <td>2019-10-24</td>\n",
              "    </tr>\n",
              "    <tr>\n",
              "      <th>298</th>\n",
              "      <td>Kirk Cousins</td>\n",
              "      <td>31.076</td>\n",
              "      <td>2019-11-03</td>\n",
              "    </tr>\n",
              "    <tr>\n",
              "      <th>318</th>\n",
              "      <td>Kirk Cousins</td>\n",
              "      <td>31.083</td>\n",
              "      <td>2019-11-10</td>\n",
              "    </tr>\n",
              "    <tr>\n",
              "      <th>345</th>\n",
              "      <td>Kirk Cousins</td>\n",
              "      <td>31.090</td>\n",
              "      <td>2019-11-17</td>\n",
              "    </tr>\n",
              "    <tr>\n",
              "      <th>433</th>\n",
              "      <td>Kirk Cousins</td>\n",
              "      <td>31.105</td>\n",
              "      <td>2019-12-02</td>\n",
              "    </tr>\n",
              "    <tr>\n",
              "      <th>464</th>\n",
              "      <td>Kirk Cousins</td>\n",
              "      <td>31.111</td>\n",
              "      <td>2019-12-08</td>\n",
              "    </tr>\n",
              "    <tr>\n",
              "      <th>502</th>\n",
              "      <td>Kirk Cousins</td>\n",
              "      <td>31.118</td>\n",
              "      <td>2019-12-15</td>\n",
              "    </tr>\n",
              "    <tr>\n",
              "      <th>566</th>\n",
              "      <td>Kirk Cousins</td>\n",
              "      <td>31.126</td>\n",
              "      <td>2019-12-23</td>\n",
              "    </tr>\n",
              "  </tbody>\n",
              "</table>\n",
              "</div>"
            ],
            "text/plain": [
              "           Player     Age        Date\n",
              "4    Kirk Cousins  31.020  2019-09-08\n",
              "72   Kirk Cousins  31.027  2019-09-15\n",
              "86   Kirk Cousins  31.034  2019-09-22\n",
              "126  Kirk Cousins  31.041  2019-09-29\n",
              "149  Kirk Cousins  31.048  2019-10-06\n",
              "186  Kirk Cousins  31.055  2019-10-13\n",
              "219  Kirk Cousins  31.062  2019-10-20\n",
              "259  Kirk Cousins  31.066  2019-10-24\n",
              "298  Kirk Cousins  31.076  2019-11-03\n",
              "318  Kirk Cousins  31.083  2019-11-10\n",
              "345  Kirk Cousins  31.090  2019-11-17\n",
              "433  Kirk Cousins  31.105  2019-12-02\n",
              "464  Kirk Cousins  31.111  2019-12-08\n",
              "502  Kirk Cousins  31.118  2019-12-15\n",
              "566  Kirk Cousins  31.126  2019-12-23"
            ]
          },
          "metadata": {
            "tags": []
          },
          "execution_count": 104
        }
      ]
    },
    {
      "cell_type": "markdown",
      "metadata": {
        "id": "H0ed-UXP2mpK"
      },
      "source": [
        "Como podemos ver, apesar de idade normalmente ser tratada com inteiro, aqui é mostrada a idade inclusive incluindo a quantidade de meses e dias."
      ]
    },
    {
      "cell_type": "markdown",
      "metadata": {
        "id": "odoMOa7G3ZTC"
      },
      "source": [
        "#### Transformando o tipo da coluna Date"
      ]
    },
    {
      "cell_type": "markdown",
      "metadata": {
        "id": "muQcYAud31rv"
      },
      "source": [
        "Com o describe, vimos que a coluna Date está com o tipo Object. Devemos mudá-la para o tipo correto de datas."
      ]
    },
    {
      "cell_type": "code",
      "metadata": {
        "id": "UKycRAgW3gBy",
        "outputId": "40c951ed-2c8c-49dd-d763-2bf18786ee1c",
        "colab": {
          "base_uri": "https://localhost:8080/",
          "height": 121
        }
      },
      "source": [
        "qbs[\"Date\"].head()"
      ],
      "execution_count": 105,
      "outputs": [
        {
          "output_type": "execute_result",
          "data": {
            "text/plain": [
              "0    2019-09-08\n",
              "1    2019-09-08\n",
              "2    2019-09-08\n",
              "3    2019-09-08\n",
              "4    2019-09-08\n",
              "Name: Date, dtype: object"
            ]
          },
          "metadata": {
            "tags": []
          },
          "execution_count": 105
        }
      ]
    },
    {
      "cell_type": "code",
      "metadata": {
        "id": "Q2IB2Y_a4zqn",
        "outputId": "eb96faa2-e98b-4075-ce23-facdd1ca34f8",
        "colab": {
          "base_uri": "https://localhost:8080/",
          "height": 121
        }
      },
      "source": [
        "qbs[\"Date\"] = pd.to_datetime(qbs[\"Date\"])\n",
        "qbs[\"Date\"].head()"
      ],
      "execution_count": 106,
      "outputs": [
        {
          "output_type": "execute_result",
          "data": {
            "text/plain": [
              "0   2019-09-08\n",
              "1   2019-09-08\n",
              "2   2019-09-08\n",
              "3   2019-09-08\n",
              "4   2019-09-08\n",
              "Name: Date, dtype: datetime64[ns]"
            ]
          },
          "metadata": {
            "tags": []
          },
          "execution_count": 106
        }
      ]
    },
    {
      "cell_type": "markdown",
      "metadata": {
        "id": "Gm1b6K_Q5BmM"
      },
      "source": [
        "#### Verificando a necessidade da coluna League"
      ]
    },
    {
      "cell_type": "code",
      "metadata": {
        "id": "l-flkAx75Mux",
        "outputId": "4bf37f58-cc53-4b01-cb17-09c4e7ef348e",
        "colab": {
          "base_uri": "https://localhost:8080/",
          "height": 35
        }
      },
      "source": [
        "qbs[\"League\"].unique()"
      ],
      "execution_count": 107,
      "outputs": [
        {
          "output_type": "execute_result",
          "data": {
            "text/plain": [
              "array(['NFL'], dtype=object)"
            ]
          },
          "metadata": {
            "tags": []
          },
          "execution_count": 107
        }
      ]
    },
    {
      "cell_type": "markdown",
      "metadata": {
        "id": "lscN4YrM5Shh"
      },
      "source": [
        "Como podemos ver todas as linhas tem o mesmo valor para esta coluna. Como já é sabido que estamos no contexto da NFL, vou retirá-la do dataset."
      ]
    },
    {
      "cell_type": "code",
      "metadata": {
        "id": "kaboQXb85aW_",
        "outputId": "83bea173-7cc4-47cb-a6aa-ae4d5733940d",
        "colab": {
          "base_uri": "https://localhost:8080/",
          "height": 407
        }
      },
      "source": [
        "qbs.drop(columns=['League'])"
      ],
      "execution_count": 108,
      "outputs": [
        {
          "output_type": "execute_result",
          "data": {
            "text/html": [
              "<div>\n",
              "<style scoped>\n",
              "    .dataframe tbody tr th:only-of-type {\n",
              "        vertical-align: middle;\n",
              "    }\n",
              "\n",
              "    .dataframe tbody tr th {\n",
              "        vertical-align: top;\n",
              "    }\n",
              "\n",
              "    .dataframe thead th {\n",
              "        text-align: right;\n",
              "    }\n",
              "</style>\n",
              "<table border=\"1\" class=\"dataframe\">\n",
              "  <thead>\n",
              "    <tr style=\"text-align: right;\">\n",
              "      <th></th>\n",
              "      <th>Rank</th>\n",
              "      <th>Player</th>\n",
              "      <th>Position</th>\n",
              "      <th>Age</th>\n",
              "      <th>Date</th>\n",
              "      <th>Team</th>\n",
              "      <th>Opp</th>\n",
              "      <th>Result</th>\n",
              "      <th>Game</th>\n",
              "      <th>Week</th>\n",
              "      <th>Day</th>\n",
              "      <th>Cmp</th>\n",
              "      <th>Pass_Att</th>\n",
              "      <th>Cmp_Per</th>\n",
              "      <th>Pass_Yards</th>\n",
              "      <th>Pass_TD</th>\n",
              "      <th>Pass_Int</th>\n",
              "      <th>QB_Rate</th>\n",
              "      <th>Sacked</th>\n",
              "      <th>Yds_Lost</th>\n",
              "      <th>Yards_Att</th>\n",
              "      <th>Adj_Yards_Att</th>\n",
              "    </tr>\n",
              "  </thead>\n",
              "  <tbody>\n",
              "    <tr>\n",
              "      <th>0</th>\n",
              "      <td>1</td>\n",
              "      <td>Lamar Jackson</td>\n",
              "      <td>QB</td>\n",
              "      <td>22.244</td>\n",
              "      <td>2019-09-08</td>\n",
              "      <td>BAL</td>\n",
              "      <td>MIA</td>\n",
              "      <td>W 59-10</td>\n",
              "      <td>1</td>\n",
              "      <td>1</td>\n",
              "      <td>Sun</td>\n",
              "      <td>17</td>\n",
              "      <td>20</td>\n",
              "      <td>85.00</td>\n",
              "      <td>324</td>\n",
              "      <td>5</td>\n",
              "      <td>0</td>\n",
              "      <td>158.3</td>\n",
              "      <td>1</td>\n",
              "      <td>1</td>\n",
              "      <td>16.20</td>\n",
              "      <td>16.20</td>\n",
              "    </tr>\n",
              "    <tr>\n",
              "      <th>1</th>\n",
              "      <td>2</td>\n",
              "      <td>Dak Prescott</td>\n",
              "      <td>QB</td>\n",
              "      <td>26.041</td>\n",
              "      <td>2019-09-08</td>\n",
              "      <td>DAL</td>\n",
              "      <td>NYG</td>\n",
              "      <td>W 35-17</td>\n",
              "      <td>1</td>\n",
              "      <td>1</td>\n",
              "      <td>Sun</td>\n",
              "      <td>25</td>\n",
              "      <td>32</td>\n",
              "      <td>78.13</td>\n",
              "      <td>405</td>\n",
              "      <td>4</td>\n",
              "      <td>0</td>\n",
              "      <td>158.3</td>\n",
              "      <td>0</td>\n",
              "      <td>0</td>\n",
              "      <td>12.66</td>\n",
              "      <td>12.66</td>\n",
              "    </tr>\n",
              "    <tr>\n",
              "      <th>2</th>\n",
              "      <td>3</td>\n",
              "      <td>Robert Griffin III</td>\n",
              "      <td>QB</td>\n",
              "      <td>29.208</td>\n",
              "      <td>2019-09-08</td>\n",
              "      <td>BAL</td>\n",
              "      <td>MIA</td>\n",
              "      <td>W 59-10</td>\n",
              "      <td>1</td>\n",
              "      <td>1</td>\n",
              "      <td>Sun</td>\n",
              "      <td>6</td>\n",
              "      <td>6</td>\n",
              "      <td>100.00</td>\n",
              "      <td>55</td>\n",
              "      <td>1</td>\n",
              "      <td>0</td>\n",
              "      <td>144.4</td>\n",
              "      <td>0</td>\n",
              "      <td>0</td>\n",
              "      <td>9.17</td>\n",
              "      <td>9.17</td>\n",
              "    </tr>\n",
              "    <tr>\n",
              "      <th>3</th>\n",
              "      <td>4</td>\n",
              "      <td>Patrick Mahomes</td>\n",
              "      <td>QB</td>\n",
              "      <td>23.356</td>\n",
              "      <td>2019-09-08</td>\n",
              "      <td>KAN</td>\n",
              "      <td>JAX</td>\n",
              "      <td>W 40-26</td>\n",
              "      <td>1</td>\n",
              "      <td>1</td>\n",
              "      <td>Sun</td>\n",
              "      <td>25</td>\n",
              "      <td>33</td>\n",
              "      <td>75.76</td>\n",
              "      <td>378</td>\n",
              "      <td>3</td>\n",
              "      <td>0</td>\n",
              "      <td>143.2</td>\n",
              "      <td>0</td>\n",
              "      <td>0</td>\n",
              "      <td>11.45</td>\n",
              "      <td>11.45</td>\n",
              "    </tr>\n",
              "    <tr>\n",
              "      <th>4</th>\n",
              "      <td>5</td>\n",
              "      <td>Kirk Cousins</td>\n",
              "      <td>QB</td>\n",
              "      <td>31.020</td>\n",
              "      <td>2019-09-08</td>\n",
              "      <td>MIN</td>\n",
              "      <td>ATL</td>\n",
              "      <td>W 28-12</td>\n",
              "      <td>1</td>\n",
              "      <td>1</td>\n",
              "      <td>Sun</td>\n",
              "      <td>8</td>\n",
              "      <td>10</td>\n",
              "      <td>80.00</td>\n",
              "      <td>98</td>\n",
              "      <td>1</td>\n",
              "      <td>0</td>\n",
              "      <td>140.8</td>\n",
              "      <td>1</td>\n",
              "      <td>1</td>\n",
              "      <td>9.80</td>\n",
              "      <td>9.80</td>\n",
              "    </tr>\n",
              "    <tr>\n",
              "      <th>...</th>\n",
              "      <td>...</td>\n",
              "      <td>...</td>\n",
              "      <td>...</td>\n",
              "      <td>...</td>\n",
              "      <td>...</td>\n",
              "      <td>...</td>\n",
              "      <td>...</td>\n",
              "      <td>...</td>\n",
              "      <td>...</td>\n",
              "      <td>...</td>\n",
              "      <td>...</td>\n",
              "      <td>...</td>\n",
              "      <td>...</td>\n",
              "      <td>...</td>\n",
              "      <td>...</td>\n",
              "      <td>...</td>\n",
              "      <td>...</td>\n",
              "      <td>...</td>\n",
              "      <td>...</td>\n",
              "      <td>...</td>\n",
              "      <td>...</td>\n",
              "      <td>...</td>\n",
              "    </tr>\n",
              "    <tr>\n",
              "      <th>606</th>\n",
              "      <td>36</td>\n",
              "      <td>Robert Griffin III</td>\n",
              "      <td>QB</td>\n",
              "      <td>29.320</td>\n",
              "      <td>2019-12-29</td>\n",
              "      <td>BAL</td>\n",
              "      <td>PIT</td>\n",
              "      <td>W 28-10</td>\n",
              "      <td>16</td>\n",
              "      <td>17</td>\n",
              "      <td>Sun</td>\n",
              "      <td>11</td>\n",
              "      <td>21</td>\n",
              "      <td>52.38</td>\n",
              "      <td>96</td>\n",
              "      <td>0</td>\n",
              "      <td>1</td>\n",
              "      <td>44.9</td>\n",
              "      <td>3</td>\n",
              "      <td>15</td>\n",
              "      <td>4.57</td>\n",
              "      <td>4.57</td>\n",
              "    </tr>\n",
              "    <tr>\n",
              "      <th>607</th>\n",
              "      <td>37</td>\n",
              "      <td>David Blough</td>\n",
              "      <td>QB</td>\n",
              "      <td>24.151</td>\n",
              "      <td>2019-12-29</td>\n",
              "      <td>DET</td>\n",
              "      <td>GNB</td>\n",
              "      <td>L 20-23</td>\n",
              "      <td>16</td>\n",
              "      <td>17</td>\n",
              "      <td>Sun</td>\n",
              "      <td>12</td>\n",
              "      <td>29</td>\n",
              "      <td>41.38</td>\n",
              "      <td>122</td>\n",
              "      <td>0</td>\n",
              "      <td>1</td>\n",
              "      <td>39.7</td>\n",
              "      <td>1</td>\n",
              "      <td>7</td>\n",
              "      <td>4.21</td>\n",
              "      <td>4.21</td>\n",
              "    </tr>\n",
              "    <tr>\n",
              "      <th>608</th>\n",
              "      <td>38</td>\n",
              "      <td>Matt Haack</td>\n",
              "      <td>P</td>\n",
              "      <td>25.187</td>\n",
              "      <td>2019-12-29</td>\n",
              "      <td>MIA</td>\n",
              "      <td>NWE</td>\n",
              "      <td>W 27-24</td>\n",
              "      <td>16</td>\n",
              "      <td>17</td>\n",
              "      <td>Sun</td>\n",
              "      <td>0</td>\n",
              "      <td>1</td>\n",
              "      <td>0.00</td>\n",
              "      <td>0</td>\n",
              "      <td>0</td>\n",
              "      <td>0</td>\n",
              "      <td>39.6</td>\n",
              "      <td>0</td>\n",
              "      <td>0</td>\n",
              "      <td>0.00</td>\n",
              "      <td>0.00</td>\n",
              "    </tr>\n",
              "    <tr>\n",
              "      <th>609</th>\n",
              "      <td>39</td>\n",
              "      <td>Sean Mannion</td>\n",
              "      <td>QB</td>\n",
              "      <td>27.248</td>\n",
              "      <td>2019-12-29</td>\n",
              "      <td>MIN</td>\n",
              "      <td>CHI</td>\n",
              "      <td>L 19-21</td>\n",
              "      <td>16</td>\n",
              "      <td>17</td>\n",
              "      <td>Sun</td>\n",
              "      <td>12</td>\n",
              "      <td>21</td>\n",
              "      <td>57.14</td>\n",
              "      <td>126</td>\n",
              "      <td>0</td>\n",
              "      <td>2</td>\n",
              "      <td>35.1</td>\n",
              "      <td>0</td>\n",
              "      <td>0</td>\n",
              "      <td>6.00</td>\n",
              "      <td>6.00</td>\n",
              "    </tr>\n",
              "    <tr>\n",
              "      <th>610</th>\n",
              "      <td>40</td>\n",
              "      <td>Will Grier</td>\n",
              "      <td>QB</td>\n",
              "      <td>24.270</td>\n",
              "      <td>2019-12-29</td>\n",
              "      <td>CAR</td>\n",
              "      <td>NOR</td>\n",
              "      <td>L 10-42</td>\n",
              "      <td>16</td>\n",
              "      <td>17</td>\n",
              "      <td>Sun</td>\n",
              "      <td>1</td>\n",
              "      <td>8</td>\n",
              "      <td>12.50</td>\n",
              "      <td>4</td>\n",
              "      <td>0</td>\n",
              "      <td>1</td>\n",
              "      <td>0.0</td>\n",
              "      <td>1</td>\n",
              "      <td>7</td>\n",
              "      <td>0.50</td>\n",
              "      <td>0.50</td>\n",
              "    </tr>\n",
              "  </tbody>\n",
              "</table>\n",
              "<p>611 rows × 22 columns</p>\n",
              "</div>"
            ],
            "text/plain": [
              "     Rank              Player Position  ...  Yds_Lost Yards_Att Adj_Yards_Att\n",
              "0       1       Lamar Jackson       QB  ...         1     16.20         16.20\n",
              "1       2        Dak Prescott       QB  ...         0     12.66         12.66\n",
              "2       3  Robert Griffin III       QB  ...         0      9.17          9.17\n",
              "3       4     Patrick Mahomes       QB  ...         0     11.45         11.45\n",
              "4       5        Kirk Cousins       QB  ...         1      9.80          9.80\n",
              "..    ...                 ...      ...  ...       ...       ...           ...\n",
              "606    36  Robert Griffin III       QB  ...        15      4.57          4.57\n",
              "607    37        David Blough       QB  ...         7      4.21          4.21\n",
              "608    38          Matt Haack        P  ...         0      0.00          0.00\n",
              "609    39        Sean Mannion       QB  ...         0      6.00          6.00\n",
              "610    40          Will Grier       QB  ...         7      0.50          0.50\n",
              "\n",
              "[611 rows x 22 columns]"
            ]
          },
          "metadata": {
            "tags": []
          },
          "execution_count": 108
        }
      ]
    },
    {
      "cell_type": "markdown",
      "metadata": {
        "id": "ffDTy1DrDchE"
      },
      "source": [
        "#### Separar dados da coluna Result"
      ]
    },
    {
      "cell_type": "code",
      "metadata": {
        "id": "e_WKHtKbDrbr",
        "outputId": "4d4ed51a-488d-4ef4-93de-26c30bc040d5",
        "colab": {
          "base_uri": "https://localhost:8080/",
          "height": 121
        }
      },
      "source": [
        "qbs[\"Result\"].head()"
      ],
      "execution_count": 109,
      "outputs": [
        {
          "output_type": "execute_result",
          "data": {
            "text/plain": [
              "0    W 59-10\n",
              "1    W 35-17\n",
              "2    W 59-10\n",
              "3    W 40-26\n",
              "4    W 28-12\n",
              "Name: Result, dtype: object"
            ]
          },
          "metadata": {
            "tags": []
          },
          "execution_count": 109
        }
      ]
    },
    {
      "cell_type": "markdown",
      "metadata": {
        "id": "ozX2NesDDwIu"
      },
      "source": [
        "A coluna result contem 3 informaçoes: O resultado final do jogo para o jogador, a quantidade de pontos feitos e a quantidade de pontos recebidos. Vamos separar esses dados em 3 colunas distintas"
      ]
    },
    {
      "cell_type": "code",
      "metadata": {
        "id": "Yz2bQiNhDv5Y",
        "outputId": "92378a17-a10b-4351-c81b-4be8c5844e7e",
        "colab": {
          "base_uri": "https://localhost:8080/",
          "height": 190
        }
      },
      "source": [
        "import re\n",
        "parsed_results = qbs[\"Result\"].map(lambda result: re.findall('(.+) (\\d+)-(\\d+)', result)[0])\n",
        "qbs['Game_result'] = parsed_results.map(lambda parsed: parsed[0])\n",
        "qbs['Points_scored'] = parsed_results.map(lambda parsed: parsed[1])\n",
        "qbs['Points_Taken'] = parsed_results.map(lambda parsed: parsed[2])\n",
        "\n",
        "qbs[['Game_result', 'Points_scored', 'Points_Taken']].info()"
      ],
      "execution_count": 110,
      "outputs": [
        {
          "output_type": "stream",
          "text": [
            "<class 'pandas.core.frame.DataFrame'>\n",
            "RangeIndex: 611 entries, 0 to 610\n",
            "Data columns (total 3 columns):\n",
            " #   Column         Non-Null Count  Dtype \n",
            "---  ------         --------------  ----- \n",
            " 0   Game_result    611 non-null    object\n",
            " 1   Points_scored  611 non-null    object\n",
            " 2   Points_Taken   611 non-null    object\n",
            "dtypes: object(3)\n",
            "memory usage: 14.4+ KB\n"
          ],
          "name": "stdout"
        }
      ]
    },
    {
      "cell_type": "markdown",
      "metadata": {
        "id": "1p2rqO05LY15"
      },
      "source": [
        "Após dividir as informaçoes, vamos mudar o tipo para inteiro e apagar a coluna que foi dividida."
      ]
    },
    {
      "cell_type": "code",
      "metadata": {
        "id": "5L0VQoa5IDR1",
        "outputId": "9c9b4f29-6d89-41d8-f6fe-da6b8934c4c6",
        "colab": {
          "base_uri": "https://localhost:8080/",
          "height": 190
        }
      },
      "source": [
        "qbs['Points_scored'] = pd.to_numeric(qbs['Points_scored'])\n",
        "qbs['Points_Taken'] = pd.to_numeric(qbs['Points_Taken'])\n",
        "qbs[['Game_result', 'Points_scored', 'Points_Taken']].info()"
      ],
      "execution_count": 111,
      "outputs": [
        {
          "output_type": "stream",
          "text": [
            "<class 'pandas.core.frame.DataFrame'>\n",
            "RangeIndex: 611 entries, 0 to 610\n",
            "Data columns (total 3 columns):\n",
            " #   Column         Non-Null Count  Dtype \n",
            "---  ------         --------------  ----- \n",
            " 0   Game_result    611 non-null    object\n",
            " 1   Points_scored  611 non-null    int64 \n",
            " 2   Points_Taken   611 non-null    int64 \n",
            "dtypes: int64(2), object(1)\n",
            "memory usage: 14.4+ KB\n"
          ],
          "name": "stdout"
        }
      ]
    },
    {
      "cell_type": "code",
      "metadata": {
        "id": "q1poBOk9LhJr"
      },
      "source": [
        "qbs = qbs.drop(columns=['Result'])"
      ],
      "execution_count": 112,
      "outputs": []
    },
    {
      "cell_type": "markdown",
      "metadata": {
        "id": "YmLnlHgpLp4a"
      },
      "source": [
        "### Resultado final\n"
      ]
    },
    {
      "cell_type": "code",
      "metadata": {
        "id": "-CeyUYc5Lsaa",
        "outputId": "50fe47bd-2d31-4050-fcb4-f1a636327b99",
        "colab": {
          "base_uri": "https://localhost:8080/",
          "height": 285
        }
      },
      "source": [
        "qbs.head()"
      ],
      "execution_count": 113,
      "outputs": [
        {
          "output_type": "execute_result",
          "data": {
            "text/html": [
              "<div>\n",
              "<style scoped>\n",
              "    .dataframe tbody tr th:only-of-type {\n",
              "        vertical-align: middle;\n",
              "    }\n",
              "\n",
              "    .dataframe tbody tr th {\n",
              "        vertical-align: top;\n",
              "    }\n",
              "\n",
              "    .dataframe thead th {\n",
              "        text-align: right;\n",
              "    }\n",
              "</style>\n",
              "<table border=\"1\" class=\"dataframe\">\n",
              "  <thead>\n",
              "    <tr style=\"text-align: right;\">\n",
              "      <th></th>\n",
              "      <th>Rank</th>\n",
              "      <th>Player</th>\n",
              "      <th>Position</th>\n",
              "      <th>Age</th>\n",
              "      <th>Date</th>\n",
              "      <th>League</th>\n",
              "      <th>Team</th>\n",
              "      <th>Opp</th>\n",
              "      <th>Game</th>\n",
              "      <th>Week</th>\n",
              "      <th>Day</th>\n",
              "      <th>Cmp</th>\n",
              "      <th>Pass_Att</th>\n",
              "      <th>Cmp_Per</th>\n",
              "      <th>Pass_Yards</th>\n",
              "      <th>Pass_TD</th>\n",
              "      <th>Pass_Int</th>\n",
              "      <th>QB_Rate</th>\n",
              "      <th>Sacked</th>\n",
              "      <th>Yds_Lost</th>\n",
              "      <th>Yards_Att</th>\n",
              "      <th>Adj_Yards_Att</th>\n",
              "      <th>Game_result</th>\n",
              "      <th>Points_scored</th>\n",
              "      <th>Points_Taken</th>\n",
              "    </tr>\n",
              "  </thead>\n",
              "  <tbody>\n",
              "    <tr>\n",
              "      <th>0</th>\n",
              "      <td>1</td>\n",
              "      <td>Lamar Jackson</td>\n",
              "      <td>QB</td>\n",
              "      <td>22.244</td>\n",
              "      <td>2019-09-08</td>\n",
              "      <td>NFL</td>\n",
              "      <td>BAL</td>\n",
              "      <td>MIA</td>\n",
              "      <td>1</td>\n",
              "      <td>1</td>\n",
              "      <td>Sun</td>\n",
              "      <td>17</td>\n",
              "      <td>20</td>\n",
              "      <td>85.00</td>\n",
              "      <td>324</td>\n",
              "      <td>5</td>\n",
              "      <td>0</td>\n",
              "      <td>158.3</td>\n",
              "      <td>1</td>\n",
              "      <td>1</td>\n",
              "      <td>16.20</td>\n",
              "      <td>16.20</td>\n",
              "      <td>W</td>\n",
              "      <td>59</td>\n",
              "      <td>10</td>\n",
              "    </tr>\n",
              "    <tr>\n",
              "      <th>1</th>\n",
              "      <td>2</td>\n",
              "      <td>Dak Prescott</td>\n",
              "      <td>QB</td>\n",
              "      <td>26.041</td>\n",
              "      <td>2019-09-08</td>\n",
              "      <td>NFL</td>\n",
              "      <td>DAL</td>\n",
              "      <td>NYG</td>\n",
              "      <td>1</td>\n",
              "      <td>1</td>\n",
              "      <td>Sun</td>\n",
              "      <td>25</td>\n",
              "      <td>32</td>\n",
              "      <td>78.13</td>\n",
              "      <td>405</td>\n",
              "      <td>4</td>\n",
              "      <td>0</td>\n",
              "      <td>158.3</td>\n",
              "      <td>0</td>\n",
              "      <td>0</td>\n",
              "      <td>12.66</td>\n",
              "      <td>12.66</td>\n",
              "      <td>W</td>\n",
              "      <td>35</td>\n",
              "      <td>17</td>\n",
              "    </tr>\n",
              "    <tr>\n",
              "      <th>2</th>\n",
              "      <td>3</td>\n",
              "      <td>Robert Griffin III</td>\n",
              "      <td>QB</td>\n",
              "      <td>29.208</td>\n",
              "      <td>2019-09-08</td>\n",
              "      <td>NFL</td>\n",
              "      <td>BAL</td>\n",
              "      <td>MIA</td>\n",
              "      <td>1</td>\n",
              "      <td>1</td>\n",
              "      <td>Sun</td>\n",
              "      <td>6</td>\n",
              "      <td>6</td>\n",
              "      <td>100.00</td>\n",
              "      <td>55</td>\n",
              "      <td>1</td>\n",
              "      <td>0</td>\n",
              "      <td>144.4</td>\n",
              "      <td>0</td>\n",
              "      <td>0</td>\n",
              "      <td>9.17</td>\n",
              "      <td>9.17</td>\n",
              "      <td>W</td>\n",
              "      <td>59</td>\n",
              "      <td>10</td>\n",
              "    </tr>\n",
              "    <tr>\n",
              "      <th>3</th>\n",
              "      <td>4</td>\n",
              "      <td>Patrick Mahomes</td>\n",
              "      <td>QB</td>\n",
              "      <td>23.356</td>\n",
              "      <td>2019-09-08</td>\n",
              "      <td>NFL</td>\n",
              "      <td>KAN</td>\n",
              "      <td>JAX</td>\n",
              "      <td>1</td>\n",
              "      <td>1</td>\n",
              "      <td>Sun</td>\n",
              "      <td>25</td>\n",
              "      <td>33</td>\n",
              "      <td>75.76</td>\n",
              "      <td>378</td>\n",
              "      <td>3</td>\n",
              "      <td>0</td>\n",
              "      <td>143.2</td>\n",
              "      <td>0</td>\n",
              "      <td>0</td>\n",
              "      <td>11.45</td>\n",
              "      <td>11.45</td>\n",
              "      <td>W</td>\n",
              "      <td>40</td>\n",
              "      <td>26</td>\n",
              "    </tr>\n",
              "    <tr>\n",
              "      <th>4</th>\n",
              "      <td>5</td>\n",
              "      <td>Kirk Cousins</td>\n",
              "      <td>QB</td>\n",
              "      <td>31.020</td>\n",
              "      <td>2019-09-08</td>\n",
              "      <td>NFL</td>\n",
              "      <td>MIN</td>\n",
              "      <td>ATL</td>\n",
              "      <td>1</td>\n",
              "      <td>1</td>\n",
              "      <td>Sun</td>\n",
              "      <td>8</td>\n",
              "      <td>10</td>\n",
              "      <td>80.00</td>\n",
              "      <td>98</td>\n",
              "      <td>1</td>\n",
              "      <td>0</td>\n",
              "      <td>140.8</td>\n",
              "      <td>1</td>\n",
              "      <td>1</td>\n",
              "      <td>9.80</td>\n",
              "      <td>9.80</td>\n",
              "      <td>W</td>\n",
              "      <td>28</td>\n",
              "      <td>12</td>\n",
              "    </tr>\n",
              "  </tbody>\n",
              "</table>\n",
              "</div>"
            ],
            "text/plain": [
              "   Rank              Player Position  ...  Game_result Points_scored Points_Taken\n",
              "0     1       Lamar Jackson       QB  ...            W            59           10\n",
              "1     2        Dak Prescott       QB  ...            W            35           17\n",
              "2     3  Robert Griffin III       QB  ...            W            59           10\n",
              "3     4     Patrick Mahomes       QB  ...            W            40           26\n",
              "4     5        Kirk Cousins       QB  ...            W            28           12\n",
              "\n",
              "[5 rows x 25 columns]"
            ]
          },
          "metadata": {
            "tags": []
          },
          "execution_count": 113
        }
      ]
    },
    {
      "cell_type": "code",
      "metadata": {
        "id": "C0NRjB1sLvTO",
        "outputId": "a85bf434-32b5-4513-f0bf-28d751d93deb",
        "colab": {
          "base_uri": "https://localhost:8080/",
          "height": 570
        }
      },
      "source": [
        "qbs.info()"
      ],
      "execution_count": 114,
      "outputs": [
        {
          "output_type": "stream",
          "text": [
            "<class 'pandas.core.frame.DataFrame'>\n",
            "RangeIndex: 611 entries, 0 to 610\n",
            "Data columns (total 25 columns):\n",
            " #   Column         Non-Null Count  Dtype         \n",
            "---  ------         --------------  -----         \n",
            " 0   Rank           611 non-null    int64         \n",
            " 1   Player         611 non-null    object        \n",
            " 2   Position       611 non-null    object        \n",
            " 3   Age            611 non-null    float64       \n",
            " 4   Date           611 non-null    datetime64[ns]\n",
            " 5   League         611 non-null    object        \n",
            " 6   Team           611 non-null    object        \n",
            " 7   Opp            611 non-null    object        \n",
            " 8   Game           611 non-null    int64         \n",
            " 9   Week           611 non-null    int64         \n",
            " 10  Day            611 non-null    object        \n",
            " 11  Cmp            611 non-null    int64         \n",
            " 12  Pass_Att       611 non-null    int64         \n",
            " 13  Cmp_Per        611 non-null    float64       \n",
            " 14  Pass_Yards     611 non-null    int64         \n",
            " 15  Pass_TD        611 non-null    int64         \n",
            " 16  Pass_Int       611 non-null    int64         \n",
            " 17  QB_Rate        611 non-null    float64       \n",
            " 18  Sacked         611 non-null    int64         \n",
            " 19  Yds_Lost       611 non-null    int64         \n",
            " 20  Yards_Att      611 non-null    float64       \n",
            " 21  Adj_Yards_Att  611 non-null    float64       \n",
            " 22  Game_result    611 non-null    object        \n",
            " 23  Points_scored  611 non-null    int64         \n",
            " 24  Points_Taken   611 non-null    int64         \n",
            "dtypes: datetime64[ns](1), float64(5), int64(12), object(7)\n",
            "memory usage: 119.5+ KB\n"
          ],
          "name": "stdout"
        }
      ]
    },
    {
      "cell_type": "markdown",
      "metadata": {
        "id": "FHlFU5wsHFlV"
      },
      "source": [
        "## Analisando os dados"
      ]
    },
    {
      "cell_type": "markdown",
      "metadata": {
        "id": "HfqB8ys1HeV1"
      },
      "source": [
        "### Os mais bem rankeados"
      ]
    },
    {
      "cell_type": "markdown",
      "metadata": {
        "id": "WEUr3BiYHohI"
      },
      "source": [
        "Primeiramente vamos ver quais foram os qbs mais bem rankeados na temporada. Para isso, vamos agrupar os dados por jogador."
      ]
    },
    {
      "cell_type": "code",
      "metadata": {
        "id": "sks9eJqzHVIu",
        "outputId": "dcf8524e-d0b5-484c-ad5b-1ed38d2abf2f",
        "colab": {
          "base_uri": "https://localhost:8080/",
          "height": 580
        }
      },
      "source": [
        "all_players_qb_stats = qbs.groupby(['Player', 'Position'])\n",
        "all_players_qb_stats.head()"
      ],
      "execution_count": 115,
      "outputs": [
        {
          "output_type": "execute_result",
          "data": {
            "text/html": [
              "<div>\n",
              "<style scoped>\n",
              "    .dataframe tbody tr th:only-of-type {\n",
              "        vertical-align: middle;\n",
              "    }\n",
              "\n",
              "    .dataframe tbody tr th {\n",
              "        vertical-align: top;\n",
              "    }\n",
              "\n",
              "    .dataframe thead th {\n",
              "        text-align: right;\n",
              "    }\n",
              "</style>\n",
              "<table border=\"1\" class=\"dataframe\">\n",
              "  <thead>\n",
              "    <tr style=\"text-align: right;\">\n",
              "      <th></th>\n",
              "      <th>Rank</th>\n",
              "      <th>Player</th>\n",
              "      <th>Position</th>\n",
              "      <th>Age</th>\n",
              "      <th>Date</th>\n",
              "      <th>League</th>\n",
              "      <th>Team</th>\n",
              "      <th>Opp</th>\n",
              "      <th>Game</th>\n",
              "      <th>Week</th>\n",
              "      <th>Day</th>\n",
              "      <th>Cmp</th>\n",
              "      <th>Pass_Att</th>\n",
              "      <th>Cmp_Per</th>\n",
              "      <th>Pass_Yards</th>\n",
              "      <th>Pass_TD</th>\n",
              "      <th>Pass_Int</th>\n",
              "      <th>QB_Rate</th>\n",
              "      <th>Sacked</th>\n",
              "      <th>Yds_Lost</th>\n",
              "      <th>Yards_Att</th>\n",
              "      <th>Adj_Yards_Att</th>\n",
              "      <th>Game_result</th>\n",
              "      <th>Points_scored</th>\n",
              "      <th>Points_Taken</th>\n",
              "    </tr>\n",
              "  </thead>\n",
              "  <tbody>\n",
              "    <tr>\n",
              "      <th>0</th>\n",
              "      <td>1</td>\n",
              "      <td>Lamar Jackson</td>\n",
              "      <td>QB</td>\n",
              "      <td>22.244</td>\n",
              "      <td>2019-09-08</td>\n",
              "      <td>NFL</td>\n",
              "      <td>BAL</td>\n",
              "      <td>MIA</td>\n",
              "      <td>1</td>\n",
              "      <td>1</td>\n",
              "      <td>Sun</td>\n",
              "      <td>17</td>\n",
              "      <td>20</td>\n",
              "      <td>85.00</td>\n",
              "      <td>324</td>\n",
              "      <td>5</td>\n",
              "      <td>0</td>\n",
              "      <td>158.3</td>\n",
              "      <td>1</td>\n",
              "      <td>1</td>\n",
              "      <td>16.20</td>\n",
              "      <td>16.20</td>\n",
              "      <td>W</td>\n",
              "      <td>59</td>\n",
              "      <td>10</td>\n",
              "    </tr>\n",
              "    <tr>\n",
              "      <th>1</th>\n",
              "      <td>2</td>\n",
              "      <td>Dak Prescott</td>\n",
              "      <td>QB</td>\n",
              "      <td>26.041</td>\n",
              "      <td>2019-09-08</td>\n",
              "      <td>NFL</td>\n",
              "      <td>DAL</td>\n",
              "      <td>NYG</td>\n",
              "      <td>1</td>\n",
              "      <td>1</td>\n",
              "      <td>Sun</td>\n",
              "      <td>25</td>\n",
              "      <td>32</td>\n",
              "      <td>78.13</td>\n",
              "      <td>405</td>\n",
              "      <td>4</td>\n",
              "      <td>0</td>\n",
              "      <td>158.3</td>\n",
              "      <td>0</td>\n",
              "      <td>0</td>\n",
              "      <td>12.66</td>\n",
              "      <td>12.66</td>\n",
              "      <td>W</td>\n",
              "      <td>35</td>\n",
              "      <td>17</td>\n",
              "    </tr>\n",
              "    <tr>\n",
              "      <th>2</th>\n",
              "      <td>3</td>\n",
              "      <td>Robert Griffin III</td>\n",
              "      <td>QB</td>\n",
              "      <td>29.208</td>\n",
              "      <td>2019-09-08</td>\n",
              "      <td>NFL</td>\n",
              "      <td>BAL</td>\n",
              "      <td>MIA</td>\n",
              "      <td>1</td>\n",
              "      <td>1</td>\n",
              "      <td>Sun</td>\n",
              "      <td>6</td>\n",
              "      <td>6</td>\n",
              "      <td>100.00</td>\n",
              "      <td>55</td>\n",
              "      <td>1</td>\n",
              "      <td>0</td>\n",
              "      <td>144.4</td>\n",
              "      <td>0</td>\n",
              "      <td>0</td>\n",
              "      <td>9.17</td>\n",
              "      <td>9.17</td>\n",
              "      <td>W</td>\n",
              "      <td>59</td>\n",
              "      <td>10</td>\n",
              "    </tr>\n",
              "    <tr>\n",
              "      <th>3</th>\n",
              "      <td>4</td>\n",
              "      <td>Patrick Mahomes</td>\n",
              "      <td>QB</td>\n",
              "      <td>23.356</td>\n",
              "      <td>2019-09-08</td>\n",
              "      <td>NFL</td>\n",
              "      <td>KAN</td>\n",
              "      <td>JAX</td>\n",
              "      <td>1</td>\n",
              "      <td>1</td>\n",
              "      <td>Sun</td>\n",
              "      <td>25</td>\n",
              "      <td>33</td>\n",
              "      <td>75.76</td>\n",
              "      <td>378</td>\n",
              "      <td>3</td>\n",
              "      <td>0</td>\n",
              "      <td>143.2</td>\n",
              "      <td>0</td>\n",
              "      <td>0</td>\n",
              "      <td>11.45</td>\n",
              "      <td>11.45</td>\n",
              "      <td>W</td>\n",
              "      <td>40</td>\n",
              "      <td>26</td>\n",
              "    </tr>\n",
              "    <tr>\n",
              "      <th>4</th>\n",
              "      <td>5</td>\n",
              "      <td>Kirk Cousins</td>\n",
              "      <td>QB</td>\n",
              "      <td>31.020</td>\n",
              "      <td>2019-09-08</td>\n",
              "      <td>NFL</td>\n",
              "      <td>MIN</td>\n",
              "      <td>ATL</td>\n",
              "      <td>1</td>\n",
              "      <td>1</td>\n",
              "      <td>Sun</td>\n",
              "      <td>8</td>\n",
              "      <td>10</td>\n",
              "      <td>80.00</td>\n",
              "      <td>98</td>\n",
              "      <td>1</td>\n",
              "      <td>0</td>\n",
              "      <td>140.8</td>\n",
              "      <td>1</td>\n",
              "      <td>1</td>\n",
              "      <td>9.80</td>\n",
              "      <td>9.80</td>\n",
              "      <td>W</td>\n",
              "      <td>28</td>\n",
              "      <td>12</td>\n",
              "    </tr>\n",
              "    <tr>\n",
              "      <th>...</th>\n",
              "      <td>...</td>\n",
              "      <td>...</td>\n",
              "      <td>...</td>\n",
              "      <td>...</td>\n",
              "      <td>...</td>\n",
              "      <td>...</td>\n",
              "      <td>...</td>\n",
              "      <td>...</td>\n",
              "      <td>...</td>\n",
              "      <td>...</td>\n",
              "      <td>...</td>\n",
              "      <td>...</td>\n",
              "      <td>...</td>\n",
              "      <td>...</td>\n",
              "      <td>...</td>\n",
              "      <td>...</td>\n",
              "      <td>...</td>\n",
              "      <td>...</td>\n",
              "      <td>...</td>\n",
              "      <td>...</td>\n",
              "      <td>...</td>\n",
              "      <td>...</td>\n",
              "      <td>...</td>\n",
              "      <td>...</td>\n",
              "      <td>...</td>\n",
              "    </tr>\n",
              "    <tr>\n",
              "      <th>604</th>\n",
              "      <td>34</td>\n",
              "      <td>Matt Barkley</td>\n",
              "      <td>QB</td>\n",
              "      <td>29.112</td>\n",
              "      <td>2019-12-29</td>\n",
              "      <td>NFL</td>\n",
              "      <td>BUF</td>\n",
              "      <td>NYJ</td>\n",
              "      <td>16</td>\n",
              "      <td>17</td>\n",
              "      <td>Sun</td>\n",
              "      <td>18</td>\n",
              "      <td>35</td>\n",
              "      <td>51.43</td>\n",
              "      <td>232</td>\n",
              "      <td>0</td>\n",
              "      <td>2</td>\n",
              "      <td>48.8</td>\n",
              "      <td>1</td>\n",
              "      <td>1</td>\n",
              "      <td>6.63</td>\n",
              "      <td>6.63</td>\n",
              "      <td>L</td>\n",
              "      <td>6</td>\n",
              "      <td>13</td>\n",
              "    </tr>\n",
              "    <tr>\n",
              "      <th>607</th>\n",
              "      <td>37</td>\n",
              "      <td>David Blough</td>\n",
              "      <td>QB</td>\n",
              "      <td>24.151</td>\n",
              "      <td>2019-12-29</td>\n",
              "      <td>NFL</td>\n",
              "      <td>DET</td>\n",
              "      <td>GNB</td>\n",
              "      <td>16</td>\n",
              "      <td>17</td>\n",
              "      <td>Sun</td>\n",
              "      <td>12</td>\n",
              "      <td>29</td>\n",
              "      <td>41.38</td>\n",
              "      <td>122</td>\n",
              "      <td>0</td>\n",
              "      <td>1</td>\n",
              "      <td>39.7</td>\n",
              "      <td>1</td>\n",
              "      <td>7</td>\n",
              "      <td>4.21</td>\n",
              "      <td>4.21</td>\n",
              "      <td>L</td>\n",
              "      <td>20</td>\n",
              "      <td>23</td>\n",
              "    </tr>\n",
              "    <tr>\n",
              "      <th>608</th>\n",
              "      <td>38</td>\n",
              "      <td>Matt Haack</td>\n",
              "      <td>P</td>\n",
              "      <td>25.187</td>\n",
              "      <td>2019-12-29</td>\n",
              "      <td>NFL</td>\n",
              "      <td>MIA</td>\n",
              "      <td>NWE</td>\n",
              "      <td>16</td>\n",
              "      <td>17</td>\n",
              "      <td>Sun</td>\n",
              "      <td>0</td>\n",
              "      <td>1</td>\n",
              "      <td>0.00</td>\n",
              "      <td>0</td>\n",
              "      <td>0</td>\n",
              "      <td>0</td>\n",
              "      <td>39.6</td>\n",
              "      <td>0</td>\n",
              "      <td>0</td>\n",
              "      <td>0.00</td>\n",
              "      <td>0.00</td>\n",
              "      <td>W</td>\n",
              "      <td>27</td>\n",
              "      <td>24</td>\n",
              "    </tr>\n",
              "    <tr>\n",
              "      <th>609</th>\n",
              "      <td>39</td>\n",
              "      <td>Sean Mannion</td>\n",
              "      <td>QB</td>\n",
              "      <td>27.248</td>\n",
              "      <td>2019-12-29</td>\n",
              "      <td>NFL</td>\n",
              "      <td>MIN</td>\n",
              "      <td>CHI</td>\n",
              "      <td>16</td>\n",
              "      <td>17</td>\n",
              "      <td>Sun</td>\n",
              "      <td>12</td>\n",
              "      <td>21</td>\n",
              "      <td>57.14</td>\n",
              "      <td>126</td>\n",
              "      <td>0</td>\n",
              "      <td>2</td>\n",
              "      <td>35.1</td>\n",
              "      <td>0</td>\n",
              "      <td>0</td>\n",
              "      <td>6.00</td>\n",
              "      <td>6.00</td>\n",
              "      <td>L</td>\n",
              "      <td>19</td>\n",
              "      <td>21</td>\n",
              "    </tr>\n",
              "    <tr>\n",
              "      <th>610</th>\n",
              "      <td>40</td>\n",
              "      <td>Will Grier</td>\n",
              "      <td>QB</td>\n",
              "      <td>24.270</td>\n",
              "      <td>2019-12-29</td>\n",
              "      <td>NFL</td>\n",
              "      <td>CAR</td>\n",
              "      <td>NOR</td>\n",
              "      <td>16</td>\n",
              "      <td>17</td>\n",
              "      <td>Sun</td>\n",
              "      <td>1</td>\n",
              "      <td>8</td>\n",
              "      <td>12.50</td>\n",
              "      <td>4</td>\n",
              "      <td>0</td>\n",
              "      <td>1</td>\n",
              "      <td>0.0</td>\n",
              "      <td>1</td>\n",
              "      <td>7</td>\n",
              "      <td>0.50</td>\n",
              "      <td>0.50</td>\n",
              "      <td>L</td>\n",
              "      <td>10</td>\n",
              "      <td>42</td>\n",
              "    </tr>\n",
              "  </tbody>\n",
              "</table>\n",
              "<p>309 rows × 25 columns</p>\n",
              "</div>"
            ],
            "text/plain": [
              "     Rank              Player Position  ...  Game_result Points_scored Points_Taken\n",
              "0       1       Lamar Jackson       QB  ...            W            59           10\n",
              "1       2        Dak Prescott       QB  ...            W            35           17\n",
              "2       3  Robert Griffin III       QB  ...            W            59           10\n",
              "3       4     Patrick Mahomes       QB  ...            W            40           26\n",
              "4       5        Kirk Cousins       QB  ...            W            28           12\n",
              "..    ...                 ...      ...  ...          ...           ...          ...\n",
              "604    34        Matt Barkley       QB  ...            L             6           13\n",
              "607    37        David Blough       QB  ...            L            20           23\n",
              "608    38          Matt Haack        P  ...            W            27           24\n",
              "609    39        Sean Mannion       QB  ...            L            19           21\n",
              "610    40          Will Grier       QB  ...            L            10           42\n",
              "\n",
              "[309 rows x 25 columns]"
            ]
          },
          "metadata": {
            "tags": []
          },
          "execution_count": 115
        }
      ]
    },
    {
      "cell_type": "markdown",
      "metadata": {
        "id": "MKuV0GCAI6rL"
      },
      "source": [
        "Primeiramente, podemos observar a coluna de QB_Rate, que trás o Passer Rating do jogador em cada uma das partidas que ele jogou. \n",
        "\n",
        "O cáculo deste número é definido pela liga e leva em comparaçao atributos como o número de passes tentados, de passes completos, touchdowns, etc. O interessante desta métrica é que seu valor máximo é de **158,3**, e seu valor mínimo, **0**.\n",
        "\n",
        "Para mais informações sobre como é feito seu cálculo https://pt.wikipedia.org/wiki/Passer_rating\n"
      ]
    },
    {
      "cell_type": "code",
      "metadata": {
        "id": "b6pG2YdRIVvN",
        "outputId": "b8598324-24ca-44b9-8106-f47d156e01f5",
        "colab": {
          "base_uri": "https://localhost:8080/",
          "height": 506
        }
      },
      "source": [
        "all_players_qb_stats['Player', 'Position', 'QB_Rate'].mean().sort_values(['QB_Rate'],ascending=False)"
      ],
      "execution_count": 116,
      "outputs": [
        {
          "output_type": "stream",
          "text": [
            "/usr/local/lib/python3.6/dist-packages/ipykernel_launcher.py:1: FutureWarning:\n",
            "\n",
            "Indexing with multiple keys (implicitly converted to a tuple of keys) will be deprecated, use a list instead.\n",
            "\n"
          ],
          "name": "stderr"
        },
        {
          "output_type": "execute_result",
          "data": {
            "text/html": [
              "<div>\n",
              "<style scoped>\n",
              "    .dataframe tbody tr th:only-of-type {\n",
              "        vertical-align: middle;\n",
              "    }\n",
              "\n",
              "    .dataframe tbody tr th {\n",
              "        vertical-align: top;\n",
              "    }\n",
              "\n",
              "    .dataframe thead th {\n",
              "        text-align: right;\n",
              "    }\n",
              "</style>\n",
              "<table border=\"1\" class=\"dataframe\">\n",
              "  <thead>\n",
              "    <tr style=\"text-align: right;\">\n",
              "      <th></th>\n",
              "      <th></th>\n",
              "      <th>QB_Rate</th>\n",
              "    </tr>\n",
              "    <tr>\n",
              "      <th>Player</th>\n",
              "      <th>Position</th>\n",
              "      <th></th>\n",
              "    </tr>\n",
              "  </thead>\n",
              "  <tbody>\n",
              "    <tr>\n",
              "      <th>Danny Amendola</th>\n",
              "      <th>WR</th>\n",
              "      <td>158.30</td>\n",
              "    </tr>\n",
              "    <tr>\n",
              "      <th>Emmanuel Sanders</th>\n",
              "      <th>WR</th>\n",
              "      <td>158.30</td>\n",
              "    </tr>\n",
              "    <tr>\n",
              "      <th>John Brown</th>\n",
              "      <th>WR</th>\n",
              "      <td>158.30</td>\n",
              "    </tr>\n",
              "    <tr>\n",
              "      <th>Julian Edelman</th>\n",
              "      <th>WR</th>\n",
              "      <td>138.50</td>\n",
              "    </tr>\n",
              "    <tr>\n",
              "      <th>Matt Schaub</th>\n",
              "      <th>QB</th>\n",
              "      <td>120.70</td>\n",
              "    </tr>\n",
              "    <tr>\n",
              "      <th>...</th>\n",
              "      <th>...</th>\n",
              "      <td>...</td>\n",
              "    </tr>\n",
              "    <tr>\n",
              "      <th>Jarrett Stidham</th>\n",
              "      <th>QB</th>\n",
              "      <td>38.55</td>\n",
              "    </tr>\n",
              "    <tr>\n",
              "      <th>Sean Mannion</th>\n",
              "      <th>QB</th>\n",
              "      <td>35.10</td>\n",
              "    </tr>\n",
              "    <tr>\n",
              "      <th>Will Grier</th>\n",
              "      <th>QB</th>\n",
              "      <td>23.00</td>\n",
              "    </tr>\n",
              "    <tr>\n",
              "      <th>Josh Gordon</th>\n",
              "      <th>WR</th>\n",
              "      <td>0.00</td>\n",
              "    </tr>\n",
              "    <tr>\n",
              "      <th>Jake Elliott</th>\n",
              "      <th>K</th>\n",
              "      <td>0.00</td>\n",
              "    </tr>\n",
              "  </tbody>\n",
              "</table>\n",
              "<p>102 rows × 1 columns</p>\n",
              "</div>"
            ],
            "text/plain": [
              "                           QB_Rate\n",
              "Player           Position         \n",
              "Danny Amendola   WR         158.30\n",
              "Emmanuel Sanders WR         158.30\n",
              "John Brown       WR         158.30\n",
              "Julian Edelman   WR         138.50\n",
              "Matt Schaub      QB         120.70\n",
              "...                            ...\n",
              "Jarrett Stidham  QB          38.55\n",
              "Sean Mannion     QB          35.10\n",
              "Will Grier       QB          23.00\n",
              "Josh Gordon      WR           0.00\n",
              "Jake Elliott     K            0.00\n",
              "\n",
              "[102 rows x 1 columns]"
            ]
          },
          "metadata": {
            "tags": []
          },
          "execution_count": 116
        }
      ]
    },
    {
      "cell_type": "markdown",
      "metadata": {
        "id": "U7IvqOViJuMV"
      },
      "source": [
        "Como podemos ver nos valores maiores e menores mostrados, todos os jogadores com o rate máximo são de posições diferentes de QB. Isso se deve marjoritariamente ao fato de que jogadores de outras posições podem até jogar como QB em jogadas \"engraçadinhas\", mas essas são poucas durante uma temporada inteira. Entao, vamos retirar esses outros jogadores."
      ]
    },
    {
      "cell_type": "code",
      "metadata": {
        "id": "NevAjVImN-kx",
        "outputId": "0d90b8ef-f48d-4418-e809-daacc376225f",
        "colab": {
          "base_uri": "https://localhost:8080/",
          "height": 378
        }
      },
      "source": [
        "qb_players = qbs[qbs['Position'] == 'QB'][['Player', 'QB_Rate','Team']].groupby(['Player','Team']).agg( \n",
        "                                                  QB_Rate_Mean=pd.NamedAgg(column='QB_Rate', aggfunc='mean'),\n",
        "                                                  QB_Rate_Median=pd.NamedAgg(column='QB_Rate', aggfunc='median'),\n",
        "                                                  Games_Played=pd.NamedAgg(column='QB_Rate', aggfunc='count'))\n",
        "qb_players.head(10)"
      ],
      "execution_count": 127,
      "outputs": [
        {
          "output_type": "execute_result",
          "data": {
            "text/html": [
              "<div>\n",
              "<style scoped>\n",
              "    .dataframe tbody tr th:only-of-type {\n",
              "        vertical-align: middle;\n",
              "    }\n",
              "\n",
              "    .dataframe tbody tr th {\n",
              "        vertical-align: top;\n",
              "    }\n",
              "\n",
              "    .dataframe thead th {\n",
              "        text-align: right;\n",
              "    }\n",
              "</style>\n",
              "<table border=\"1\" class=\"dataframe\">\n",
              "  <thead>\n",
              "    <tr style=\"text-align: right;\">\n",
              "      <th></th>\n",
              "      <th></th>\n",
              "      <th>QB_Rate_Mean</th>\n",
              "      <th>QB_Rate_Median</th>\n",
              "      <th>Games_Played</th>\n",
              "    </tr>\n",
              "    <tr>\n",
              "      <th>Player</th>\n",
              "      <th>Team</th>\n",
              "      <th></th>\n",
              "      <th></th>\n",
              "      <th></th>\n",
              "    </tr>\n",
              "  </thead>\n",
              "  <tbody>\n",
              "    <tr>\n",
              "      <th>A.J. McCarron</th>\n",
              "      <th>HOU</th>\n",
              "      <td>52.400000</td>\n",
              "      <td>52.40</td>\n",
              "      <td>2</td>\n",
              "    </tr>\n",
              "    <tr>\n",
              "      <th>Aaron Rodgers</th>\n",
              "      <th>GNB</th>\n",
              "      <td>95.681250</td>\n",
              "      <td>90.70</td>\n",
              "      <td>16</td>\n",
              "    </tr>\n",
              "    <tr>\n",
              "      <th>Alex Tanney</th>\n",
              "      <th>NYG</th>\n",
              "      <td>79.200000</td>\n",
              "      <td>79.20</td>\n",
              "      <td>1</td>\n",
              "    </tr>\n",
              "    <tr>\n",
              "      <th>Andy Dalton</th>\n",
              "      <th>CIN</th>\n",
              "      <td>76.753846</td>\n",
              "      <td>75.00</td>\n",
              "      <td>13</td>\n",
              "    </tr>\n",
              "    <tr>\n",
              "      <th>Baker Mayfield</th>\n",
              "      <th>CLE</th>\n",
              "      <td>76.881250</td>\n",
              "      <td>81.60</td>\n",
              "      <td>16</td>\n",
              "    </tr>\n",
              "    <tr>\n",
              "      <th>Ben Roethlisberger</th>\n",
              "      <th>PIT</th>\n",
              "      <td>66.500000</td>\n",
              "      <td>66.50</td>\n",
              "      <td>2</td>\n",
              "    </tr>\n",
              "    <tr>\n",
              "      <th>Blake Bortles</th>\n",
              "      <th>LAR</th>\n",
              "      <td>56.200000</td>\n",
              "      <td>56.20</td>\n",
              "      <td>1</td>\n",
              "    </tr>\n",
              "    <tr>\n",
              "      <th>Brandon Allen</th>\n",
              "      <th>DEN</th>\n",
              "      <td>73.300000</td>\n",
              "      <td>61.90</td>\n",
              "      <td>3</td>\n",
              "    </tr>\n",
              "    <tr>\n",
              "      <th>Brett Hundley</th>\n",
              "      <th>ARI</th>\n",
              "      <td>60.200000</td>\n",
              "      <td>61.80</td>\n",
              "      <td>3</td>\n",
              "    </tr>\n",
              "    <tr>\n",
              "      <th>Brian Hoyer</th>\n",
              "      <th>IND</th>\n",
              "      <td>72.350000</td>\n",
              "      <td>72.35</td>\n",
              "      <td>2</td>\n",
              "    </tr>\n",
              "  </tbody>\n",
              "</table>\n",
              "</div>"
            ],
            "text/plain": [
              "                         QB_Rate_Mean  QB_Rate_Median  Games_Played\n",
              "Player             Team                                            \n",
              "A.J. McCarron      HOU      52.400000           52.40             2\n",
              "Aaron Rodgers      GNB      95.681250           90.70            16\n",
              "Alex Tanney        NYG      79.200000           79.20             1\n",
              "Andy Dalton        CIN      76.753846           75.00            13\n",
              "Baker Mayfield     CLE      76.881250           81.60            16\n",
              "Ben Roethlisberger PIT      66.500000           66.50             2\n",
              "Blake Bortles      LAR      56.200000           56.20             1\n",
              "Brandon Allen      DEN      73.300000           61.90             3\n",
              "Brett Hundley      ARI      60.200000           61.80             3\n",
              "Brian Hoyer        IND      72.350000           72.35             2"
            ]
          },
          "metadata": {
            "tags": []
          },
          "execution_count": 127
        }
      ]
    },
    {
      "cell_type": "markdown",
      "metadata": {
        "id": "e9UgYHDPQSDt"
      },
      "source": [
        "Agora vamos analisar os ratings apenas dos Quartebacks presentes no dataset"
      ]
    },
    {
      "cell_type": "code",
      "metadata": {
        "id": "lQ2llUkRN9GO",
        "outputId": "14299590-71ba-4a2e-d380-e1d42fc80c72",
        "colab": {
          "base_uri": "https://localhost:8080/",
          "height": 378
        }
      },
      "source": [
        "sorted_by_rate = qb_players.sort_values(['QB_Rate_Mean'],ascending=False)\n",
        "sorted_by_rate.head(10)"
      ],
      "execution_count": 128,
      "outputs": [
        {
          "output_type": "execute_result",
          "data": {
            "text/html": [
              "<div>\n",
              "<style scoped>\n",
              "    .dataframe tbody tr th:only-of-type {\n",
              "        vertical-align: middle;\n",
              "    }\n",
              "\n",
              "    .dataframe tbody tr th {\n",
              "        vertical-align: top;\n",
              "    }\n",
              "\n",
              "    .dataframe thead th {\n",
              "        text-align: right;\n",
              "    }\n",
              "</style>\n",
              "<table border=\"1\" class=\"dataframe\">\n",
              "  <thead>\n",
              "    <tr style=\"text-align: right;\">\n",
              "      <th></th>\n",
              "      <th></th>\n",
              "      <th>QB_Rate_Mean</th>\n",
              "      <th>QB_Rate_Median</th>\n",
              "      <th>Games_Played</th>\n",
              "    </tr>\n",
              "    <tr>\n",
              "      <th>Player</th>\n",
              "      <th>Team</th>\n",
              "      <th></th>\n",
              "      <th></th>\n",
              "      <th></th>\n",
              "    </tr>\n",
              "  </thead>\n",
              "  <tbody>\n",
              "    <tr>\n",
              "      <th>Matt Schaub</th>\n",
              "      <th>ATL</th>\n",
              "      <td>120.700000</td>\n",
              "      <td>110.90</td>\n",
              "      <td>3</td>\n",
              "    </tr>\n",
              "    <tr>\n",
              "      <th>Ryan Tannehill</th>\n",
              "      <th>TEN</th>\n",
              "      <td>118.927273</td>\n",
              "      <td>130.80</td>\n",
              "      <td>11</td>\n",
              "    </tr>\n",
              "    <tr>\n",
              "      <th>Drew Brees</th>\n",
              "      <th>NOR</th>\n",
              "      <td>109.872727</td>\n",
              "      <td>116.40</td>\n",
              "      <td>11</td>\n",
              "    </tr>\n",
              "    <tr>\n",
              "      <th>Lamar Jackson</th>\n",
              "      <th>BAL</th>\n",
              "      <td>108.460000</td>\n",
              "      <td>104.80</td>\n",
              "      <td>15</td>\n",
              "    </tr>\n",
              "    <tr>\n",
              "      <th>Kirk Cousins</th>\n",
              "      <th>MIN</th>\n",
              "      <td>108.066667</td>\n",
              "      <td>111.50</td>\n",
              "      <td>15</td>\n",
              "    </tr>\n",
              "    <tr>\n",
              "      <th>Russell Wilson</th>\n",
              "      <th>SEA</th>\n",
              "      <td>107.793750</td>\n",
              "      <td>108.45</td>\n",
              "      <td>16</td>\n",
              "    </tr>\n",
              "    <tr>\n",
              "      <th>Matthew Stafford</th>\n",
              "      <th>DET</th>\n",
              "      <td>105.100000</td>\n",
              "      <td>110.20</td>\n",
              "      <td>8</td>\n",
              "    </tr>\n",
              "    <tr>\n",
              "      <th>Patrick Mahomes</th>\n",
              "      <th>KAN</th>\n",
              "      <td>104.842857</td>\n",
              "      <td>104.30</td>\n",
              "      <td>14</td>\n",
              "    </tr>\n",
              "    <tr>\n",
              "      <th>Mike Glennon</th>\n",
              "      <th>OAK</th>\n",
              "      <td>104.700000</td>\n",
              "      <td>104.70</td>\n",
              "      <td>2</td>\n",
              "    </tr>\n",
              "    <tr>\n",
              "      <th>Tyrod Taylor</th>\n",
              "      <th>LAC</th>\n",
              "      <td>104.550000</td>\n",
              "      <td>104.55</td>\n",
              "      <td>2</td>\n",
              "    </tr>\n",
              "  </tbody>\n",
              "</table>\n",
              "</div>"
            ],
            "text/plain": [
              "                       QB_Rate_Mean  QB_Rate_Median  Games_Played\n",
              "Player           Team                                            \n",
              "Matt Schaub      ATL     120.700000          110.90             3\n",
              "Ryan Tannehill   TEN     118.927273          130.80            11\n",
              "Drew Brees       NOR     109.872727          116.40            11\n",
              "Lamar Jackson    BAL     108.460000          104.80            15\n",
              "Kirk Cousins     MIN     108.066667          111.50            15\n",
              "Russell Wilson   SEA     107.793750          108.45            16\n",
              "Matthew Stafford DET     105.100000          110.20             8\n",
              "Patrick Mahomes  KAN     104.842857          104.30            14\n",
              "Mike Glennon     OAK     104.700000          104.70             2\n",
              "Tyrod Taylor     LAC     104.550000          104.55             2"
            ]
          },
          "metadata": {
            "tags": []
          },
          "execution_count": 128
        }
      ]
    },
    {
      "cell_type": "markdown",
      "metadata": {
        "id": "IAP6CEyuRBtw"
      },
      "source": [
        "Vemos outro ponto estranho: **Matt Schaub** é o Quarterback Reserva de Atlanta e jogou apenas 3 jogos na temporada 2019, e - por ter jogado poucos jogos - sua média está bem alta. Para evitar casos como esses, vamos retirar quartebacks que jogaram menos do que 5 jogos na temporada, ou seja, jogaram mais de 30% da temporada."
      ]
    },
    {
      "cell_type": "code",
      "metadata": {
        "id": "OCqkerhRRsvJ",
        "outputId": "8c21afc4-209c-45f3-b58d-68d171e850c4",
        "colab": {
          "base_uri": "https://localhost:8080/",
          "height": 378
        }
      },
      "source": [
        "qb_players_with_at_least_5_games = qb_players[qb_players['Games_Played'] > 5]\n",
        "qb_players_with_at_least_5_games.head(10)"
      ],
      "execution_count": 129,
      "outputs": [
        {
          "output_type": "execute_result",
          "data": {
            "text/html": [
              "<div>\n",
              "<style scoped>\n",
              "    .dataframe tbody tr th:only-of-type {\n",
              "        vertical-align: middle;\n",
              "    }\n",
              "\n",
              "    .dataframe tbody tr th {\n",
              "        vertical-align: top;\n",
              "    }\n",
              "\n",
              "    .dataframe thead th {\n",
              "        text-align: right;\n",
              "    }\n",
              "</style>\n",
              "<table border=\"1\" class=\"dataframe\">\n",
              "  <thead>\n",
              "    <tr style=\"text-align: right;\">\n",
              "      <th></th>\n",
              "      <th></th>\n",
              "      <th>QB_Rate_Mean</th>\n",
              "      <th>QB_Rate_Median</th>\n",
              "      <th>Games_Played</th>\n",
              "    </tr>\n",
              "    <tr>\n",
              "      <th>Player</th>\n",
              "      <th>Team</th>\n",
              "      <th></th>\n",
              "      <th></th>\n",
              "      <th></th>\n",
              "    </tr>\n",
              "  </thead>\n",
              "  <tbody>\n",
              "    <tr>\n",
              "      <th>Aaron Rodgers</th>\n",
              "      <th>GNB</th>\n",
              "      <td>95.681250</td>\n",
              "      <td>90.70</td>\n",
              "      <td>16</td>\n",
              "    </tr>\n",
              "    <tr>\n",
              "      <th>Andy Dalton</th>\n",
              "      <th>CIN</th>\n",
              "      <td>76.753846</td>\n",
              "      <td>75.00</td>\n",
              "      <td>13</td>\n",
              "    </tr>\n",
              "    <tr>\n",
              "      <th>Baker Mayfield</th>\n",
              "      <th>CLE</th>\n",
              "      <td>76.881250</td>\n",
              "      <td>81.60</td>\n",
              "      <td>16</td>\n",
              "    </tr>\n",
              "    <tr>\n",
              "      <th>Carson Wentz</th>\n",
              "      <th>PHI</th>\n",
              "      <td>93.668750</td>\n",
              "      <td>94.00</td>\n",
              "      <td>16</td>\n",
              "    </tr>\n",
              "    <tr>\n",
              "      <th>Case Keenum</th>\n",
              "      <th>WAS</th>\n",
              "      <td>87.155556</td>\n",
              "      <td>98.40</td>\n",
              "      <td>9</td>\n",
              "    </tr>\n",
              "    <tr>\n",
              "      <th>Dak Prescott</th>\n",
              "      <th>DAL</th>\n",
              "      <td>100.956250</td>\n",
              "      <td>96.15</td>\n",
              "      <td>16</td>\n",
              "    </tr>\n",
              "    <tr>\n",
              "      <th>Daniel Jones</th>\n",
              "      <th>NYG</th>\n",
              "      <td>85.961538</td>\n",
              "      <td>78.60</td>\n",
              "      <td>13</td>\n",
              "    </tr>\n",
              "    <tr>\n",
              "      <th>Derek Carr</th>\n",
              "      <th>OAK</th>\n",
              "      <td>100.031250</td>\n",
              "      <td>104.55</td>\n",
              "      <td>16</td>\n",
              "    </tr>\n",
              "    <tr>\n",
              "      <th>Deshaun Watson</th>\n",
              "      <th>HOU</th>\n",
              "      <td>98.393333</td>\n",
              "      <td>92.10</td>\n",
              "      <td>15</td>\n",
              "    </tr>\n",
              "    <tr>\n",
              "      <th>Devlin Hodges</th>\n",
              "      <th>PIT</th>\n",
              "      <td>80.375000</td>\n",
              "      <td>91.80</td>\n",
              "      <td>8</td>\n",
              "    </tr>\n",
              "  </tbody>\n",
              "</table>\n",
              "</div>"
            ],
            "text/plain": [
              "                     QB_Rate_Mean  QB_Rate_Median  Games_Played\n",
              "Player         Team                                            \n",
              "Aaron Rodgers  GNB      95.681250           90.70            16\n",
              "Andy Dalton    CIN      76.753846           75.00            13\n",
              "Baker Mayfield CLE      76.881250           81.60            16\n",
              "Carson Wentz   PHI      93.668750           94.00            16\n",
              "Case Keenum    WAS      87.155556           98.40             9\n",
              "Dak Prescott   DAL     100.956250           96.15            16\n",
              "Daniel Jones   NYG      85.961538           78.60            13\n",
              "Derek Carr     OAK     100.031250          104.55            16\n",
              "Deshaun Watson HOU      98.393333           92.10            15\n",
              "Devlin Hodges  PIT      80.375000           91.80             8"
            ]
          },
          "metadata": {
            "tags": []
          },
          "execution_count": 129
        }
      ]
    },
    {
      "cell_type": "markdown",
      "metadata": {
        "id": "lmwnDZL5qv5O"
      },
      "source": [
        "Agora vamos ver de fato quais foram os melhores quartebacks da temporada baseado no QB Rating médio."
      ]
    },
    {
      "cell_type": "code",
      "metadata": {
        "id": "HHKEC-R2qvUQ",
        "outputId": "481fb868-d214-4c0f-ef21-d71b4fcd1a27",
        "colab": {
          "base_uri": "https://localhost:8080/",
          "height": 378
        }
      },
      "source": [
        "sorted_qb_players_with_at_least_5_games = qb_players_with_at_least_5_games.sort_values(['QB_Rate_Mean'],ascending=False)\n",
        "sorted_qb_players_with_at_least_5_games.head(10)"
      ],
      "execution_count": 130,
      "outputs": [
        {
          "output_type": "execute_result",
          "data": {
            "text/html": [
              "<div>\n",
              "<style scoped>\n",
              "    .dataframe tbody tr th:only-of-type {\n",
              "        vertical-align: middle;\n",
              "    }\n",
              "\n",
              "    .dataframe tbody tr th {\n",
              "        vertical-align: top;\n",
              "    }\n",
              "\n",
              "    .dataframe thead th {\n",
              "        text-align: right;\n",
              "    }\n",
              "</style>\n",
              "<table border=\"1\" class=\"dataframe\">\n",
              "  <thead>\n",
              "    <tr style=\"text-align: right;\">\n",
              "      <th></th>\n",
              "      <th></th>\n",
              "      <th>QB_Rate_Mean</th>\n",
              "      <th>QB_Rate_Median</th>\n",
              "      <th>Games_Played</th>\n",
              "    </tr>\n",
              "    <tr>\n",
              "      <th>Player</th>\n",
              "      <th>Team</th>\n",
              "      <th></th>\n",
              "      <th></th>\n",
              "      <th></th>\n",
              "    </tr>\n",
              "  </thead>\n",
              "  <tbody>\n",
              "    <tr>\n",
              "      <th>Ryan Tannehill</th>\n",
              "      <th>TEN</th>\n",
              "      <td>118.927273</td>\n",
              "      <td>130.80</td>\n",
              "      <td>11</td>\n",
              "    </tr>\n",
              "    <tr>\n",
              "      <th>Drew Brees</th>\n",
              "      <th>NOR</th>\n",
              "      <td>109.872727</td>\n",
              "      <td>116.40</td>\n",
              "      <td>11</td>\n",
              "    </tr>\n",
              "    <tr>\n",
              "      <th>Lamar Jackson</th>\n",
              "      <th>BAL</th>\n",
              "      <td>108.460000</td>\n",
              "      <td>104.80</td>\n",
              "      <td>15</td>\n",
              "    </tr>\n",
              "    <tr>\n",
              "      <th>Kirk Cousins</th>\n",
              "      <th>MIN</th>\n",
              "      <td>108.066667</td>\n",
              "      <td>111.50</td>\n",
              "      <td>15</td>\n",
              "    </tr>\n",
              "    <tr>\n",
              "      <th>Russell Wilson</th>\n",
              "      <th>SEA</th>\n",
              "      <td>107.793750</td>\n",
              "      <td>108.45</td>\n",
              "      <td>16</td>\n",
              "    </tr>\n",
              "    <tr>\n",
              "      <th>Matthew Stafford</th>\n",
              "      <th>DET</th>\n",
              "      <td>105.100000</td>\n",
              "      <td>110.20</td>\n",
              "      <td>8</td>\n",
              "    </tr>\n",
              "    <tr>\n",
              "      <th>Patrick Mahomes</th>\n",
              "      <th>KAN</th>\n",
              "      <td>104.842857</td>\n",
              "      <td>104.30</td>\n",
              "      <td>14</td>\n",
              "    </tr>\n",
              "    <tr>\n",
              "      <th>Jimmy Garoppolo</th>\n",
              "      <th>SFO</th>\n",
              "      <td>102.512500</td>\n",
              "      <td>109.35</td>\n",
              "      <td>16</td>\n",
              "    </tr>\n",
              "    <tr>\n",
              "      <th>Teddy Bridgewater</th>\n",
              "      <th>NOR</th>\n",
              "      <td>101.328571</td>\n",
              "      <td>100.90</td>\n",
              "      <td>7</td>\n",
              "    </tr>\n",
              "    <tr>\n",
              "      <th>Dak Prescott</th>\n",
              "      <th>DAL</th>\n",
              "      <td>100.956250</td>\n",
              "      <td>96.15</td>\n",
              "      <td>16</td>\n",
              "    </tr>\n",
              "  </tbody>\n",
              "</table>\n",
              "</div>"
            ],
            "text/plain": [
              "                        QB_Rate_Mean  QB_Rate_Median  Games_Played\n",
              "Player            Team                                            \n",
              "Ryan Tannehill    TEN     118.927273          130.80            11\n",
              "Drew Brees        NOR     109.872727          116.40            11\n",
              "Lamar Jackson     BAL     108.460000          104.80            15\n",
              "Kirk Cousins      MIN     108.066667          111.50            15\n",
              "Russell Wilson    SEA     107.793750          108.45            16\n",
              "Matthew Stafford  DET     105.100000          110.20             8\n",
              "Patrick Mahomes   KAN     104.842857          104.30            14\n",
              "Jimmy Garoppolo   SFO     102.512500          109.35            16\n",
              "Teddy Bridgewater NOR     101.328571          100.90             7\n",
              "Dak Prescott      DAL     100.956250           96.15            16"
            ]
          },
          "metadata": {
            "tags": []
          },
          "execution_count": 130
        }
      ]
    },
    {
      "cell_type": "markdown",
      "metadata": {
        "id": "tHS_kGEIHk2Y"
      },
      "source": [
        "Com o conhecimento de como foi a temporada 2019, podemos perceber que, tirando Matthew Stafford do Lions e Dak Prescott do Dallas cowboys, todos os Qbs presentes nessa lista estavam nos playoffs. Isto é, fazem parte dos 12 melhores times da temporada."
      ]
    },
    {
      "cell_type": "markdown",
      "metadata": {
        "id": "DWdUnPWiPVck"
      },
      "source": [
        "Vamos verificar se o resultado seria distinto caso tivessemos usado a mediana ao invés da média."
      ]
    },
    {
      "cell_type": "code",
      "metadata": {
        "id": "1LD3TbsmPwqB",
        "outputId": "b9df625f-0144-449f-cfcc-5cb915c0c30f",
        "colab": {
          "base_uri": "https://localhost:8080/",
          "height": 378
        }
      },
      "source": [
        "players_with_at_least_5_games.sort_values(['QB_Rate_Median'],ascending=False).head(10)"
      ],
      "execution_count": 132,
      "outputs": [
        {
          "output_type": "execute_result",
          "data": {
            "text/html": [
              "<div>\n",
              "<style scoped>\n",
              "    .dataframe tbody tr th:only-of-type {\n",
              "        vertical-align: middle;\n",
              "    }\n",
              "\n",
              "    .dataframe tbody tr th {\n",
              "        vertical-align: top;\n",
              "    }\n",
              "\n",
              "    .dataframe thead th {\n",
              "        text-align: right;\n",
              "    }\n",
              "</style>\n",
              "<table border=\"1\" class=\"dataframe\">\n",
              "  <thead>\n",
              "    <tr style=\"text-align: right;\">\n",
              "      <th></th>\n",
              "      <th></th>\n",
              "      <th>QB_Rate_Median</th>\n",
              "      <th>Games_Played</th>\n",
              "    </tr>\n",
              "    <tr>\n",
              "      <th>Player</th>\n",
              "      <th>Team</th>\n",
              "      <th></th>\n",
              "      <th></th>\n",
              "    </tr>\n",
              "  </thead>\n",
              "  <tbody>\n",
              "    <tr>\n",
              "      <th>Ryan Tannehill</th>\n",
              "      <th>TEN</th>\n",
              "      <td>130.80</td>\n",
              "      <td>11</td>\n",
              "    </tr>\n",
              "    <tr>\n",
              "      <th>Drew Brees</th>\n",
              "      <th>NOR</th>\n",
              "      <td>116.40</td>\n",
              "      <td>11</td>\n",
              "    </tr>\n",
              "    <tr>\n",
              "      <th>Kirk Cousins</th>\n",
              "      <th>MIN</th>\n",
              "      <td>111.50</td>\n",
              "      <td>15</td>\n",
              "    </tr>\n",
              "    <tr>\n",
              "      <th>Matthew Stafford</th>\n",
              "      <th>DET</th>\n",
              "      <td>110.20</td>\n",
              "      <td>8</td>\n",
              "    </tr>\n",
              "    <tr>\n",
              "      <th>Jimmy Garoppolo</th>\n",
              "      <th>SFO</th>\n",
              "      <td>109.35</td>\n",
              "      <td>16</td>\n",
              "    </tr>\n",
              "    <tr>\n",
              "      <th>Russell Wilson</th>\n",
              "      <th>SEA</th>\n",
              "      <td>108.45</td>\n",
              "      <td>16</td>\n",
              "    </tr>\n",
              "    <tr>\n",
              "      <th>Lamar Jackson</th>\n",
              "      <th>BAL</th>\n",
              "      <td>104.80</td>\n",
              "      <td>15</td>\n",
              "    </tr>\n",
              "    <tr>\n",
              "      <th>Derek Carr</th>\n",
              "      <th>OAK</th>\n",
              "      <td>104.55</td>\n",
              "      <td>16</td>\n",
              "    </tr>\n",
              "    <tr>\n",
              "      <th>Patrick Mahomes</th>\n",
              "      <th>KAN</th>\n",
              "      <td>104.30</td>\n",
              "      <td>14</td>\n",
              "    </tr>\n",
              "    <tr>\n",
              "      <th>Teddy Bridgewater</th>\n",
              "      <th>NOR</th>\n",
              "      <td>100.90</td>\n",
              "      <td>7</td>\n",
              "    </tr>\n",
              "  </tbody>\n",
              "</table>\n",
              "</div>"
            ],
            "text/plain": [
              "                        QB_Rate_Median  Games_Played\n",
              "Player            Team                              \n",
              "Ryan Tannehill    TEN           130.80            11\n",
              "Drew Brees        NOR           116.40            11\n",
              "Kirk Cousins      MIN           111.50            15\n",
              "Matthew Stafford  DET           110.20             8\n",
              "Jimmy Garoppolo   SFO           109.35            16\n",
              "Russell Wilson    SEA           108.45            16\n",
              "Lamar Jackson     BAL           104.80            15\n",
              "Derek Carr        OAK           104.55            16\n",
              "Patrick Mahomes   KAN           104.30            14\n",
              "Teddy Bridgewater NOR           100.90             7"
            ]
          },
          "metadata": {
            "tags": []
          },
          "execution_count": 132
        }
      ]
    },
    {
      "cell_type": "markdown",
      "metadata": {
        "id": "SINmGjUuQnIY"
      },
      "source": [
        "Aqui percebemos algumas diferenças. Alguns nomes novos apareceram (como Derek Carr), e outros desapareceram (como Dak Prescott). De qualquer forma, o Top 2 se manteve inalterado. \n",
        "\n",
        "Apesar da diferença, resolvi manter utilizando a média visto que os \"outliers\" neste conjunto de dados definem como pontos altos ou baixos do jogador em partidas, e não \"pontos fora da curva\". Jogos onde o QB jogou mal devem ser levados em conta para saber se de fato o jogador é consistente."
      ]
    },
    {
      "cell_type": "markdown",
      "metadata": {
        "id": "rXHj_CLcHTuY"
      },
      "source": [
        "E os quaterbacks com os piores ratings médios:"
      ]
    },
    {
      "cell_type": "code",
      "metadata": {
        "id": "8em5ANtyHeri",
        "outputId": "d6659224-c08b-47b8-bf19-33bc230a84fe",
        "colab": {
          "base_uri": "https://localhost:8080/",
          "height": 378
        }
      },
      "source": [
        "sorted_qb_players_with_at_least_5_games.tail(10)"
      ],
      "execution_count": 131,
      "outputs": [
        {
          "output_type": "execute_result",
          "data": {
            "text/html": [
              "<div>\n",
              "<style scoped>\n",
              "    .dataframe tbody tr th:only-of-type {\n",
              "        vertical-align: middle;\n",
              "    }\n",
              "\n",
              "    .dataframe tbody tr th {\n",
              "        vertical-align: top;\n",
              "    }\n",
              "\n",
              "    .dataframe thead th {\n",
              "        text-align: right;\n",
              "    }\n",
              "</style>\n",
              "<table border=\"1\" class=\"dataframe\">\n",
              "  <thead>\n",
              "    <tr style=\"text-align: right;\">\n",
              "      <th></th>\n",
              "      <th></th>\n",
              "      <th>QB_Rate_Mean</th>\n",
              "      <th>QB_Rate_Median</th>\n",
              "      <th>Games_Played</th>\n",
              "    </tr>\n",
              "    <tr>\n",
              "      <th>Player</th>\n",
              "      <th>Team</th>\n",
              "      <th></th>\n",
              "      <th></th>\n",
              "      <th></th>\n",
              "    </tr>\n",
              "  </thead>\n",
              "  <tbody>\n",
              "    <tr>\n",
              "      <th>Daniel Jones</th>\n",
              "      <th>NYG</th>\n",
              "      <td>85.961538</td>\n",
              "      <td>78.6</td>\n",
              "      <td>13</td>\n",
              "    </tr>\n",
              "    <tr>\n",
              "      <th>Joe Flacco</th>\n",
              "      <th>DEN</th>\n",
              "      <td>85.112500</td>\n",
              "      <td>81.4</td>\n",
              "      <td>8</td>\n",
              "    </tr>\n",
              "    <tr>\n",
              "      <th>Mitchell Trubisky</th>\n",
              "      <th>CHI</th>\n",
              "      <td>83.953333</td>\n",
              "      <td>70.1</td>\n",
              "      <td>15</td>\n",
              "    </tr>\n",
              "    <tr>\n",
              "      <th>Mason Rudolph</th>\n",
              "      <th>PIT</th>\n",
              "      <td>83.300000</td>\n",
              "      <td>85.0</td>\n",
              "      <td>10</td>\n",
              "    </tr>\n",
              "    <tr>\n",
              "      <th>Kyle Allen</th>\n",
              "      <th>CAR</th>\n",
              "      <td>82.400000</td>\n",
              "      <td>84.2</td>\n",
              "      <td>13</td>\n",
              "    </tr>\n",
              "    <tr>\n",
              "      <th>Devlin Hodges</th>\n",
              "      <th>PIT</th>\n",
              "      <td>80.375000</td>\n",
              "      <td>91.8</td>\n",
              "      <td>8</td>\n",
              "    </tr>\n",
              "    <tr>\n",
              "      <th>Dwayne Haskins</th>\n",
              "      <th>WAS</th>\n",
              "      <td>77.266667</td>\n",
              "      <td>74.6</td>\n",
              "      <td>9</td>\n",
              "    </tr>\n",
              "    <tr>\n",
              "      <th>Baker Mayfield</th>\n",
              "      <th>CLE</th>\n",
              "      <td>76.881250</td>\n",
              "      <td>81.6</td>\n",
              "      <td>16</td>\n",
              "    </tr>\n",
              "    <tr>\n",
              "      <th>Andy Dalton</th>\n",
              "      <th>CIN</th>\n",
              "      <td>76.753846</td>\n",
              "      <td>75.0</td>\n",
              "      <td>13</td>\n",
              "    </tr>\n",
              "    <tr>\n",
              "      <th>Robert Griffin III</th>\n",
              "      <th>BAL</th>\n",
              "      <td>72.983333</td>\n",
              "      <td>63.4</td>\n",
              "      <td>6</td>\n",
              "    </tr>\n",
              "  </tbody>\n",
              "</table>\n",
              "</div>"
            ],
            "text/plain": [
              "                         QB_Rate_Mean  QB_Rate_Median  Games_Played\n",
              "Player             Team                                            \n",
              "Daniel Jones       NYG      85.961538            78.6            13\n",
              "Joe Flacco         DEN      85.112500            81.4             8\n",
              "Mitchell Trubisky  CHI      83.953333            70.1            15\n",
              "Mason Rudolph      PIT      83.300000            85.0            10\n",
              "Kyle Allen         CAR      82.400000            84.2            13\n",
              "Devlin Hodges      PIT      80.375000            91.8             8\n",
              "Dwayne Haskins     WAS      77.266667            74.6             9\n",
              "Baker Mayfield     CLE      76.881250            81.6            16\n",
              "Andy Dalton        CIN      76.753846            75.0            13\n",
              "Robert Griffin III BAL      72.983333            63.4             6"
            ]
          },
          "metadata": {
            "tags": []
          },
          "execution_count": 131
        }
      ]
    },
    {
      "cell_type": "markdown",
      "metadata": {
        "id": "IqvQ4apqPZL8"
      },
      "source": [
        "### Comparaçao entre Tannehill e Mahomes"
      ]
    },
    {
      "cell_type": "markdown",
      "metadata": {
        "id": "AzA0TN5mLBBw"
      },
      "source": [
        "Vamos agora comparar o rating do Quaterback com maior média (Ryan Tannehill) e o MVP da temporada e ganhador do superbowl (Patrick Mahomes).\n"
      ]
    },
    {
      "cell_type": "code",
      "metadata": {
        "id": "BVxZo3UkLMq2",
        "outputId": "6879f4b9-a4f2-4574-e310-fe92f542bdc4",
        "colab": {
          "base_uri": "https://localhost:8080/",
          "height": 542
        }
      },
      "source": [
        "tannehill_stats = qbs[(qbs['Player'] == 'Ryan Tannehill') | (qbs['Player'] == 'Patrick Mahomes')][['Player','QB_Rate', 'Week']].sort_values(['Week'],ascending=True)\n",
        "\n",
        "import plotly.express as px\n",
        "\n",
        "fig = px.line(tannehill_stats, x=\"Week\", y=\"QB_Rate\", title='Comparaçao entre Ryan Tannehill e Patrick Mahomes', color='Player', labels={\n",
        "    \"QB_Rate\": \"Quarterback Rating\"\n",
        "} )\n",
        "fig.show()"
      ],
      "execution_count": 124,
      "outputs": [
        {
          "output_type": "display_data",
          "data": {
            "text/html": [
              "<html>\n",
              "<head><meta charset=\"utf-8\" /></head>\n",
              "<body>\n",
              "    <div>\n",
              "            <script src=\"https://cdnjs.cloudflare.com/ajax/libs/mathjax/2.7.5/MathJax.js?config=TeX-AMS-MML_SVG\"></script><script type=\"text/javascript\">if (window.MathJax) {MathJax.Hub.Config({SVG: {font: \"STIX-Web\"}});}</script>\n",
              "                <script type=\"text/javascript\">window.PlotlyConfig = {MathJaxConfig: 'local'};</script>\n",
              "        <script src=\"https://cdn.plot.ly/plotly-latest.min.js\"></script>    \n",
              "            <div id=\"af4fe70a-a2f8-4155-826b-649d0cbe036b\" class=\"plotly-graph-div\" style=\"height:525px; width:100%;\"></div>\n",
              "            <script type=\"text/javascript\">\n",
              "                \n",
              "                    window.PLOTLYENV=window.PLOTLYENV || {};\n",
              "                    \n",
              "                if (document.getElementById(\"af4fe70a-a2f8-4155-826b-649d0cbe036b\")) {\n",
              "                    Plotly.newPlot(\n",
              "                        'af4fe70a-a2f8-4155-826b-649d0cbe036b',\n",
              "                        [{\"hoverlabel\": {\"namelength\": 0}, \"hovertemplate\": \"Player=Patrick Mahomes<br>Week=%{x}<br>Quarterback Rating=%{y}\", \"legendgroup\": \"Player=Patrick Mahomes\", \"line\": {\"color\": \"#636efa\", \"dash\": \"solid\"}, \"mode\": \"lines\", \"name\": \"Player=Patrick Mahomes\", \"showlegend\": true, \"type\": \"scatter\", \"x\": [1, 2, 3, 4, 5, 6, 7, 10, 11, 13, 14, 15, 16, 17], \"xaxis\": \"x\", \"y\": [143.2, 131.2, 132.0, 81.0, 91.9, 96.5, 125.8, 119.2, 72.7, 81.8, 83.6, 115.7, 112.1, 81.1], \"yaxis\": \"y\"}, {\"hoverlabel\": {\"namelength\": 0}, \"hovertemplate\": \"Player=Ryan Tannehill<br>Week=%{x}<br>Quarterback Rating=%{y}\", \"legendgroup\": \"Player=Ryan Tannehill\", \"line\": {\"color\": \"#EF553B\", \"dash\": \"solid\"}, \"mode\": \"lines\", \"name\": \"Player=Ryan Tannehill\", \"showlegend\": true, \"type\": \"scatter\", \"x\": [6, 7, 8, 9, 10, 12, 13, 14, 15, 16, 17], \"xaxis\": \"x\", \"y\": [78.1, 120.1, 109.8, 82.3, 133.9, 155.8, 131.2, 140.4, 92.2, 133.6, 130.8], \"yaxis\": \"y\"}],\n",
              "                        {\"legend\": {\"tracegroupgap\": 0}, \"template\": {\"data\": {\"bar\": [{\"error_x\": {\"color\": \"#2a3f5f\"}, \"error_y\": {\"color\": \"#2a3f5f\"}, \"marker\": {\"line\": {\"color\": \"#E5ECF6\", \"width\": 0.5}}, \"type\": \"bar\"}], \"barpolar\": [{\"marker\": {\"line\": {\"color\": \"#E5ECF6\", \"width\": 0.5}}, \"type\": \"barpolar\"}], \"carpet\": [{\"aaxis\": {\"endlinecolor\": \"#2a3f5f\", \"gridcolor\": \"white\", \"linecolor\": \"white\", \"minorgridcolor\": \"white\", \"startlinecolor\": \"#2a3f5f\"}, \"baxis\": {\"endlinecolor\": \"#2a3f5f\", \"gridcolor\": \"white\", \"linecolor\": \"white\", \"minorgridcolor\": \"white\", \"startlinecolor\": \"#2a3f5f\"}, \"type\": \"carpet\"}], \"choropleth\": [{\"colorbar\": {\"outlinewidth\": 0, \"ticks\": \"\"}, \"type\": \"choropleth\"}], \"contour\": [{\"colorbar\": {\"outlinewidth\": 0, \"ticks\": \"\"}, \"colorscale\": [[0.0, \"#0d0887\"], [0.1111111111111111, \"#46039f\"], [0.2222222222222222, \"#7201a8\"], [0.3333333333333333, \"#9c179e\"], [0.4444444444444444, \"#bd3786\"], [0.5555555555555556, \"#d8576b\"], [0.6666666666666666, \"#ed7953\"], [0.7777777777777778, \"#fb9f3a\"], [0.8888888888888888, \"#fdca26\"], [1.0, \"#f0f921\"]], \"type\": \"contour\"}], \"contourcarpet\": [{\"colorbar\": {\"outlinewidth\": 0, \"ticks\": \"\"}, \"type\": \"contourcarpet\"}], \"heatmap\": [{\"colorbar\": {\"outlinewidth\": 0, \"ticks\": \"\"}, \"colorscale\": [[0.0, \"#0d0887\"], [0.1111111111111111, \"#46039f\"], [0.2222222222222222, \"#7201a8\"], [0.3333333333333333, \"#9c179e\"], [0.4444444444444444, \"#bd3786\"], [0.5555555555555556, \"#d8576b\"], [0.6666666666666666, \"#ed7953\"], [0.7777777777777778, \"#fb9f3a\"], [0.8888888888888888, \"#fdca26\"], [1.0, \"#f0f921\"]], \"type\": \"heatmap\"}], \"heatmapgl\": [{\"colorbar\": {\"outlinewidth\": 0, \"ticks\": \"\"}, \"colorscale\": [[0.0, \"#0d0887\"], [0.1111111111111111, \"#46039f\"], [0.2222222222222222, \"#7201a8\"], [0.3333333333333333, \"#9c179e\"], [0.4444444444444444, \"#bd3786\"], [0.5555555555555556, \"#d8576b\"], [0.6666666666666666, \"#ed7953\"], [0.7777777777777778, \"#fb9f3a\"], [0.8888888888888888, \"#fdca26\"], [1.0, \"#f0f921\"]], \"type\": \"heatmapgl\"}], \"histogram\": [{\"marker\": {\"colorbar\": {\"outlinewidth\": 0, \"ticks\": \"\"}}, \"type\": \"histogram\"}], \"histogram2d\": [{\"colorbar\": {\"outlinewidth\": 0, \"ticks\": \"\"}, \"colorscale\": [[0.0, \"#0d0887\"], [0.1111111111111111, \"#46039f\"], [0.2222222222222222, \"#7201a8\"], [0.3333333333333333, \"#9c179e\"], [0.4444444444444444, \"#bd3786\"], [0.5555555555555556, \"#d8576b\"], [0.6666666666666666, \"#ed7953\"], [0.7777777777777778, \"#fb9f3a\"], [0.8888888888888888, \"#fdca26\"], [1.0, \"#f0f921\"]], \"type\": \"histogram2d\"}], \"histogram2dcontour\": [{\"colorbar\": {\"outlinewidth\": 0, \"ticks\": \"\"}, \"colorscale\": [[0.0, \"#0d0887\"], [0.1111111111111111, \"#46039f\"], [0.2222222222222222, \"#7201a8\"], [0.3333333333333333, \"#9c179e\"], [0.4444444444444444, \"#bd3786\"], [0.5555555555555556, \"#d8576b\"], [0.6666666666666666, \"#ed7953\"], [0.7777777777777778, \"#fb9f3a\"], [0.8888888888888888, \"#fdca26\"], [1.0, \"#f0f921\"]], \"type\": \"histogram2dcontour\"}], \"mesh3d\": [{\"colorbar\": {\"outlinewidth\": 0, \"ticks\": \"\"}, \"type\": \"mesh3d\"}], \"parcoords\": [{\"line\": {\"colorbar\": {\"outlinewidth\": 0, \"ticks\": \"\"}}, \"type\": \"parcoords\"}], \"pie\": [{\"automargin\": true, \"type\": \"pie\"}], \"scatter\": [{\"marker\": {\"colorbar\": {\"outlinewidth\": 0, \"ticks\": \"\"}}, \"type\": \"scatter\"}], \"scatter3d\": [{\"line\": {\"colorbar\": {\"outlinewidth\": 0, \"ticks\": \"\"}}, \"marker\": {\"colorbar\": {\"outlinewidth\": 0, \"ticks\": \"\"}}, \"type\": \"scatter3d\"}], \"scattercarpet\": [{\"marker\": {\"colorbar\": {\"outlinewidth\": 0, \"ticks\": \"\"}}, \"type\": \"scattercarpet\"}], \"scattergeo\": [{\"marker\": {\"colorbar\": {\"outlinewidth\": 0, \"ticks\": \"\"}}, \"type\": \"scattergeo\"}], \"scattergl\": [{\"marker\": {\"colorbar\": {\"outlinewidth\": 0, \"ticks\": \"\"}}, \"type\": \"scattergl\"}], \"scattermapbox\": [{\"marker\": {\"colorbar\": {\"outlinewidth\": 0, \"ticks\": \"\"}}, \"type\": \"scattermapbox\"}], \"scatterpolar\": [{\"marker\": {\"colorbar\": {\"outlinewidth\": 0, \"ticks\": \"\"}}, \"type\": \"scatterpolar\"}], \"scatterpolargl\": [{\"marker\": {\"colorbar\": {\"outlinewidth\": 0, \"ticks\": \"\"}}, \"type\": \"scatterpolargl\"}], \"scatterternary\": [{\"marker\": {\"colorbar\": {\"outlinewidth\": 0, \"ticks\": \"\"}}, \"type\": \"scatterternary\"}], \"surface\": [{\"colorbar\": {\"outlinewidth\": 0, \"ticks\": \"\"}, \"colorscale\": [[0.0, \"#0d0887\"], [0.1111111111111111, \"#46039f\"], [0.2222222222222222, \"#7201a8\"], [0.3333333333333333, \"#9c179e\"], [0.4444444444444444, \"#bd3786\"], [0.5555555555555556, \"#d8576b\"], [0.6666666666666666, \"#ed7953\"], [0.7777777777777778, \"#fb9f3a\"], [0.8888888888888888, \"#fdca26\"], [1.0, \"#f0f921\"]], \"type\": \"surface\"}], \"table\": [{\"cells\": {\"fill\": {\"color\": \"#EBF0F8\"}, \"line\": {\"color\": \"white\"}}, \"header\": {\"fill\": {\"color\": \"#C8D4E3\"}, \"line\": {\"color\": \"white\"}}, \"type\": \"table\"}]}, \"layout\": {\"annotationdefaults\": {\"arrowcolor\": \"#2a3f5f\", \"arrowhead\": 0, \"arrowwidth\": 1}, \"coloraxis\": {\"colorbar\": {\"outlinewidth\": 0, \"ticks\": \"\"}}, \"colorscale\": {\"diverging\": [[0, \"#8e0152\"], [0.1, \"#c51b7d\"], [0.2, \"#de77ae\"], [0.3, \"#f1b6da\"], [0.4, \"#fde0ef\"], [0.5, \"#f7f7f7\"], [0.6, \"#e6f5d0\"], [0.7, \"#b8e186\"], [0.8, \"#7fbc41\"], [0.9, \"#4d9221\"], [1, \"#276419\"]], \"sequential\": [[0.0, \"#0d0887\"], [0.1111111111111111, \"#46039f\"], [0.2222222222222222, \"#7201a8\"], [0.3333333333333333, \"#9c179e\"], [0.4444444444444444, \"#bd3786\"], [0.5555555555555556, \"#d8576b\"], [0.6666666666666666, \"#ed7953\"], [0.7777777777777778, \"#fb9f3a\"], [0.8888888888888888, \"#fdca26\"], [1.0, \"#f0f921\"]], \"sequentialminus\": [[0.0, \"#0d0887\"], [0.1111111111111111, \"#46039f\"], [0.2222222222222222, \"#7201a8\"], [0.3333333333333333, \"#9c179e\"], [0.4444444444444444, \"#bd3786\"], [0.5555555555555556, \"#d8576b\"], [0.6666666666666666, \"#ed7953\"], [0.7777777777777778, \"#fb9f3a\"], [0.8888888888888888, \"#fdca26\"], [1.0, \"#f0f921\"]]}, \"colorway\": [\"#636efa\", \"#EF553B\", \"#00cc96\", \"#ab63fa\", \"#FFA15A\", \"#19d3f3\", \"#FF6692\", \"#B6E880\", \"#FF97FF\", \"#FECB52\"], \"font\": {\"color\": \"#2a3f5f\"}, \"geo\": {\"bgcolor\": \"white\", \"lakecolor\": \"white\", \"landcolor\": \"#E5ECF6\", \"showlakes\": true, \"showland\": true, \"subunitcolor\": \"white\"}, \"hoverlabel\": {\"align\": \"left\"}, \"hovermode\": \"closest\", \"mapbox\": {\"style\": \"light\"}, \"paper_bgcolor\": \"white\", \"plot_bgcolor\": \"#E5ECF6\", \"polar\": {\"angularaxis\": {\"gridcolor\": \"white\", \"linecolor\": \"white\", \"ticks\": \"\"}, \"bgcolor\": \"#E5ECF6\", \"radialaxis\": {\"gridcolor\": \"white\", \"linecolor\": \"white\", \"ticks\": \"\"}}, \"scene\": {\"xaxis\": {\"backgroundcolor\": \"#E5ECF6\", \"gridcolor\": \"white\", \"gridwidth\": 2, \"linecolor\": \"white\", \"showbackground\": true, \"ticks\": \"\", \"zerolinecolor\": \"white\"}, \"yaxis\": {\"backgroundcolor\": \"#E5ECF6\", \"gridcolor\": \"white\", \"gridwidth\": 2, \"linecolor\": \"white\", \"showbackground\": true, \"ticks\": \"\", \"zerolinecolor\": \"white\"}, \"zaxis\": {\"backgroundcolor\": \"#E5ECF6\", \"gridcolor\": \"white\", \"gridwidth\": 2, \"linecolor\": \"white\", \"showbackground\": true, \"ticks\": \"\", \"zerolinecolor\": \"white\"}}, \"shapedefaults\": {\"line\": {\"color\": \"#2a3f5f\"}}, \"ternary\": {\"aaxis\": {\"gridcolor\": \"white\", \"linecolor\": \"white\", \"ticks\": \"\"}, \"baxis\": {\"gridcolor\": \"white\", \"linecolor\": \"white\", \"ticks\": \"\"}, \"bgcolor\": \"#E5ECF6\", \"caxis\": {\"gridcolor\": \"white\", \"linecolor\": \"white\", \"ticks\": \"\"}}, \"title\": {\"x\": 0.05}, \"xaxis\": {\"automargin\": true, \"gridcolor\": \"white\", \"linecolor\": \"white\", \"ticks\": \"\", \"title\": {\"standoff\": 15}, \"zerolinecolor\": \"white\", \"zerolinewidth\": 2}, \"yaxis\": {\"automargin\": true, \"gridcolor\": \"white\", \"linecolor\": \"white\", \"ticks\": \"\", \"title\": {\"standoff\": 15}, \"zerolinecolor\": \"white\", \"zerolinewidth\": 2}}}, \"title\": {\"text\": \"Compara\\u00e7ao entre Ryan Tannehill e Patrick Mahomes\"}, \"xaxis\": {\"anchor\": \"y\", \"domain\": [0.0, 1.0], \"title\": {\"text\": \"Week\"}}, \"yaxis\": {\"anchor\": \"x\", \"domain\": [0.0, 1.0], \"title\": {\"text\": \"Quarterback Rating\"}}},\n",
              "                        {\"responsive\": true}\n",
              "                    ).then(function(){\n",
              "                            \n",
              "var gd = document.getElementById('af4fe70a-a2f8-4155-826b-649d0cbe036b');\n",
              "var x = new MutationObserver(function (mutations, observer) {{\n",
              "        var display = window.getComputedStyle(gd).display;\n",
              "        if (!display || display === 'none') {{\n",
              "            console.log([gd, 'removed!']);\n",
              "            Plotly.purge(gd);\n",
              "            observer.disconnect();\n",
              "        }}\n",
              "}});\n",
              "\n",
              "// Listen for the removal of the full notebook cells\n",
              "var notebookContainer = gd.closest('#notebook-container');\n",
              "if (notebookContainer) {{\n",
              "    x.observe(notebookContainer, {childList: true});\n",
              "}}\n",
              "\n",
              "// Listen for the clearing of the current output cell\n",
              "var outputEl = gd.closest('.output');\n",
              "if (outputEl) {{\n",
              "    x.observe(outputEl, {childList: true});\n",
              "}}\n",
              "\n",
              "                        })\n",
              "                };\n",
              "                \n",
              "            </script>\n",
              "        </div>\n",
              "</body>\n",
              "</html>"
            ]
          },
          "metadata": {
            "tags": []
          }
        }
      ]
    },
    {
      "cell_type": "markdown",
      "metadata": {
        "id": "o6RCvWGPOoQB"
      },
      "source": [
        "Como podemos ver no gráfico, Tannehill só começou a jogar a partir da semana 6, mas mesmo assim apresentou número impressionantes principalmente após a semana 10, enquanto o MVP teve uma queda de rendimento."
      ]
    },
    {
      "cell_type": "markdown",
      "metadata": {
        "id": "wgoG0bgYE_ZS"
      },
      "source": [
        "### Verificando se há alguma relaçao entre o Dia da semana e a performance dos qbs\n",
        "\n"
      ]
    },
    {
      "cell_type": "markdown",
      "metadata": {
        "id": "NeE7NqjnSjIE"
      },
      "source": [
        "Agora, por questao de curiosidade, vamos verificar se há alguma relaçao entre o dia da semana em que o jogo é jogado e a performance dos qbs."
      ]
    },
    {
      "cell_type": "code",
      "metadata": {
        "id": "Qgo7QFmIS3hP",
        "outputId": "3ce5fb05-12dc-48f5-fd88-d5d10de9677d",
        "colab": {
          "base_uri": "https://localhost:8080/",
          "height": 35
        }
      },
      "source": [
        "qbs['Day'].unique()"
      ],
      "execution_count": 134,
      "outputs": [
        {
          "output_type": "execute_result",
          "data": {
            "text/plain": [
              "array(['Sun', 'Mon', 'Thu', 'Sat'], dtype=object)"
            ]
          },
          "metadata": {
            "tags": []
          },
          "execution_count": 134
        }
      ]
    },
    {
      "cell_type": "markdown",
      "metadata": {
        "id": "cy42p4lDUcDx"
      },
      "source": [
        "Os jogos da NFL são jogados nas Segundas, Quintas, Sábados e Domingos."
      ]
    }
  ]
}