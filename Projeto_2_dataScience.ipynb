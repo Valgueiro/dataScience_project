{
  "nbformat": 4,
  "nbformat_minor": 0,
  "metadata": {
    "colab": {
      "name": "Projeto 1_dataScience.ipynb",
      "provenance": [],
      "collapsed_sections": [],
      "toc_visible": true,
      "include_colab_link": true
    },
    "kernelspec": {
      "name": "python3",
      "display_name": "Python 3"
    }
  },
  "cells": [
    {
      "cell_type": "markdown",
      "metadata": {
        "id": "view-in-github",
        "colab_type": "text"
      },
      "source": [
        "<a href=\"https://colab.research.google.com/github/Valgueiro/dataScience_project/blob/master/Projeto_2_dataScience.ipynb\" target=\"_parent\"><img src=\"https://colab.research.google.com/assets/colab-badge.svg\" alt=\"Open In Colab\"/></a>"
      ]
    },
    {
      "cell_type": "markdown",
      "metadata": {
        "id": "uIbSp-73wljE"
      },
      "source": [
        "# Analisandos os dados da temporada 2019/20 da NFL\n",
        "\n",
        "Utilizarei os dados de https://www.kaggle.com/dvc415/nfl-2019-weekly-player-stats . Nele podemos encontrar estatísticas sobre diversos jogadores de 3 posiçoes do futebol americano:\n",
        "\n",
        "* Quaterbacks (qbs) - A mente por trás do ataque, são os responsáveis por liderar e coordenar o ataque\n",
        "\n",
        "* Running Backs (rbs) - corredores da equipe, geralmente recebem a bola diretamente do Quarteback e correm para dentro da defesa.\n",
        "\n",
        "* Wide receivers (wrs) - também são corredores, mas geralmente correm pra dentro da defesa adversária e recebem a bola do QB através de um passe."
      ]
    },
    {
      "cell_type": "markdown",
      "metadata": {
        "id": "aisi1eEuyYi9"
      },
      "source": [
        "## Pré-processando os dados"
      ]
    },
    {
      "cell_type": "markdown",
      "metadata": {
        "id": "YhtJ7rtdWqRO"
      },
      "source": [
        "### Coletando dados\n",
        "\n"
      ]
    },
    {
      "cell_type": "code",
      "metadata": {
        "id": "V7b-GeVtcSSO"
      },
      "source": [
        "import numpy as np\n",
        "import pandas as pd\n",
        "from scipy import stats\n",
        "\n",
        "from sklearn.metrics import accuracy_score\n",
        "from sklearn.model_selection import cross_val_score"
      ],
      "execution_count": 300,
      "outputs": []
    },
    {
      "cell_type": "code",
      "metadata": {
        "id": "MGDLq2b1U6-I"
      },
      "source": [
        "qbs = pd.read_csv(\"https://raw.githubusercontent.com/Valgueiro/dataScience_project/master/data/nfl_2019_qb_weekly_stats.csv\")"
      ],
      "execution_count": 301,
      "outputs": []
    },
    {
      "cell_type": "markdown",
      "metadata": {
        "id": "xVbonCpVyeUX"
      },
      "source": [
        "### Filtrando e reorganizando os dados de Qbs"
      ]
    },
    {
      "cell_type": "code",
      "metadata": {
        "id": "0iOIZQJ1yiOA",
        "outputId": "735da35b-1f3b-4f40-c242-6bda5b5cea52",
        "colab": {
          "base_uri": "https://localhost:8080/"
        }
      },
      "source": [
        "qbs.info()"
      ],
      "execution_count": 302,
      "outputs": [
        {
          "output_type": "stream",
          "text": [
            "<class 'pandas.core.frame.DataFrame'>\n",
            "RangeIndex: 611 entries, 0 to 610\n",
            "Data columns (total 23 columns):\n",
            " #   Column         Non-Null Count  Dtype  \n",
            "---  ------         --------------  -----  \n",
            " 0   Rank           611 non-null    int64  \n",
            " 1   Player         611 non-null    object \n",
            " 2   Position       611 non-null    object \n",
            " 3   Age            611 non-null    float64\n",
            " 4   Date           611 non-null    object \n",
            " 5   League         611 non-null    object \n",
            " 6   Team           611 non-null    object \n",
            " 7   Opp            611 non-null    object \n",
            " 8   Result         611 non-null    object \n",
            " 9   Game           611 non-null    int64  \n",
            " 10  Week           611 non-null    int64  \n",
            " 11  Day            611 non-null    object \n",
            " 12  Cmp            611 non-null    int64  \n",
            " 13  Pass_Att       611 non-null    int64  \n",
            " 14  Cmp_Per        611 non-null    float64\n",
            " 15  Pass_Yards     611 non-null    int64  \n",
            " 16  Pass_TD        611 non-null    int64  \n",
            " 17  Pass_Int       611 non-null    int64  \n",
            " 18  QB_Rate        611 non-null    float64\n",
            " 19  Sacked         611 non-null    int64  \n",
            " 20  Yds_Lost       611 non-null    int64  \n",
            " 21  Yards_Att      611 non-null    float64\n",
            " 22  Adj_Yards_Att  611 non-null    float64\n",
            "dtypes: float64(5), int64(10), object(8)\n",
            "memory usage: 109.9+ KB\n"
          ],
          "name": "stdout"
        }
      ]
    },
    {
      "cell_type": "markdown",
      "metadata": {
        "id": "uepKCJhd3oEN"
      },
      "source": [
        "Logo de cara podemos ver que não temos dados ausentes, mas alguns tipos devem ser estudados e melhorados, assim como algumas colunas devem ser discretizadas."
      ]
    },
    {
      "cell_type": "markdown",
      "metadata": {
        "id": "RIu2dg930hUJ"
      },
      "source": [
        "#### Verificando a necessidade da coluna \"Position\""
      ]
    },
    {
      "cell_type": "code",
      "metadata": {
        "id": "IapOQHht0JZU",
        "outputId": "c7437bd7-c391-4c89-8cfd-74537347ce72",
        "colab": {
          "base_uri": "https://localhost:8080/"
        }
      },
      "source": [
        "qbs[\"Position\"].unique()"
      ],
      "execution_count": 303,
      "outputs": [
        {
          "output_type": "execute_result",
          "data": {
            "text/plain": [
              "array(['QB', 'WR', 'RB', 'K', 'P', 'FB/TE'], dtype=object)"
            ]
          },
          "metadata": {
            "tags": []
          },
          "execution_count": 303
        }
      ]
    },
    {
      "cell_type": "code",
      "metadata": {
        "id": "iFys5n5007jT",
        "outputId": "9b2c67f5-48f4-46f2-8a5b-f0e9f744d202",
        "colab": {
          "base_uri": "https://localhost:8080/",
          "height": 0
        }
      },
      "source": [
        "qbs[qbs[\"Position\"] == 'WR'][[\"Player\", \"Pass_Att\"]]"
      ],
      "execution_count": 304,
      "outputs": [
        {
          "output_type": "execute_result",
          "data": {
            "text/html": [
              "<div>\n",
              "<style scoped>\n",
              "    .dataframe tbody tr th:only-of-type {\n",
              "        vertical-align: middle;\n",
              "    }\n",
              "\n",
              "    .dataframe tbody tr th {\n",
              "        vertical-align: top;\n",
              "    }\n",
              "\n",
              "    .dataframe thead th {\n",
              "        text-align: right;\n",
              "    }\n",
              "</style>\n",
              "<table border=\"1\" class=\"dataframe\">\n",
              "  <thead>\n",
              "    <tr style=\"text-align: right;\">\n",
              "      <th></th>\n",
              "      <th>Player</th>\n",
              "      <th>Pass_Att</th>\n",
              "    </tr>\n",
              "  </thead>\n",
              "  <tbody>\n",
              "    <tr>\n",
              "      <th>14</th>\n",
              "      <td>Julian Edelman</td>\n",
              "      <td>1</td>\n",
              "    </tr>\n",
              "    <tr>\n",
              "      <th>43</th>\n",
              "      <td>Dante Pettis</td>\n",
              "      <td>1</td>\n",
              "    </tr>\n",
              "    <tr>\n",
              "      <th>142</th>\n",
              "      <td>Odell Beckham Jr.</td>\n",
              "      <td>1</td>\n",
              "    </tr>\n",
              "    <tr>\n",
              "      <th>146</th>\n",
              "      <td>DeAndre Hopkins</td>\n",
              "      <td>1</td>\n",
              "    </tr>\n",
              "    <tr>\n",
              "      <th>151</th>\n",
              "      <td>Odell Beckham Jr.</td>\n",
              "      <td>1</td>\n",
              "    </tr>\n",
              "    <tr>\n",
              "      <th>248</th>\n",
              "      <td>Zach Pascal</td>\n",
              "      <td>1</td>\n",
              "    </tr>\n",
              "    <tr>\n",
              "      <th>338</th>\n",
              "      <td>Randall Cobb</td>\n",
              "      <td>1</td>\n",
              "    </tr>\n",
              "    <tr>\n",
              "      <th>343</th>\n",
              "      <td>Julian Edelman</td>\n",
              "      <td>1</td>\n",
              "    </tr>\n",
              "    <tr>\n",
              "      <th>348</th>\n",
              "      <td>Courtland Sutton</td>\n",
              "      <td>1</td>\n",
              "    </tr>\n",
              "    <tr>\n",
              "      <th>411</th>\n",
              "      <td>Steven Sims</td>\n",
              "      <td>1</td>\n",
              "    </tr>\n",
              "    <tr>\n",
              "      <th>413</th>\n",
              "      <td>John Brown</td>\n",
              "      <td>1</td>\n",
              "    </tr>\n",
              "    <tr>\n",
              "      <th>415</th>\n",
              "      <td>DeAndre Hopkins</td>\n",
              "      <td>1</td>\n",
              "    </tr>\n",
              "    <tr>\n",
              "      <th>452</th>\n",
              "      <td>Emmanuel Sanders</td>\n",
              "      <td>1</td>\n",
              "    </tr>\n",
              "    <tr>\n",
              "      <th>458</th>\n",
              "      <td>Alex Erickson</td>\n",
              "      <td>1</td>\n",
              "    </tr>\n",
              "    <tr>\n",
              "      <th>490</th>\n",
              "      <td>Cooper Kupp</td>\n",
              "      <td>1</td>\n",
              "    </tr>\n",
              "    <tr>\n",
              "      <th>529</th>\n",
              "      <td>Josh Gordon</td>\n",
              "      <td>1</td>\n",
              "    </tr>\n",
              "    <tr>\n",
              "      <th>537</th>\n",
              "      <td>Kelvin Harmon</td>\n",
              "      <td>1</td>\n",
              "    </tr>\n",
              "    <tr>\n",
              "      <th>569</th>\n",
              "      <td>Stefon Diggs</td>\n",
              "      <td>1</td>\n",
              "    </tr>\n",
              "    <tr>\n",
              "      <th>571</th>\n",
              "      <td>Danny Amendola</td>\n",
              "      <td>1</td>\n",
              "    </tr>\n",
              "    <tr>\n",
              "      <th>586</th>\n",
              "      <td>Albert Wilson</td>\n",
              "      <td>2</td>\n",
              "    </tr>\n",
              "  </tbody>\n",
              "</table>\n",
              "</div>"
            ],
            "text/plain": [
              "                Player  Pass_Att\n",
              "14      Julian Edelman         1\n",
              "43        Dante Pettis         1\n",
              "142  Odell Beckham Jr.         1\n",
              "146    DeAndre Hopkins         1\n",
              "151  Odell Beckham Jr.         1\n",
              "248        Zach Pascal         1\n",
              "338       Randall Cobb         1\n",
              "343     Julian Edelman         1\n",
              "348   Courtland Sutton         1\n",
              "411        Steven Sims         1\n",
              "413         John Brown         1\n",
              "415    DeAndre Hopkins         1\n",
              "452   Emmanuel Sanders         1\n",
              "458      Alex Erickson         1\n",
              "490        Cooper Kupp         1\n",
              "529        Josh Gordon         1\n",
              "537      Kelvin Harmon         1\n",
              "569       Stefon Diggs         1\n",
              "571     Danny Amendola         1\n",
              "586      Albert Wilson         2"
            ]
          },
          "metadata": {
            "tags": []
          },
          "execution_count": 304
        }
      ]
    },
    {
      "cell_type": "markdown",
      "metadata": {
        "id": "r_Engxny0s8d"
      },
      "source": [
        "Como podemos ver, o dataset conta também com jogadores de outra posição que jogaram de QB em algum momento, como por exemplo os Wide Receivers que vemos nesta ultima tabela. Com as duas colunas mostradas podemos ver que todos eles fizeram apenas 2 passes no máximo. Geralmente essas jogadas são fora do comum, são chamadas de \"trick play\"."
      ]
    },
    {
      "cell_type": "markdown",
      "metadata": {
        "id": "ngDRtfud2VKJ"
      },
      "source": [
        "#### Verificando o tipo da coluna \"Age\""
      ]
    },
    {
      "cell_type": "code",
      "metadata": {
        "id": "oSRlJ3BH2CMR",
        "outputId": "fc4bbf6d-db52-46e4-a7dc-df1d73a2c157",
        "colab": {
          "base_uri": "https://localhost:8080/"
        }
      },
      "source": [
        "qbs[\"Age\"].describe()"
      ],
      "execution_count": 305,
      "outputs": [
        {
          "output_type": "execute_result",
          "data": {
            "text/plain": [
              "count    611.000000\n",
              "mean      28.154298\n",
              "std        5.364599\n",
              "min       22.032000\n",
              "25%       24.046500\n",
              "50%       26.308000\n",
              "75%       31.219000\n",
              "max       42.148000\n",
              "Name: Age, dtype: float64"
            ]
          },
          "metadata": {
            "tags": []
          },
          "execution_count": 305
        }
      ]
    },
    {
      "cell_type": "code",
      "metadata": {
        "id": "XpJGSd0t2coA",
        "outputId": "bd8d39be-d978-450c-e1fc-7ab680079470",
        "colab": {
          "base_uri": "https://localhost:8080/",
          "height": 0
        }
      },
      "source": [
        "qbs[qbs[\"Player\"] == \"Kirk Cousins\"][[\"Player\",\"Age\",\"Date\"]]"
      ],
      "execution_count": 306,
      "outputs": [
        {
          "output_type": "execute_result",
          "data": {
            "text/html": [
              "<div>\n",
              "<style scoped>\n",
              "    .dataframe tbody tr th:only-of-type {\n",
              "        vertical-align: middle;\n",
              "    }\n",
              "\n",
              "    .dataframe tbody tr th {\n",
              "        vertical-align: top;\n",
              "    }\n",
              "\n",
              "    .dataframe thead th {\n",
              "        text-align: right;\n",
              "    }\n",
              "</style>\n",
              "<table border=\"1\" class=\"dataframe\">\n",
              "  <thead>\n",
              "    <tr style=\"text-align: right;\">\n",
              "      <th></th>\n",
              "      <th>Player</th>\n",
              "      <th>Age</th>\n",
              "      <th>Date</th>\n",
              "    </tr>\n",
              "  </thead>\n",
              "  <tbody>\n",
              "    <tr>\n",
              "      <th>4</th>\n",
              "      <td>Kirk Cousins</td>\n",
              "      <td>31.020</td>\n",
              "      <td>2019-09-08</td>\n",
              "    </tr>\n",
              "    <tr>\n",
              "      <th>72</th>\n",
              "      <td>Kirk Cousins</td>\n",
              "      <td>31.027</td>\n",
              "      <td>2019-09-15</td>\n",
              "    </tr>\n",
              "    <tr>\n",
              "      <th>86</th>\n",
              "      <td>Kirk Cousins</td>\n",
              "      <td>31.034</td>\n",
              "      <td>2019-09-22</td>\n",
              "    </tr>\n",
              "    <tr>\n",
              "      <th>126</th>\n",
              "      <td>Kirk Cousins</td>\n",
              "      <td>31.041</td>\n",
              "      <td>2019-09-29</td>\n",
              "    </tr>\n",
              "    <tr>\n",
              "      <th>149</th>\n",
              "      <td>Kirk Cousins</td>\n",
              "      <td>31.048</td>\n",
              "      <td>2019-10-06</td>\n",
              "    </tr>\n",
              "    <tr>\n",
              "      <th>186</th>\n",
              "      <td>Kirk Cousins</td>\n",
              "      <td>31.055</td>\n",
              "      <td>2019-10-13</td>\n",
              "    </tr>\n",
              "    <tr>\n",
              "      <th>219</th>\n",
              "      <td>Kirk Cousins</td>\n",
              "      <td>31.062</td>\n",
              "      <td>2019-10-20</td>\n",
              "    </tr>\n",
              "    <tr>\n",
              "      <th>259</th>\n",
              "      <td>Kirk Cousins</td>\n",
              "      <td>31.066</td>\n",
              "      <td>2019-10-24</td>\n",
              "    </tr>\n",
              "    <tr>\n",
              "      <th>298</th>\n",
              "      <td>Kirk Cousins</td>\n",
              "      <td>31.076</td>\n",
              "      <td>2019-11-03</td>\n",
              "    </tr>\n",
              "    <tr>\n",
              "      <th>318</th>\n",
              "      <td>Kirk Cousins</td>\n",
              "      <td>31.083</td>\n",
              "      <td>2019-11-10</td>\n",
              "    </tr>\n",
              "    <tr>\n",
              "      <th>345</th>\n",
              "      <td>Kirk Cousins</td>\n",
              "      <td>31.090</td>\n",
              "      <td>2019-11-17</td>\n",
              "    </tr>\n",
              "    <tr>\n",
              "      <th>433</th>\n",
              "      <td>Kirk Cousins</td>\n",
              "      <td>31.105</td>\n",
              "      <td>2019-12-02</td>\n",
              "    </tr>\n",
              "    <tr>\n",
              "      <th>464</th>\n",
              "      <td>Kirk Cousins</td>\n",
              "      <td>31.111</td>\n",
              "      <td>2019-12-08</td>\n",
              "    </tr>\n",
              "    <tr>\n",
              "      <th>502</th>\n",
              "      <td>Kirk Cousins</td>\n",
              "      <td>31.118</td>\n",
              "      <td>2019-12-15</td>\n",
              "    </tr>\n",
              "    <tr>\n",
              "      <th>566</th>\n",
              "      <td>Kirk Cousins</td>\n",
              "      <td>31.126</td>\n",
              "      <td>2019-12-23</td>\n",
              "    </tr>\n",
              "  </tbody>\n",
              "</table>\n",
              "</div>"
            ],
            "text/plain": [
              "           Player     Age        Date\n",
              "4    Kirk Cousins  31.020  2019-09-08\n",
              "72   Kirk Cousins  31.027  2019-09-15\n",
              "86   Kirk Cousins  31.034  2019-09-22\n",
              "126  Kirk Cousins  31.041  2019-09-29\n",
              "149  Kirk Cousins  31.048  2019-10-06\n",
              "186  Kirk Cousins  31.055  2019-10-13\n",
              "219  Kirk Cousins  31.062  2019-10-20\n",
              "259  Kirk Cousins  31.066  2019-10-24\n",
              "298  Kirk Cousins  31.076  2019-11-03\n",
              "318  Kirk Cousins  31.083  2019-11-10\n",
              "345  Kirk Cousins  31.090  2019-11-17\n",
              "433  Kirk Cousins  31.105  2019-12-02\n",
              "464  Kirk Cousins  31.111  2019-12-08\n",
              "502  Kirk Cousins  31.118  2019-12-15\n",
              "566  Kirk Cousins  31.126  2019-12-23"
            ]
          },
          "metadata": {
            "tags": []
          },
          "execution_count": 306
        }
      ]
    },
    {
      "cell_type": "markdown",
      "metadata": {
        "id": "H0ed-UXP2mpK"
      },
      "source": [
        "Como podemos ver, apesar de idade normalmente ser tratada com inteiro, aqui é mostrada a idade inclusive incluindo a quantidade de meses e dias."
      ]
    },
    {
      "cell_type": "markdown",
      "metadata": {
        "id": "odoMOa7G3ZTC"
      },
      "source": [
        "#### Transformando o tipo da coluna Date"
      ]
    },
    {
      "cell_type": "markdown",
      "metadata": {
        "id": "muQcYAud31rv"
      },
      "source": [
        "Com o describe, vimos que a coluna Date está com o tipo Object. Devemos mudá-la para o tipo correto de datas."
      ]
    },
    {
      "cell_type": "code",
      "metadata": {
        "id": "UKycRAgW3gBy",
        "outputId": "03fe2aef-4ea0-41b6-db83-775e3de84a30",
        "colab": {
          "base_uri": "https://localhost:8080/"
        }
      },
      "source": [
        "qbs[\"Date\"].head()"
      ],
      "execution_count": 307,
      "outputs": [
        {
          "output_type": "execute_result",
          "data": {
            "text/plain": [
              "0    2019-09-08\n",
              "1    2019-09-08\n",
              "2    2019-09-08\n",
              "3    2019-09-08\n",
              "4    2019-09-08\n",
              "Name: Date, dtype: object"
            ]
          },
          "metadata": {
            "tags": []
          },
          "execution_count": 307
        }
      ]
    },
    {
      "cell_type": "code",
      "metadata": {
        "id": "Q2IB2Y_a4zqn",
        "outputId": "34775be6-4198-4afc-c799-27a1c1c72a17",
        "colab": {
          "base_uri": "https://localhost:8080/"
        }
      },
      "source": [
        "qbs[\"Date\"] = pd.to_datetime(qbs[\"Date\"])\n",
        "qbs[\"Date\"].head()"
      ],
      "execution_count": 308,
      "outputs": [
        {
          "output_type": "execute_result",
          "data": {
            "text/plain": [
              "0   2019-09-08\n",
              "1   2019-09-08\n",
              "2   2019-09-08\n",
              "3   2019-09-08\n",
              "4   2019-09-08\n",
              "Name: Date, dtype: datetime64[ns]"
            ]
          },
          "metadata": {
            "tags": []
          },
          "execution_count": 308
        }
      ]
    },
    {
      "cell_type": "markdown",
      "metadata": {
        "id": "Gm1b6K_Q5BmM"
      },
      "source": [
        "#### Verificando a necessidade da coluna League"
      ]
    },
    {
      "cell_type": "code",
      "metadata": {
        "id": "l-flkAx75Mux",
        "outputId": "92c6817c-b5b1-481a-c6df-6d1b4ba05b95",
        "colab": {
          "base_uri": "https://localhost:8080/"
        }
      },
      "source": [
        "qbs[\"League\"].unique()"
      ],
      "execution_count": 309,
      "outputs": [
        {
          "output_type": "execute_result",
          "data": {
            "text/plain": [
              "array(['NFL'], dtype=object)"
            ]
          },
          "metadata": {
            "tags": []
          },
          "execution_count": 309
        }
      ]
    },
    {
      "cell_type": "markdown",
      "metadata": {
        "id": "lscN4YrM5Shh"
      },
      "source": [
        "Como podemos ver todas as linhas tem o mesmo valor para esta coluna. Como já é sabido que estamos no contexto da NFL, vou retirá-la do dataset."
      ]
    },
    {
      "cell_type": "code",
      "metadata": {
        "id": "kaboQXb85aW_"
      },
      "source": [
        "qbs = qbs.drop(columns=['League'])"
      ],
      "execution_count": 310,
      "outputs": []
    },
    {
      "cell_type": "markdown",
      "metadata": {
        "id": "ffDTy1DrDchE"
      },
      "source": [
        "#### Separar dados da coluna Result"
      ]
    },
    {
      "cell_type": "code",
      "metadata": {
        "id": "e_WKHtKbDrbr",
        "outputId": "f4161173-55bb-49e9-809d-f04d2f8c38e3",
        "colab": {
          "base_uri": "https://localhost:8080/"
        }
      },
      "source": [
        "qbs[\"Result\"].head()"
      ],
      "execution_count": 311,
      "outputs": [
        {
          "output_type": "execute_result",
          "data": {
            "text/plain": [
              "0    W 59-10\n",
              "1    W 35-17\n",
              "2    W 59-10\n",
              "3    W 40-26\n",
              "4    W 28-12\n",
              "Name: Result, dtype: object"
            ]
          },
          "metadata": {
            "tags": []
          },
          "execution_count": 311
        }
      ]
    },
    {
      "cell_type": "markdown",
      "metadata": {
        "id": "ozX2NesDDwIu"
      },
      "source": [
        "A coluna result contem 3 informaçoes: O resultado final do jogo para o jogador, a quantidade de pontos feitos e a quantidade de pontos recebidos. Vamos separar esses dados em 3 colunas distintas"
      ]
    },
    {
      "cell_type": "code",
      "metadata": {
        "id": "Yz2bQiNhDv5Y",
        "outputId": "e98ca6ab-adb7-4fac-bd4e-cc4fd3ed868a",
        "colab": {
          "base_uri": "https://localhost:8080/"
        }
      },
      "source": [
        "import re\n",
        "parsed_results = qbs[\"Result\"].map(lambda result: re.findall('(.+) (\\d+)-(\\d+)', result)[0])\n",
        "qbs['Game_result'] = parsed_results.map(lambda parsed: parsed[0])\n",
        "qbs['Points_scored'] = parsed_results.map(lambda parsed: parsed[1])\n",
        "qbs['Points_Taken'] = parsed_results.map(lambda parsed: parsed[2])\n",
        "\n",
        "qbs[['Game_result', 'Points_scored', 'Points_Taken']].info()"
      ],
      "execution_count": 312,
      "outputs": [
        {
          "output_type": "stream",
          "text": [
            "<class 'pandas.core.frame.DataFrame'>\n",
            "RangeIndex: 611 entries, 0 to 610\n",
            "Data columns (total 3 columns):\n",
            " #   Column         Non-Null Count  Dtype \n",
            "---  ------         --------------  ----- \n",
            " 0   Game_result    611 non-null    object\n",
            " 1   Points_scored  611 non-null    object\n",
            " 2   Points_Taken   611 non-null    object\n",
            "dtypes: object(3)\n",
            "memory usage: 14.4+ KB\n"
          ],
          "name": "stdout"
        }
      ]
    },
    {
      "cell_type": "markdown",
      "metadata": {
        "id": "1p2rqO05LY15"
      },
      "source": [
        "Após dividir as informaçoes, vamos mudar o tipo para inteiro e apagar a coluna que foi dividida."
      ]
    },
    {
      "cell_type": "code",
      "metadata": {
        "id": "5L0VQoa5IDR1",
        "outputId": "19316f9c-dade-410e-8356-e92a2ebe605b",
        "colab": {
          "base_uri": "https://localhost:8080/"
        }
      },
      "source": [
        "qbs['Points_scored'] = pd.to_numeric(qbs['Points_scored'])\n",
        "qbs['Points_Taken'] = pd.to_numeric(qbs['Points_Taken'])\n",
        "qbs[['Game_result', 'Points_scored', 'Points_Taken']].info()"
      ],
      "execution_count": 313,
      "outputs": [
        {
          "output_type": "stream",
          "text": [
            "<class 'pandas.core.frame.DataFrame'>\n",
            "RangeIndex: 611 entries, 0 to 610\n",
            "Data columns (total 3 columns):\n",
            " #   Column         Non-Null Count  Dtype \n",
            "---  ------         --------------  ----- \n",
            " 0   Game_result    611 non-null    object\n",
            " 1   Points_scored  611 non-null    int64 \n",
            " 2   Points_Taken   611 non-null    int64 \n",
            "dtypes: int64(2), object(1)\n",
            "memory usage: 14.4+ KB\n"
          ],
          "name": "stdout"
        }
      ]
    },
    {
      "cell_type": "code",
      "metadata": {
        "id": "q1poBOk9LhJr"
      },
      "source": [
        "qbs = qbs.drop(columns=['Result'])"
      ],
      "execution_count": 314,
      "outputs": []
    },
    {
      "cell_type": "markdown",
      "metadata": {
        "id": "YmLnlHgpLp4a"
      },
      "source": [
        "### Resultado final\n"
      ]
    },
    {
      "cell_type": "code",
      "metadata": {
        "id": "-CeyUYc5Lsaa",
        "outputId": "d3989276-bae2-4357-8297-ca23c98c1dbc",
        "colab": {
          "base_uri": "https://localhost:8080/",
          "height": 0
        }
      },
      "source": [
        "qbs.head()"
      ],
      "execution_count": 315,
      "outputs": [
        {
          "output_type": "execute_result",
          "data": {
            "text/html": [
              "<div>\n",
              "<style scoped>\n",
              "    .dataframe tbody tr th:only-of-type {\n",
              "        vertical-align: middle;\n",
              "    }\n",
              "\n",
              "    .dataframe tbody tr th {\n",
              "        vertical-align: top;\n",
              "    }\n",
              "\n",
              "    .dataframe thead th {\n",
              "        text-align: right;\n",
              "    }\n",
              "</style>\n",
              "<table border=\"1\" class=\"dataframe\">\n",
              "  <thead>\n",
              "    <tr style=\"text-align: right;\">\n",
              "      <th></th>\n",
              "      <th>Rank</th>\n",
              "      <th>Player</th>\n",
              "      <th>Position</th>\n",
              "      <th>Age</th>\n",
              "      <th>Date</th>\n",
              "      <th>Team</th>\n",
              "      <th>Opp</th>\n",
              "      <th>Game</th>\n",
              "      <th>Week</th>\n",
              "      <th>Day</th>\n",
              "      <th>Cmp</th>\n",
              "      <th>Pass_Att</th>\n",
              "      <th>Cmp_Per</th>\n",
              "      <th>Pass_Yards</th>\n",
              "      <th>Pass_TD</th>\n",
              "      <th>Pass_Int</th>\n",
              "      <th>QB_Rate</th>\n",
              "      <th>Sacked</th>\n",
              "      <th>Yds_Lost</th>\n",
              "      <th>Yards_Att</th>\n",
              "      <th>Adj_Yards_Att</th>\n",
              "      <th>Game_result</th>\n",
              "      <th>Points_scored</th>\n",
              "      <th>Points_Taken</th>\n",
              "    </tr>\n",
              "  </thead>\n",
              "  <tbody>\n",
              "    <tr>\n",
              "      <th>0</th>\n",
              "      <td>1</td>\n",
              "      <td>Lamar Jackson</td>\n",
              "      <td>QB</td>\n",
              "      <td>22.244</td>\n",
              "      <td>2019-09-08</td>\n",
              "      <td>BAL</td>\n",
              "      <td>MIA</td>\n",
              "      <td>1</td>\n",
              "      <td>1</td>\n",
              "      <td>Sun</td>\n",
              "      <td>17</td>\n",
              "      <td>20</td>\n",
              "      <td>85.00</td>\n",
              "      <td>324</td>\n",
              "      <td>5</td>\n",
              "      <td>0</td>\n",
              "      <td>158.3</td>\n",
              "      <td>1</td>\n",
              "      <td>1</td>\n",
              "      <td>16.20</td>\n",
              "      <td>16.20</td>\n",
              "      <td>W</td>\n",
              "      <td>59</td>\n",
              "      <td>10</td>\n",
              "    </tr>\n",
              "    <tr>\n",
              "      <th>1</th>\n",
              "      <td>2</td>\n",
              "      <td>Dak Prescott</td>\n",
              "      <td>QB</td>\n",
              "      <td>26.041</td>\n",
              "      <td>2019-09-08</td>\n",
              "      <td>DAL</td>\n",
              "      <td>NYG</td>\n",
              "      <td>1</td>\n",
              "      <td>1</td>\n",
              "      <td>Sun</td>\n",
              "      <td>25</td>\n",
              "      <td>32</td>\n",
              "      <td>78.13</td>\n",
              "      <td>405</td>\n",
              "      <td>4</td>\n",
              "      <td>0</td>\n",
              "      <td>158.3</td>\n",
              "      <td>0</td>\n",
              "      <td>0</td>\n",
              "      <td>12.66</td>\n",
              "      <td>12.66</td>\n",
              "      <td>W</td>\n",
              "      <td>35</td>\n",
              "      <td>17</td>\n",
              "    </tr>\n",
              "    <tr>\n",
              "      <th>2</th>\n",
              "      <td>3</td>\n",
              "      <td>Robert Griffin III</td>\n",
              "      <td>QB</td>\n",
              "      <td>29.208</td>\n",
              "      <td>2019-09-08</td>\n",
              "      <td>BAL</td>\n",
              "      <td>MIA</td>\n",
              "      <td>1</td>\n",
              "      <td>1</td>\n",
              "      <td>Sun</td>\n",
              "      <td>6</td>\n",
              "      <td>6</td>\n",
              "      <td>100.00</td>\n",
              "      <td>55</td>\n",
              "      <td>1</td>\n",
              "      <td>0</td>\n",
              "      <td>144.4</td>\n",
              "      <td>0</td>\n",
              "      <td>0</td>\n",
              "      <td>9.17</td>\n",
              "      <td>9.17</td>\n",
              "      <td>W</td>\n",
              "      <td>59</td>\n",
              "      <td>10</td>\n",
              "    </tr>\n",
              "    <tr>\n",
              "      <th>3</th>\n",
              "      <td>4</td>\n",
              "      <td>Patrick Mahomes</td>\n",
              "      <td>QB</td>\n",
              "      <td>23.356</td>\n",
              "      <td>2019-09-08</td>\n",
              "      <td>KAN</td>\n",
              "      <td>JAX</td>\n",
              "      <td>1</td>\n",
              "      <td>1</td>\n",
              "      <td>Sun</td>\n",
              "      <td>25</td>\n",
              "      <td>33</td>\n",
              "      <td>75.76</td>\n",
              "      <td>378</td>\n",
              "      <td>3</td>\n",
              "      <td>0</td>\n",
              "      <td>143.2</td>\n",
              "      <td>0</td>\n",
              "      <td>0</td>\n",
              "      <td>11.45</td>\n",
              "      <td>11.45</td>\n",
              "      <td>W</td>\n",
              "      <td>40</td>\n",
              "      <td>26</td>\n",
              "    </tr>\n",
              "    <tr>\n",
              "      <th>4</th>\n",
              "      <td>5</td>\n",
              "      <td>Kirk Cousins</td>\n",
              "      <td>QB</td>\n",
              "      <td>31.020</td>\n",
              "      <td>2019-09-08</td>\n",
              "      <td>MIN</td>\n",
              "      <td>ATL</td>\n",
              "      <td>1</td>\n",
              "      <td>1</td>\n",
              "      <td>Sun</td>\n",
              "      <td>8</td>\n",
              "      <td>10</td>\n",
              "      <td>80.00</td>\n",
              "      <td>98</td>\n",
              "      <td>1</td>\n",
              "      <td>0</td>\n",
              "      <td>140.8</td>\n",
              "      <td>1</td>\n",
              "      <td>1</td>\n",
              "      <td>9.80</td>\n",
              "      <td>9.80</td>\n",
              "      <td>W</td>\n",
              "      <td>28</td>\n",
              "      <td>12</td>\n",
              "    </tr>\n",
              "  </tbody>\n",
              "</table>\n",
              "</div>"
            ],
            "text/plain": [
              "   Rank              Player Position  ...  Game_result Points_scored Points_Taken\n",
              "0     1       Lamar Jackson       QB  ...            W            59           10\n",
              "1     2        Dak Prescott       QB  ...            W            35           17\n",
              "2     3  Robert Griffin III       QB  ...            W            59           10\n",
              "3     4     Patrick Mahomes       QB  ...            W            40           26\n",
              "4     5        Kirk Cousins       QB  ...            W            28           12\n",
              "\n",
              "[5 rows x 24 columns]"
            ]
          },
          "metadata": {
            "tags": []
          },
          "execution_count": 315
        }
      ]
    },
    {
      "cell_type": "code",
      "metadata": {
        "id": "C0NRjB1sLvTO",
        "outputId": "eb538234-fda4-4a25-f0bd-9cde0aef4105",
        "colab": {
          "base_uri": "https://localhost:8080/"
        }
      },
      "source": [
        "qbs.info()"
      ],
      "execution_count": 316,
      "outputs": [
        {
          "output_type": "stream",
          "text": [
            "<class 'pandas.core.frame.DataFrame'>\n",
            "RangeIndex: 611 entries, 0 to 610\n",
            "Data columns (total 24 columns):\n",
            " #   Column         Non-Null Count  Dtype         \n",
            "---  ------         --------------  -----         \n",
            " 0   Rank           611 non-null    int64         \n",
            " 1   Player         611 non-null    object        \n",
            " 2   Position       611 non-null    object        \n",
            " 3   Age            611 non-null    float64       \n",
            " 4   Date           611 non-null    datetime64[ns]\n",
            " 5   Team           611 non-null    object        \n",
            " 6   Opp            611 non-null    object        \n",
            " 7   Game           611 non-null    int64         \n",
            " 8   Week           611 non-null    int64         \n",
            " 9   Day            611 non-null    object        \n",
            " 10  Cmp            611 non-null    int64         \n",
            " 11  Pass_Att       611 non-null    int64         \n",
            " 12  Cmp_Per        611 non-null    float64       \n",
            " 13  Pass_Yards     611 non-null    int64         \n",
            " 14  Pass_TD        611 non-null    int64         \n",
            " 15  Pass_Int       611 non-null    int64         \n",
            " 16  QB_Rate        611 non-null    float64       \n",
            " 17  Sacked         611 non-null    int64         \n",
            " 18  Yds_Lost       611 non-null    int64         \n",
            " 19  Yards_Att      611 non-null    float64       \n",
            " 20  Adj_Yards_Att  611 non-null    float64       \n",
            " 21  Game_result    611 non-null    object        \n",
            " 22  Points_scored  611 non-null    int64         \n",
            " 23  Points_Taken   611 non-null    int64         \n",
            "dtypes: datetime64[ns](1), float64(5), int64(12), object(6)\n",
            "memory usage: 114.7+ KB\n"
          ],
          "name": "stdout"
        }
      ]
    },
    {
      "cell_type": "markdown",
      "metadata": {
        "id": "hapL4XIfYwJE"
      },
      "source": [
        "## Trabalho de Classificaçao de dados\n",
        "\n",
        "Agora tentarei montar um classificador para prever se um QB ganhou ou perdeu uma partida de acordo com os seus atributos. \n"
      ]
    },
    {
      "cell_type": "markdown",
      "metadata": {
        "id": "WzxF-2YmXkJ7"
      },
      "source": [
        "Antes de tudo, vou remover um único jogo que deu empate na temporada que está sendo estudada pois precisamos de pelo menos 5 exemplos de cada classa para utilizar a validaçao cruzada (cross-validation). Desse jeito, so deve haver vitórias ou derrotas no dataset.\n",
        "\n"
      ]
    },
    {
      "cell_type": "code",
      "metadata": {
        "id": "CMgKHy53Xsnf",
        "outputId": "a65381cc-5dda-4286-e160-322e2d032628",
        "colab": {
          "base_uri": "https://localhost:8080/"
        }
      },
      "source": [
        "qbs = qbs[qbs[\"Game_result\"] != 'T']\n",
        "qbs[\"Game_result\"].unique()"
      ],
      "execution_count": 317,
      "outputs": [
        {
          "output_type": "execute_result",
          "data": {
            "text/plain": [
              "array(['W', 'L'], dtype=object)"
            ]
          },
          "metadata": {
            "tags": []
          },
          "execution_count": 317
        }
      ]
    },
    {
      "cell_type": "markdown",
      "metadata": {
        "id": "TLDKmrKnlD4R"
      },
      "source": [
        "Vamos focar também apenas nos Quarterbacks de fato do dataset. Assim conseguimos tirar qualquer outros dados de outras posições."
      ]
    },
    {
      "cell_type": "code",
      "metadata": {
        "id": "JgsQ7-IRlDWY",
        "outputId": "89ff3811-56af-4b52-b054-76e6e8914519",
        "colab": {
          "base_uri": "https://localhost:8080/"
        }
      },
      "source": [
        "qbs = qbs[qbs[\"Position\"] == 'QB']\n",
        "qbs[\"Position\"].unique()"
      ],
      "execution_count": 318,
      "outputs": [
        {
          "output_type": "execute_result",
          "data": {
            "text/plain": [
              "array(['QB'], dtype=object)"
            ]
          },
          "metadata": {
            "tags": []
          },
          "execution_count": 318
        }
      ]
    },
    {
      "cell_type": "markdown",
      "metadata": {
        "id": "7-ECr3enSBut"
      },
      "source": [
        "### Preparaçao dos dados\n",
        "\n",
        "Primeiramente vamos remover as colunas que dizem os resultados dos jogos e separar os dados entre \"entradas\" e \"saída\" esperados.\n",
        "\n",
        "Sobre a saída, ela deve se basear apenas no status da partida: Se foi W ou L.\n",
        "\n",
        "Sobre os atributos de entrada, além de retirar os dados de resultado da partida, também vou retirar dados que não devem estar relacionados aos atributos da partida: Rank, Nome, Posição, Times envolvidos na partida, Data e ID do jogo."
      ]
    },
    {
      "cell_type": "code",
      "metadata": {
        "id": "ajsobYCKdZav",
        "outputId": "46360ed1-69df-46b4-c25f-58c64fb491cd",
        "colab": {
          "base_uri": "https://localhost:8080/",
          "height": 427
        }
      },
      "source": [
        "results = qbs[\"Game_result\"]\n",
        "\n",
        "qbs_attributes = qbs.drop(['Game_result', 'Points_scored', 'Points_Taken', 'Rank', 'Player', 'Position', 'Date', 'Team', 'Opp', 'Game'], axis=1)\n",
        "\n",
        "qbs_attributes"
      ],
      "execution_count": 319,
      "outputs": [
        {
          "output_type": "execute_result",
          "data": {
            "text/html": [
              "<div>\n",
              "<style scoped>\n",
              "    .dataframe tbody tr th:only-of-type {\n",
              "        vertical-align: middle;\n",
              "    }\n",
              "\n",
              "    .dataframe tbody tr th {\n",
              "        vertical-align: top;\n",
              "    }\n",
              "\n",
              "    .dataframe thead th {\n",
              "        text-align: right;\n",
              "    }\n",
              "</style>\n",
              "<table border=\"1\" class=\"dataframe\">\n",
              "  <thead>\n",
              "    <tr style=\"text-align: right;\">\n",
              "      <th></th>\n",
              "      <th>Age</th>\n",
              "      <th>Week</th>\n",
              "      <th>Day</th>\n",
              "      <th>Cmp</th>\n",
              "      <th>Pass_Att</th>\n",
              "      <th>Cmp_Per</th>\n",
              "      <th>Pass_Yards</th>\n",
              "      <th>Pass_TD</th>\n",
              "      <th>Pass_Int</th>\n",
              "      <th>QB_Rate</th>\n",
              "      <th>Sacked</th>\n",
              "      <th>Yds_Lost</th>\n",
              "      <th>Yards_Att</th>\n",
              "      <th>Adj_Yards_Att</th>\n",
              "    </tr>\n",
              "  </thead>\n",
              "  <tbody>\n",
              "    <tr>\n",
              "      <th>0</th>\n",
              "      <td>22.244</td>\n",
              "      <td>1</td>\n",
              "      <td>Sun</td>\n",
              "      <td>17</td>\n",
              "      <td>20</td>\n",
              "      <td>85.00</td>\n",
              "      <td>324</td>\n",
              "      <td>5</td>\n",
              "      <td>0</td>\n",
              "      <td>158.3</td>\n",
              "      <td>1</td>\n",
              "      <td>1</td>\n",
              "      <td>16.20</td>\n",
              "      <td>16.20</td>\n",
              "    </tr>\n",
              "    <tr>\n",
              "      <th>1</th>\n",
              "      <td>26.041</td>\n",
              "      <td>1</td>\n",
              "      <td>Sun</td>\n",
              "      <td>25</td>\n",
              "      <td>32</td>\n",
              "      <td>78.13</td>\n",
              "      <td>405</td>\n",
              "      <td>4</td>\n",
              "      <td>0</td>\n",
              "      <td>158.3</td>\n",
              "      <td>0</td>\n",
              "      <td>0</td>\n",
              "      <td>12.66</td>\n",
              "      <td>12.66</td>\n",
              "    </tr>\n",
              "    <tr>\n",
              "      <th>2</th>\n",
              "      <td>29.208</td>\n",
              "      <td>1</td>\n",
              "      <td>Sun</td>\n",
              "      <td>6</td>\n",
              "      <td>6</td>\n",
              "      <td>100.00</td>\n",
              "      <td>55</td>\n",
              "      <td>1</td>\n",
              "      <td>0</td>\n",
              "      <td>144.4</td>\n",
              "      <td>0</td>\n",
              "      <td>0</td>\n",
              "      <td>9.17</td>\n",
              "      <td>9.17</td>\n",
              "    </tr>\n",
              "    <tr>\n",
              "      <th>3</th>\n",
              "      <td>23.356</td>\n",
              "      <td>1</td>\n",
              "      <td>Sun</td>\n",
              "      <td>25</td>\n",
              "      <td>33</td>\n",
              "      <td>75.76</td>\n",
              "      <td>378</td>\n",
              "      <td>3</td>\n",
              "      <td>0</td>\n",
              "      <td>143.2</td>\n",
              "      <td>0</td>\n",
              "      <td>0</td>\n",
              "      <td>11.45</td>\n",
              "      <td>11.45</td>\n",
              "    </tr>\n",
              "    <tr>\n",
              "      <th>4</th>\n",
              "      <td>31.020</td>\n",
              "      <td>1</td>\n",
              "      <td>Sun</td>\n",
              "      <td>8</td>\n",
              "      <td>10</td>\n",
              "      <td>80.00</td>\n",
              "      <td>98</td>\n",
              "      <td>1</td>\n",
              "      <td>0</td>\n",
              "      <td>140.8</td>\n",
              "      <td>1</td>\n",
              "      <td>1</td>\n",
              "      <td>9.80</td>\n",
              "      <td>9.80</td>\n",
              "    </tr>\n",
              "    <tr>\n",
              "      <th>...</th>\n",
              "      <td>...</td>\n",
              "      <td>...</td>\n",
              "      <td>...</td>\n",
              "      <td>...</td>\n",
              "      <td>...</td>\n",
              "      <td>...</td>\n",
              "      <td>...</td>\n",
              "      <td>...</td>\n",
              "      <td>...</td>\n",
              "      <td>...</td>\n",
              "      <td>...</td>\n",
              "      <td>...</td>\n",
              "      <td>...</td>\n",
              "      <td>...</td>\n",
              "    </tr>\n",
              "    <tr>\n",
              "      <th>605</th>\n",
              "      <td>23.261</td>\n",
              "      <td>17</td>\n",
              "      <td>Sun</td>\n",
              "      <td>9</td>\n",
              "      <td>25</td>\n",
              "      <td>36.00</td>\n",
              "      <td>95</td>\n",
              "      <td>0</td>\n",
              "      <td>0</td>\n",
              "      <td>47.9</td>\n",
              "      <td>2</td>\n",
              "      <td>18</td>\n",
              "      <td>3.80</td>\n",
              "      <td>3.80</td>\n",
              "    </tr>\n",
              "    <tr>\n",
              "      <th>606</th>\n",
              "      <td>29.320</td>\n",
              "      <td>17</td>\n",
              "      <td>Sun</td>\n",
              "      <td>11</td>\n",
              "      <td>21</td>\n",
              "      <td>52.38</td>\n",
              "      <td>96</td>\n",
              "      <td>0</td>\n",
              "      <td>1</td>\n",
              "      <td>44.9</td>\n",
              "      <td>3</td>\n",
              "      <td>15</td>\n",
              "      <td>4.57</td>\n",
              "      <td>4.57</td>\n",
              "    </tr>\n",
              "    <tr>\n",
              "      <th>607</th>\n",
              "      <td>24.151</td>\n",
              "      <td>17</td>\n",
              "      <td>Sun</td>\n",
              "      <td>12</td>\n",
              "      <td>29</td>\n",
              "      <td>41.38</td>\n",
              "      <td>122</td>\n",
              "      <td>0</td>\n",
              "      <td>1</td>\n",
              "      <td>39.7</td>\n",
              "      <td>1</td>\n",
              "      <td>7</td>\n",
              "      <td>4.21</td>\n",
              "      <td>4.21</td>\n",
              "    </tr>\n",
              "    <tr>\n",
              "      <th>609</th>\n",
              "      <td>27.248</td>\n",
              "      <td>17</td>\n",
              "      <td>Sun</td>\n",
              "      <td>12</td>\n",
              "      <td>21</td>\n",
              "      <td>57.14</td>\n",
              "      <td>126</td>\n",
              "      <td>0</td>\n",
              "      <td>2</td>\n",
              "      <td>35.1</td>\n",
              "      <td>0</td>\n",
              "      <td>0</td>\n",
              "      <td>6.00</td>\n",
              "      <td>6.00</td>\n",
              "    </tr>\n",
              "    <tr>\n",
              "      <th>610</th>\n",
              "      <td>24.270</td>\n",
              "      <td>17</td>\n",
              "      <td>Sun</td>\n",
              "      <td>1</td>\n",
              "      <td>8</td>\n",
              "      <td>12.50</td>\n",
              "      <td>4</td>\n",
              "      <td>0</td>\n",
              "      <td>1</td>\n",
              "      <td>0.0</td>\n",
              "      <td>1</td>\n",
              "      <td>7</td>\n",
              "      <td>0.50</td>\n",
              "      <td>0.50</td>\n",
              "    </tr>\n",
              "  </tbody>\n",
              "</table>\n",
              "<p>566 rows × 14 columns</p>\n",
              "</div>"
            ],
            "text/plain": [
              "        Age  Week  Day  Cmp  ...  Sacked  Yds_Lost  Yards_Att  Adj_Yards_Att\n",
              "0    22.244     1  Sun   17  ...       1         1      16.20          16.20\n",
              "1    26.041     1  Sun   25  ...       0         0      12.66          12.66\n",
              "2    29.208     1  Sun    6  ...       0         0       9.17           9.17\n",
              "3    23.356     1  Sun   25  ...       0         0      11.45          11.45\n",
              "4    31.020     1  Sun    8  ...       1         1       9.80           9.80\n",
              "..      ...   ...  ...  ...  ...     ...       ...        ...            ...\n",
              "605  23.261    17  Sun    9  ...       2        18       3.80           3.80\n",
              "606  29.320    17  Sun   11  ...       3        15       4.57           4.57\n",
              "607  24.151    17  Sun   12  ...       1         7       4.21           4.21\n",
              "609  27.248    17  Sun   12  ...       0         0       6.00           6.00\n",
              "610  24.270    17  Sun    1  ...       1         7       0.50           0.50\n",
              "\n",
              "[566 rows x 14 columns]"
            ]
          },
          "metadata": {
            "tags": []
          },
          "execution_count": 319
        }
      ]
    },
    {
      "cell_type": "markdown",
      "metadata": {
        "id": "jvL9HimgF-F7"
      },
      "source": [
        "Também temos que transformar o dia em um número para que os modelos aceitem o seu formato."
      ]
    },
    {
      "cell_type": "code",
      "metadata": {
        "id": "SFtOmH60GHzl"
      },
      "source": [
        "qbs_attributes['Day'] = qbs_attributes['Day'].astype('category').cat.codes"
      ],
      "execution_count": 320,
      "outputs": []
    },
    {
      "cell_type": "markdown",
      "metadata": {
        "id": "dMoK1rbjVZdC"
      },
      "source": [
        "Também temos que transformar os resultados em números.\n"
      ]
    },
    {
      "cell_type": "code",
      "metadata": {
        "id": "IGO2KxrfVc8c"
      },
      "source": [
        "results = results.astype('category').cat.codes"
      ],
      "execution_count": 321,
      "outputs": []
    },
    {
      "cell_type": "markdown",
      "metadata": {
        "id": "ItN0cOLRaRIu"
      },
      "source": [
        "Como iremos utilizar o método de cross validation, não é necessário separaros dados em treinamento, validação e teste pois o próprio algoritmo já faz este trabalho."
      ]
    },
    {
      "cell_type": "markdown",
      "metadata": {
        "id": "6EIvD2T_JxkI"
      },
      "source": [
        "### Tunning de Modelos\n",
        "\n",
        "Agora temos que escolher que modelo utilizaremos para o nosso preditor. \n",
        "Os modelos escolhidos para se trabalhar foram:\n",
        "\n",
        "\n",
        "*   Multi-layer Perceptron\n",
        "*   k-nearest neighbors\n",
        "*   Decision Tree\n",
        "*   Random Forest\n",
        "\n",
        "Vamos agora passar por cada um para escolher os melhores hiper-parâmetros através do método de cross-validation. Com ela vamos testar o mesmo modelo com multiplos subconjutos mutualmente exclusivos de dados para medir o nível de generalizaçao do mesmo."
      ]
    },
    {
      "cell_type": "markdown",
      "metadata": {
        "id": "qUG41d5nNei0"
      },
      "source": [
        "#### Multi-layer Perceptron\n",
        "\n",
        "Vamos agora escolher os melhores valores de **alpha** e **max_iter** para este algoritmo.\n",
        "\n",
        "\n",
        "Primeiramente vamos analisar a acurácia de alpha entre 0.0001 e 0.001 aumentando em 0.00025."
      ]
    },
    {
      "cell_type": "code",
      "metadata": {
        "id": "kCXztNDGIdu3",
        "outputId": "52874ee1-c753-44ce-99b0-daa6fffcd143",
        "colab": {
          "base_uri": "https://localhost:8080/",
          "height": 351
        }
      },
      "source": [
        "from sklearn.neural_network import MLPClassifier\n",
        "from sklearn.neighbors import KNeighborsClassifier\n",
        "import numpy \n",
        "alpha_range = numpy.arange(0.0001, 0.001, 0.00010)\n",
        "alpha_scores = {}\n",
        "for a in alpha_range:\n",
        "    model = MLPClassifier(alpha=a)\n",
        "    scores = cross_val_score(model, qbs_attributes, results, cv=5, scoring='accuracy')\n",
        "    alpha_scores[a] = scores.mean() \n",
        "\n",
        "plt.plot(list(alpha_scores.keys()), list(alpha_scores.values()))\n",
        "plt.xlabel('Value of alpha for MLP')\n",
        "plt.ylabel('Cross-Validated Accuracy')"
      ],
      "execution_count": 322,
      "outputs": [
        {
          "output_type": "stream",
          "text": [
            "/usr/local/lib/python3.6/dist-packages/sklearn/neural_network/_multilayer_perceptron.py:571: ConvergenceWarning: Stochastic Optimizer: Maximum iterations (200) reached and the optimization hasn't converged yet.\n",
            "  % self.max_iter, ConvergenceWarning)\n"
          ],
          "name": "stderr"
        },
        {
          "output_type": "execute_result",
          "data": {
            "text/plain": [
              "Text(0, 0.5, 'Cross-Validated Accuracy')"
            ]
          },
          "metadata": {
            "tags": []
          },
          "execution_count": 322
        },
        {
          "output_type": "display_data",
          "data": {
            "image/png": "[encoded data removed]",
            "text/plain": [
              "<Figure size 432x288 with 1 Axes>"
            ]
          },
          "metadata": {
            "tags": [],
            "needs_background": "light"
          }
        }
      ]
    },
    {
      "cell_type": "code",
      "metadata": {
        "id": "i7pCT9Q0itVQ",
        "outputId": "059e80f7-8679-40e8-d7eb-509c0326dc76",
        "colab": {
          "base_uri": "https://localhost:8080/"
        }
      },
      "source": [
        "best_alpha = 0\n",
        "best_accuracy = 0\n",
        "\n",
        "for index, accuracy in alpha_scores.items():\n",
        "  if best_accuracy < accuracy:\n",
        "    best_alpha = index\n",
        "    best_accuracy = accuracy\n",
        "\n",
        "print(\"A melhor acurácia (\", best_accuracy*100, \"%) foi encontrada com alpha =\", best_alpha)"
      ],
      "execution_count": 323,
      "outputs": [
        {
          "output_type": "stream",
          "text": [
            "A melhor acurácia ( 74.19965843813073 %) foi encontrada com alpha = 0.0004\n"
          ],
          "name": "stdout"
        }
      ]
    },
    {
      "cell_type": "markdown",
      "metadata": {
        "id": "kfImTxmUi3VS"
      },
      "source": [
        "Agora vamos descobrir um valor bom para max_iter baseado no valor de alpha. Vamos mudar max_iter de 100 até 300 aumentando de 10 em 10."
      ]
    },
    {
      "cell_type": "code",
      "metadata": {
        "id": "vy9pNrxzi8uf",
        "outputId": "a2cf880a-1c17-400a-811d-bf2ec3a43d54",
        "colab": {
          "base_uri": "https://localhost:8080/",
          "height": 663
        }
      },
      "source": [
        "max_iter_range = range(100, 300, 10)\n",
        "max_iter_scores = {}\n",
        "\n",
        "for m in max_iter_range:\n",
        "    model = MLPClassifier(alpha=best_alpha, max_iter=m)\n",
        "    scores = cross_val_score(model, qbs_attributes, results, cv=5, scoring='accuracy')\n",
        "    max_iter_scores[m] = scores.mean() \n",
        "\n",
        "plt.plot(list(alpha_scores.keys()), list(alpha_scores.values()))\n",
        "plt.xlabel('Value of max_iter for MLP')\n",
        "plt.ylabel('Cross-Validated Accuracy')"
      ],
      "execution_count": 324,
      "outputs": [
        {
          "output_type": "stream",
          "text": [
            "/usr/local/lib/python3.6/dist-packages/sklearn/neural_network/_multilayer_perceptron.py:571: ConvergenceWarning: Stochastic Optimizer: Maximum iterations (100) reached and the optimization hasn't converged yet.\n",
            "  % self.max_iter, ConvergenceWarning)\n",
            "/usr/local/lib/python3.6/dist-packages/sklearn/neural_network/_multilayer_perceptron.py:571: ConvergenceWarning: Stochastic Optimizer: Maximum iterations (100) reached and the optimization hasn't converged yet.\n",
            "  % self.max_iter, ConvergenceWarning)\n",
            "/usr/local/lib/python3.6/dist-packages/sklearn/neural_network/_multilayer_perceptron.py:571: ConvergenceWarning: Stochastic Optimizer: Maximum iterations (110) reached and the optimization hasn't converged yet.\n",
            "  % self.max_iter, ConvergenceWarning)\n",
            "/usr/local/lib/python3.6/dist-packages/sklearn/neural_network/_multilayer_perceptron.py:571: ConvergenceWarning: Stochastic Optimizer: Maximum iterations (110) reached and the optimization hasn't converged yet.\n",
            "  % self.max_iter, ConvergenceWarning)\n",
            "/usr/local/lib/python3.6/dist-packages/sklearn/neural_network/_multilayer_perceptron.py:571: ConvergenceWarning: Stochastic Optimizer: Maximum iterations (110) reached and the optimization hasn't converged yet.\n",
            "  % self.max_iter, ConvergenceWarning)\n",
            "/usr/local/lib/python3.6/dist-packages/sklearn/neural_network/_multilayer_perceptron.py:571: ConvergenceWarning: Stochastic Optimizer: Maximum iterations (120) reached and the optimization hasn't converged yet.\n",
            "  % self.max_iter, ConvergenceWarning)\n",
            "/usr/local/lib/python3.6/dist-packages/sklearn/neural_network/_multilayer_perceptron.py:571: ConvergenceWarning: Stochastic Optimizer: Maximum iterations (120) reached and the optimization hasn't converged yet.\n",
            "  % self.max_iter, ConvergenceWarning)\n",
            "/usr/local/lib/python3.6/dist-packages/sklearn/neural_network/_multilayer_perceptron.py:571: ConvergenceWarning: Stochastic Optimizer: Maximum iterations (130) reached and the optimization hasn't converged yet.\n",
            "  % self.max_iter, ConvergenceWarning)\n",
            "/usr/local/lib/python3.6/dist-packages/sklearn/neural_network/_multilayer_perceptron.py:571: ConvergenceWarning: Stochastic Optimizer: Maximum iterations (140) reached and the optimization hasn't converged yet.\n",
            "  % self.max_iter, ConvergenceWarning)\n",
            "/usr/local/lib/python3.6/dist-packages/sklearn/neural_network/_multilayer_perceptron.py:571: ConvergenceWarning: Stochastic Optimizer: Maximum iterations (140) reached and the optimization hasn't converged yet.\n",
            "  % self.max_iter, ConvergenceWarning)\n"
          ],
          "name": "stderr"
        },
        {
          "output_type": "execute_result",
          "data": {
            "text/plain": [
              "Text(0, 0.5, 'Cross-Validated Accuracy')"
            ]
          },
          "metadata": {
            "tags": []
          },
          "execution_count": 324
        },
        {
          "output_type": "display_data",
          "data": {
            "image/png": "[encoded data removed]",
            "text/plain": [
              "<Figure size 432x288 with 1 Axes>"
            ]
          },
          "metadata": {
            "tags": [],
            "needs_background": "light"
          }
        }
      ]
    },
    {
      "cell_type": "code",
      "metadata": {
        "id": "GmrMoekejobp",
        "outputId": "983d72d7-95cc-4f03-bb90-2c4483784fd1",
        "colab": {
          "base_uri": "https://localhost:8080/"
        }
      },
      "source": [
        "best_max_iter = 200\n",
        "\n",
        "for index, accuracy in max_iter_scores.items():\n",
        "  if best_accuracy < accuracy:\n",
        "    best_max_iter = index\n",
        "    best_accuracy = accuracy\n",
        "\n",
        "print(\"A melhor acurácia (\", best_accuracy*100, \"%) foi encontrada com alpha =\", best_alpha, \" e max_iter = \", best_max_iter)"
      ],
      "execution_count": 325,
      "outputs": [
        {
          "output_type": "stream",
          "text": [
            "A melhor acurácia ( 74.20586865393574 %) foi encontrada com alpha = 0.0004  e max_iter =  110\n"
          ],
          "name": "stdout"
        }
      ]
    },
    {
      "cell_type": "markdown",
      "metadata": {
        "id": "HZoQdkYyOQKw"
      },
      "source": [
        "#### KNN\n",
        "\n",
        "Vamos agora escolher o melhor valor de **N_neighbors** para este algoritmo. Vamos analisar a acurácia de valores entre 1 e 30.\n"
      ]
    },
    {
      "cell_type": "code",
      "metadata": {
        "id": "hTufaWjUOQKx",
        "outputId": "0e91b365-01cc-4191-a3d6-5e7a4207fa09",
        "colab": {
          "base_uri": "https://localhost:8080/",
          "height": 296
        }
      },
      "source": [
        "from sklearn.neighbors import KNeighborsClassifier\n",
        "k_range = range(1,31)\n",
        "k_scores = {}\n",
        "\n",
        "for k in k_range:\n",
        "    model = KNeighborsClassifier(n_neighbors=k)\n",
        "    scores = cross_val_score(model, qbs_attributes, results, cv=5, scoring='accuracy')\n",
        "    k_scores[k] = scores.mean() \n",
        "\n",
        "plt.plot(list(k_scores.keys()), list(k_scores.values()))\n",
        "plt.xlabel('Value of K for KNN')\n",
        "plt.ylabel('Cross-Validated Accuracy')"
      ],
      "execution_count": 326,
      "outputs": [
        {
          "output_type": "execute_result",
          "data": {
            "text/plain": [
              "Text(0, 0.5, 'Cross-Validated Accuracy')"
            ]
          },
          "metadata": {
            "tags": []
          },
          "execution_count": 326
        },
        {
          "output_type": "display_data",
          "data": {
            "image/png": "[encoded data removed]",
            "text/plain": [
              "<Figure size 432x288 with 1 Axes>"
            ]
          },
          "metadata": {
            "tags": [],
            "needs_background": "light"
          }
        }
      ]
    },
    {
      "cell_type": "markdown",
      "metadata": {
        "id": "1b_iRdCsbp4S"
      },
      "source": [
        "Agora vamos procurar qual foi o K que gerou a melhor acurácia."
      ]
    },
    {
      "cell_type": "code",
      "metadata": {
        "id": "5UBCxdpgTKfY",
        "outputId": "de9e9fd1-ef4a-470c-dc25-2fbb794cae89",
        "colab": {
          "base_uri": "https://localhost:8080/"
        }
      },
      "source": [
        "best_k = 1\n",
        "best_accuracy = 0\n",
        "\n",
        "for index, accuracy in k_scores.items():\n",
        "  if best_accuracy < accuracy:\n",
        "    best_k = index\n",
        "    best_accuracy = accuracy\n",
        "\n",
        "print(\"A melhor acurácia (\", best_accuracy*100, \"%) foi encontrada com K =\", best_k)"
      ],
      "execution_count": 327,
      "outputs": [
        {
          "output_type": "stream",
          "text": [
            "A melhor acurácia ( 74.56295606272319 %) foi encontrada com K = 9\n"
          ],
          "name": "stdout"
        }
      ]
    },
    {
      "cell_type": "markdown",
      "metadata": {
        "id": "LFm85YJyOcr1"
      },
      "source": [
        "#### Decision Tree\n",
        "\n",
        "Vamos agora escolher o melhor valor de **max_depth** para este algoritmo. Vamos alternar o max_depth entre os valores de 1 e 30.\n"
      ]
    },
    {
      "cell_type": "code",
      "metadata": {
        "id": "yGuGTuRkOcr7",
        "outputId": "09e8223e-860b-4390-b106-3d2e483f63b9",
        "colab": {
          "base_uri": "https://localhost:8080/",
          "height": 296
        }
      },
      "source": [
        "from sklearn.tree import DecisionTreeClassifier\n",
        "\n",
        "depth_range = range(1,31)\n",
        "depth_scores = {}\n",
        "\n",
        "for d in depth_range:\n",
        "    model = DecisionTreeClassifier(max_depth=d)\n",
        "    scores = cross_val_score(model, qbs_attributes, results, cv=5, scoring='accuracy')\n",
        "    depth_scores[d] = scores.mean()\n",
        "\n",
        "plt.plot(list(depth_scores.keys()), list(depth_scores.values()))\n",
        "plt.xlabel('Value of Max-Depth for DecisionTreeClassifier')\n",
        "plt.ylabel('Cross-Validated Accuracy')"
      ],
      "execution_count": 328,
      "outputs": [
        {
          "output_type": "execute_result",
          "data": {
            "text/plain": [
              "Text(0, 0.5, 'Cross-Validated Accuracy')"
            ]
          },
          "metadata": {
            "tags": []
          },
          "execution_count": 328
        },
        {
          "output_type": "display_data",
          "data": {
            "image/png": "[encoded data removed]",
            "text/plain": [
              "<Figure size 432x288 with 1 Axes>"
            ]
          },
          "metadata": {
            "tags": [],
            "needs_background": "light"
          }
        }
      ]
    },
    {
      "cell_type": "markdown",
      "metadata": {
        "id": "mIIJ453hb6ZM"
      },
      "source": [
        "Agora vamos procurar qual foi a profundidade que gerou a melhor acurácia."
      ]
    },
    {
      "cell_type": "code",
      "metadata": {
        "id": "vju1H6aJb6ZR",
        "outputId": "7662ad38-06ad-4276-ed7c-cd666d095581",
        "colab": {
          "base_uri": "https://localhost:8080/"
        }
      },
      "source": [
        "best_depth = 1\n",
        "best_accuracy = 0\n",
        "\n",
        "for index, accuracy in depth_scores.items():\n",
        "  if best_accuracy < accuracy:\n",
        "    best_depth = index\n",
        "    best_accuracy = accuracy\n",
        "\n",
        "print(\"A melhor acurácia (\", best_accuracy*100, \"%) foi encontrada com max-depth =\", best_depth)"
      ],
      "execution_count": 329,
      "outputs": [
        {
          "output_type": "stream",
          "text": [
            "A melhor acurácia ( 71.19546654246236 %) foi encontrada com max-depth = 5\n"
          ],
          "name": "stdout"
        }
      ]
    },
    {
      "cell_type": "markdown",
      "metadata": {
        "id": "LYqHlFclOc79"
      },
      "source": [
        "#### Random Forest\n",
        "\n",
        "Vamos agora escolher o melhor valor de **n_estimators** (o númeor de árvores na floresta) para este algoritmo. Aqui vamos utilizar valores de 10 a 200 aumentando de 10 em 10\n"
      ]
    },
    {
      "cell_type": "code",
      "metadata": {
        "id": "HuxN0ZSseEJE",
        "outputId": "8090e2d5-5c1b-446f-80b3-a2d957f66390",
        "colab": {
          "base_uri": "https://localhost:8080/",
          "height": 297
        }
      },
      "source": [
        "from sklearn.ensemble import RandomForestClassifier\n",
        "\n",
        "estimators_range = range(10,200, 10)\n",
        "estimators_scores = {}\n",
        "\n",
        "for e in estimators_range:\n",
        "    model = RandomForestClassifier(n_estimators=e)\n",
        "    scores = cross_val_score(model, qbs_attributes, results, cv=5, scoring='accuracy')\n",
        "    estimators_scores[e] = scores.mean()\n",
        "\n",
        "plt.plot(list(estimators_scores.keys()), list(estimators_scores.values()))\n",
        "plt.xlabel('Value of n_estimators for RandomForestClassifier')\n",
        "plt.ylabel('Cross-Validated Accuracy')"
      ],
      "execution_count": 330,
      "outputs": [
        {
          "output_type": "execute_result",
          "data": {
            "text/plain": [
              "Text(0, 0.5, 'Cross-Validated Accuracy')"
            ]
          },
          "metadata": {
            "tags": []
          },
          "execution_count": 330
        },
        {
          "output_type": "display_data",
          "data": {
            "image/png": "[encoded data removed]",
            "text/plain": [
              "<Figure size 432x288 with 1 Axes>"
            ]
          },
          "metadata": {
            "tags": [],
            "needs_background": "light"
          }
        }
      ]
    },
    {
      "cell_type": "markdown",
      "metadata": {
        "id": "mNw7WJ0JeEJO"
      },
      "source": [
        "Agora vamos procurar qual foi o número de estimadores que gerou a melhor acurácia."
      ]
    },
    {
      "cell_type": "code",
      "metadata": {
        "id": "oSAXEaffeEJO",
        "outputId": "8ffcefbe-c56e-4572-da6c-469766a61ef2",
        "colab": {
          "base_uri": "https://localhost:8080/"
        }
      },
      "source": [
        "best_estimators = 1\n",
        "best_accuracy = 0\n",
        "\n",
        "for index, accuracy in estimators_scores.items():\n",
        "  if best_accuracy < accuracy:\n",
        "    best_estimators = index\n",
        "    best_accuracy = accuracy\n",
        "\n",
        "print(\"A melhor acurácia (\", best_accuracy*100, \"%) foi encontrada com n_estimators =\", best_estimators)"
      ],
      "execution_count": 331,
      "outputs": [
        {
          "output_type": "stream",
          "text": [
            "A melhor acurácia ( 74.02577239559076 %) foi encontrada com n_estimators = 30\n"
          ],
          "name": "stdout"
        }
      ]
    },
    {
      "cell_type": "markdown",
      "metadata": {
        "id": "B0R2vl2XahPU"
      },
      "source": [
        "## Consideraçoes finais\n",
        "\n",
        "Talvez a quantidade baixa de dados (566 linhas) tenha impactado no quão bom o modelo se tornou.\n"
      ]
    }
  ]
}