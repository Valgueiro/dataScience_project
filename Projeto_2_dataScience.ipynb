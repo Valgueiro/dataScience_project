{
  "nbformat": 4,
  "nbformat_minor": 0,
  "metadata": {
    "colab": {
      "name": "Projeto 1_dataScience.ipynb",
      "provenance": [],
      "collapsed_sections": [],
      "toc_visible": true,
      "include_colab_link": true
    },
    "kernelspec": {
      "name": "python3",
      "display_name": "Python 3"
    }
  },
  "cells": [
    {
      "cell_type": "markdown",
      "metadata": {
        "id": "view-in-github",
        "colab_type": "text"
      },
      "source": [
        "<a href=\"https://colab.research.google.com/github/Valgueiro/dataScience_project/blob/master/Projeto_2_dataScience.ipynb\" target=\"_parent\"><img src=\"https://colab.research.google.com/assets/colab-badge.svg\" alt=\"Open In Colab\"/></a>"
      ]
    },
    {
      "cell_type": "markdown",
      "metadata": {
        "id": "uIbSp-73wljE"
      },
      "source": [
        "# Analisandos os dados da temporada 2019/20 da NFL\n",
        "\n",
        "Utilizarei os dados de https://www.kaggle.com/dvc415/nfl-2019-weekly-player-stats . Nele podemos encontrar estatísticas sobre diversos jogadores de 3 posiçoes do futebol americano:\n",
        "\n",
        "* Quaterbacks (qbs) - A mente por trás do ataque, são os responsáveis por liderar e coordenar o ataque\n",
        "\n",
        "* Running Backs (rbs) - corredores da equipe, geralmente recebem a bola diretamente do Quarteback e correm para dentro da defesa.\n",
        "\n",
        "* Wide receivers (wrs) - também são corredores, mas geralmente correm pra dentro da defesa adversária e recebem a bola do QB através de um passe."
      ]
    },
    {
      "cell_type": "markdown",
      "metadata": {
        "id": "aisi1eEuyYi9"
      },
      "source": [
        "## Pré-processando os dados"
      ]
    },
    {
      "cell_type": "markdown",
      "metadata": {
        "id": "YhtJ7rtdWqRO"
      },
      "source": [
        "### Coletando dados\n",
        "\n"
      ]
    },
    {
      "cell_type": "code",
      "metadata": {
        "id": "V7b-GeVtcSSO"
      },
      "source": [
        "import numpy as np\n",
        "import pandas as pd\n",
        "from scipy import stats\n",
        "\n",
        "from sklearn.metrics import accuracy_score\n",
        "from sklearn.model_selection import cross_val_score"
      ],
      "execution_count": 160,
      "outputs": []
    },
    {
      "cell_type": "code",
      "metadata": {
        "id": "MGDLq2b1U6-I"
      },
      "source": [
        "qbs = pd.read_csv(\"https://raw.githubusercontent.com/Valgueiro/dataScience_project/master/data/nfl_2019_qb_weekly_stats.csv\")"
      ],
      "execution_count": 161,
      "outputs": []
    },
    {
      "cell_type": "markdown",
      "metadata": {
        "id": "xVbonCpVyeUX"
      },
      "source": [
        "### Filtrando e reorganizando os dados de Qbs"
      ]
    },
    {
      "cell_type": "code",
      "metadata": {
        "id": "0iOIZQJ1yiOA",
        "outputId": "431af372-7254-4ecd-9960-c43e875c0b52",
        "colab": {
          "base_uri": "https://localhost:8080/"
        }
      },
      "source": [
        "qbs.info()"
      ],
      "execution_count": 162,
      "outputs": [
        {
          "output_type": "stream",
          "text": [
            "<class 'pandas.core.frame.DataFrame'>\n",
            "RangeIndex: 611 entries, 0 to 610\n",
            "Data columns (total 23 columns):\n",
            " #   Column         Non-Null Count  Dtype  \n",
            "---  ------         --------------  -----  \n",
            " 0   Rank           611 non-null    int64  \n",
            " 1   Player         611 non-null    object \n",
            " 2   Position       611 non-null    object \n",
            " 3   Age            611 non-null    float64\n",
            " 4   Date           611 non-null    object \n",
            " 5   League         611 non-null    object \n",
            " 6   Team           611 non-null    object \n",
            " 7   Opp            611 non-null    object \n",
            " 8   Result         611 non-null    object \n",
            " 9   Game           611 non-null    int64  \n",
            " 10  Week           611 non-null    int64  \n",
            " 11  Day            611 non-null    object \n",
            " 12  Cmp            611 non-null    int64  \n",
            " 13  Pass_Att       611 non-null    int64  \n",
            " 14  Cmp_Per        611 non-null    float64\n",
            " 15  Pass_Yards     611 non-null    int64  \n",
            " 16  Pass_TD        611 non-null    int64  \n",
            " 17  Pass_Int       611 non-null    int64  \n",
            " 18  QB_Rate        611 non-null    float64\n",
            " 19  Sacked         611 non-null    int64  \n",
            " 20  Yds_Lost       611 non-null    int64  \n",
            " 21  Yards_Att      611 non-null    float64\n",
            " 22  Adj_Yards_Att  611 non-null    float64\n",
            "dtypes: float64(5), int64(10), object(8)\n",
            "memory usage: 109.9+ KB\n"
          ],
          "name": "stdout"
        }
      ]
    },
    {
      "cell_type": "markdown",
      "metadata": {
        "id": "uepKCJhd3oEN"
      },
      "source": [
        "Logo de cara podemos ver que não temos dados ausentes, mas alguns tipos devem ser estudados e melhorados, assim como algumas colunas devem ser discretizadas."
      ]
    },
    {
      "cell_type": "markdown",
      "metadata": {
        "id": "RIu2dg930hUJ"
      },
      "source": [
        "#### Verificando a necessidade da coluna \"Position\""
      ]
    },
    {
      "cell_type": "code",
      "metadata": {
        "id": "IapOQHht0JZU",
        "outputId": "477472eb-b0b6-4898-d38d-6cd67e6b2873",
        "colab": {
          "base_uri": "https://localhost:8080/"
        }
      },
      "source": [
        "qbs[\"Position\"].unique()"
      ],
      "execution_count": 163,
      "outputs": [
        {
          "output_type": "execute_result",
          "data": {
            "text/plain": [
              "array(['QB', 'WR', 'RB', 'K', 'P', 'FB/TE'], dtype=object)"
            ]
          },
          "metadata": {
            "tags": []
          },
          "execution_count": 163
        }
      ]
    },
    {
      "cell_type": "code",
      "metadata": {
        "id": "iFys5n5007jT",
        "outputId": "675691c6-82aa-4c30-f00d-e7a9b06fe897",
        "colab": {
          "base_uri": "https://localhost:8080/",
          "height": 0
        }
      },
      "source": [
        "qbs[qbs[\"Position\"] == 'WR'][[\"Player\", \"Pass_Att\"]]"
      ],
      "execution_count": 164,
      "outputs": [
        {
          "output_type": "execute_result",
          "data": {
            "text/html": [
              "<div>\n",
              "<style scoped>\n",
              "    .dataframe tbody tr th:only-of-type {\n",
              "        vertical-align: middle;\n",
              "    }\n",
              "\n",
              "    .dataframe tbody tr th {\n",
              "        vertical-align: top;\n",
              "    }\n",
              "\n",
              "    .dataframe thead th {\n",
              "        text-align: right;\n",
              "    }\n",
              "</style>\n",
              "<table border=\"1\" class=\"dataframe\">\n",
              "  <thead>\n",
              "    <tr style=\"text-align: right;\">\n",
              "      <th></th>\n",
              "      <th>Player</th>\n",
              "      <th>Pass_Att</th>\n",
              "    </tr>\n",
              "  </thead>\n",
              "  <tbody>\n",
              "    <tr>\n",
              "      <th>14</th>\n",
              "      <td>Julian Edelman</td>\n",
              "      <td>1</td>\n",
              "    </tr>\n",
              "    <tr>\n",
              "      <th>43</th>\n",
              "      <td>Dante Pettis</td>\n",
              "      <td>1</td>\n",
              "    </tr>\n",
              "    <tr>\n",
              "      <th>142</th>\n",
              "      <td>Odell Beckham Jr.</td>\n",
              "      <td>1</td>\n",
              "    </tr>\n",
              "    <tr>\n",
              "      <th>146</th>\n",
              "      <td>DeAndre Hopkins</td>\n",
              "      <td>1</td>\n",
              "    </tr>\n",
              "    <tr>\n",
              "      <th>151</th>\n",
              "      <td>Odell Beckham Jr.</td>\n",
              "      <td>1</td>\n",
              "    </tr>\n",
              "    <tr>\n",
              "      <th>248</th>\n",
              "      <td>Zach Pascal</td>\n",
              "      <td>1</td>\n",
              "    </tr>\n",
              "    <tr>\n",
              "      <th>338</th>\n",
              "      <td>Randall Cobb</td>\n",
              "      <td>1</td>\n",
              "    </tr>\n",
              "    <tr>\n",
              "      <th>343</th>\n",
              "      <td>Julian Edelman</td>\n",
              "      <td>1</td>\n",
              "    </tr>\n",
              "    <tr>\n",
              "      <th>348</th>\n",
              "      <td>Courtland Sutton</td>\n",
              "      <td>1</td>\n",
              "    </tr>\n",
              "    <tr>\n",
              "      <th>411</th>\n",
              "      <td>Steven Sims</td>\n",
              "      <td>1</td>\n",
              "    </tr>\n",
              "    <tr>\n",
              "      <th>413</th>\n",
              "      <td>John Brown</td>\n",
              "      <td>1</td>\n",
              "    </tr>\n",
              "    <tr>\n",
              "      <th>415</th>\n",
              "      <td>DeAndre Hopkins</td>\n",
              "      <td>1</td>\n",
              "    </tr>\n",
              "    <tr>\n",
              "      <th>452</th>\n",
              "      <td>Emmanuel Sanders</td>\n",
              "      <td>1</td>\n",
              "    </tr>\n",
              "    <tr>\n",
              "      <th>458</th>\n",
              "      <td>Alex Erickson</td>\n",
              "      <td>1</td>\n",
              "    </tr>\n",
              "    <tr>\n",
              "      <th>490</th>\n",
              "      <td>Cooper Kupp</td>\n",
              "      <td>1</td>\n",
              "    </tr>\n",
              "    <tr>\n",
              "      <th>529</th>\n",
              "      <td>Josh Gordon</td>\n",
              "      <td>1</td>\n",
              "    </tr>\n",
              "    <tr>\n",
              "      <th>537</th>\n",
              "      <td>Kelvin Harmon</td>\n",
              "      <td>1</td>\n",
              "    </tr>\n",
              "    <tr>\n",
              "      <th>569</th>\n",
              "      <td>Stefon Diggs</td>\n",
              "      <td>1</td>\n",
              "    </tr>\n",
              "    <tr>\n",
              "      <th>571</th>\n",
              "      <td>Danny Amendola</td>\n",
              "      <td>1</td>\n",
              "    </tr>\n",
              "    <tr>\n",
              "      <th>586</th>\n",
              "      <td>Albert Wilson</td>\n",
              "      <td>2</td>\n",
              "    </tr>\n",
              "  </tbody>\n",
              "</table>\n",
              "</div>"
            ],
            "text/plain": [
              "                Player  Pass_Att\n",
              "14      Julian Edelman         1\n",
              "43        Dante Pettis         1\n",
              "142  Odell Beckham Jr.         1\n",
              "146    DeAndre Hopkins         1\n",
              "151  Odell Beckham Jr.         1\n",
              "248        Zach Pascal         1\n",
              "338       Randall Cobb         1\n",
              "343     Julian Edelman         1\n",
              "348   Courtland Sutton         1\n",
              "411        Steven Sims         1\n",
              "413         John Brown         1\n",
              "415    DeAndre Hopkins         1\n",
              "452   Emmanuel Sanders         1\n",
              "458      Alex Erickson         1\n",
              "490        Cooper Kupp         1\n",
              "529        Josh Gordon         1\n",
              "537      Kelvin Harmon         1\n",
              "569       Stefon Diggs         1\n",
              "571     Danny Amendola         1\n",
              "586      Albert Wilson         2"
            ]
          },
          "metadata": {
            "tags": []
          },
          "execution_count": 164
        }
      ]
    },
    {
      "cell_type": "markdown",
      "metadata": {
        "id": "r_Engxny0s8d"
      },
      "source": [
        "Como podemos ver, o dataset conta também com jogadores de outra posição que jogaram de QB em algum momento, como por exemplo os Wide Receivers que vemos nesta ultima tabela. Com as duas colunas mostradas podemos ver que todos eles fizeram apenas 2 passes no máximo. Geralmente essas jogadas são fora do comum, são chamadas de \"trick play\"."
      ]
    },
    {
      "cell_type": "markdown",
      "metadata": {
        "id": "ngDRtfud2VKJ"
      },
      "source": [
        "#### Verificando o tipo da coluna \"Age\""
      ]
    },
    {
      "cell_type": "code",
      "metadata": {
        "id": "oSRlJ3BH2CMR",
        "outputId": "f2d676bd-c545-4fef-beb8-eaf9aa25b252",
        "colab": {
          "base_uri": "https://localhost:8080/"
        }
      },
      "source": [
        "qbs[\"Age\"].describe()"
      ],
      "execution_count": 165,
      "outputs": [
        {
          "output_type": "execute_result",
          "data": {
            "text/plain": [
              "count    611.000000\n",
              "mean      28.154298\n",
              "std        5.364599\n",
              "min       22.032000\n",
              "25%       24.046500\n",
              "50%       26.308000\n",
              "75%       31.219000\n",
              "max       42.148000\n",
              "Name: Age, dtype: float64"
            ]
          },
          "metadata": {
            "tags": []
          },
          "execution_count": 165
        }
      ]
    },
    {
      "cell_type": "code",
      "metadata": {
        "id": "XpJGSd0t2coA",
        "outputId": "8e544841-5c61-4bca-c735-9c644f7d6d15",
        "colab": {
          "base_uri": "https://localhost:8080/",
          "height": 0
        }
      },
      "source": [
        "qbs[qbs[\"Player\"] == \"Kirk Cousins\"][[\"Player\",\"Age\",\"Date\"]]"
      ],
      "execution_count": 166,
      "outputs": [
        {
          "output_type": "execute_result",
          "data": {
            "text/html": [
              "<div>\n",
              "<style scoped>\n",
              "    .dataframe tbody tr th:only-of-type {\n",
              "        vertical-align: middle;\n",
              "    }\n",
              "\n",
              "    .dataframe tbody tr th {\n",
              "        vertical-align: top;\n",
              "    }\n",
              "\n",
              "    .dataframe thead th {\n",
              "        text-align: right;\n",
              "    }\n",
              "</style>\n",
              "<table border=\"1\" class=\"dataframe\">\n",
              "  <thead>\n",
              "    <tr style=\"text-align: right;\">\n",
              "      <th></th>\n",
              "      <th>Player</th>\n",
              "      <th>Age</th>\n",
              "      <th>Date</th>\n",
              "    </tr>\n",
              "  </thead>\n",
              "  <tbody>\n",
              "    <tr>\n",
              "      <th>4</th>\n",
              "      <td>Kirk Cousins</td>\n",
              "      <td>31.020</td>\n",
              "      <td>2019-09-08</td>\n",
              "    </tr>\n",
              "    <tr>\n",
              "      <th>72</th>\n",
              "      <td>Kirk Cousins</td>\n",
              "      <td>31.027</td>\n",
              "      <td>2019-09-15</td>\n",
              "    </tr>\n",
              "    <tr>\n",
              "      <th>86</th>\n",
              "      <td>Kirk Cousins</td>\n",
              "      <td>31.034</td>\n",
              "      <td>2019-09-22</td>\n",
              "    </tr>\n",
              "    <tr>\n",
              "      <th>126</th>\n",
              "      <td>Kirk Cousins</td>\n",
              "      <td>31.041</td>\n",
              "      <td>2019-09-29</td>\n",
              "    </tr>\n",
              "    <tr>\n",
              "      <th>149</th>\n",
              "      <td>Kirk Cousins</td>\n",
              "      <td>31.048</td>\n",
              "      <td>2019-10-06</td>\n",
              "    </tr>\n",
              "    <tr>\n",
              "      <th>186</th>\n",
              "      <td>Kirk Cousins</td>\n",
              "      <td>31.055</td>\n",
              "      <td>2019-10-13</td>\n",
              "    </tr>\n",
              "    <tr>\n",
              "      <th>219</th>\n",
              "      <td>Kirk Cousins</td>\n",
              "      <td>31.062</td>\n",
              "      <td>2019-10-20</td>\n",
              "    </tr>\n",
              "    <tr>\n",
              "      <th>259</th>\n",
              "      <td>Kirk Cousins</td>\n",
              "      <td>31.066</td>\n",
              "      <td>2019-10-24</td>\n",
              "    </tr>\n",
              "    <tr>\n",
              "      <th>298</th>\n",
              "      <td>Kirk Cousins</td>\n",
              "      <td>31.076</td>\n",
              "      <td>2019-11-03</td>\n",
              "    </tr>\n",
              "    <tr>\n",
              "      <th>318</th>\n",
              "      <td>Kirk Cousins</td>\n",
              "      <td>31.083</td>\n",
              "      <td>2019-11-10</td>\n",
              "    </tr>\n",
              "    <tr>\n",
              "      <th>345</th>\n",
              "      <td>Kirk Cousins</td>\n",
              "      <td>31.090</td>\n",
              "      <td>2019-11-17</td>\n",
              "    </tr>\n",
              "    <tr>\n",
              "      <th>433</th>\n",
              "      <td>Kirk Cousins</td>\n",
              "      <td>31.105</td>\n",
              "      <td>2019-12-02</td>\n",
              "    </tr>\n",
              "    <tr>\n",
              "      <th>464</th>\n",
              "      <td>Kirk Cousins</td>\n",
              "      <td>31.111</td>\n",
              "      <td>2019-12-08</td>\n",
              "    </tr>\n",
              "    <tr>\n",
              "      <th>502</th>\n",
              "      <td>Kirk Cousins</td>\n",
              "      <td>31.118</td>\n",
              "      <td>2019-12-15</td>\n",
              "    </tr>\n",
              "    <tr>\n",
              "      <th>566</th>\n",
              "      <td>Kirk Cousins</td>\n",
              "      <td>31.126</td>\n",
              "      <td>2019-12-23</td>\n",
              "    </tr>\n",
              "  </tbody>\n",
              "</table>\n",
              "</div>"
            ],
            "text/plain": [
              "           Player     Age        Date\n",
              "4    Kirk Cousins  31.020  2019-09-08\n",
              "72   Kirk Cousins  31.027  2019-09-15\n",
              "86   Kirk Cousins  31.034  2019-09-22\n",
              "126  Kirk Cousins  31.041  2019-09-29\n",
              "149  Kirk Cousins  31.048  2019-10-06\n",
              "186  Kirk Cousins  31.055  2019-10-13\n",
              "219  Kirk Cousins  31.062  2019-10-20\n",
              "259  Kirk Cousins  31.066  2019-10-24\n",
              "298  Kirk Cousins  31.076  2019-11-03\n",
              "318  Kirk Cousins  31.083  2019-11-10\n",
              "345  Kirk Cousins  31.090  2019-11-17\n",
              "433  Kirk Cousins  31.105  2019-12-02\n",
              "464  Kirk Cousins  31.111  2019-12-08\n",
              "502  Kirk Cousins  31.118  2019-12-15\n",
              "566  Kirk Cousins  31.126  2019-12-23"
            ]
          },
          "metadata": {
            "tags": []
          },
          "execution_count": 166
        }
      ]
    },
    {
      "cell_type": "markdown",
      "metadata": {
        "id": "H0ed-UXP2mpK"
      },
      "source": [
        "Como podemos ver, apesar de idade normalmente ser tratada com inteiro, aqui é mostrada a idade inclusive incluindo a quantidade de meses e dias."
      ]
    },
    {
      "cell_type": "markdown",
      "metadata": {
        "id": "odoMOa7G3ZTC"
      },
      "source": [
        "#### Transformando o tipo da coluna Date"
      ]
    },
    {
      "cell_type": "markdown",
      "metadata": {
        "id": "muQcYAud31rv"
      },
      "source": [
        "Com o describe, vimos que a coluna Date está com o tipo Object. Devemos mudá-la para o tipo correto de datas."
      ]
    },
    {
      "cell_type": "code",
      "metadata": {
        "id": "UKycRAgW3gBy",
        "outputId": "6176ab57-a5c1-40c5-8557-d2eecaa39b74",
        "colab": {
          "base_uri": "https://localhost:8080/"
        }
      },
      "source": [
        "qbs[\"Date\"].head()"
      ],
      "execution_count": 167,
      "outputs": [
        {
          "output_type": "execute_result",
          "data": {
            "text/plain": [
              "0    2019-09-08\n",
              "1    2019-09-08\n",
              "2    2019-09-08\n",
              "3    2019-09-08\n",
              "4    2019-09-08\n",
              "Name: Date, dtype: object"
            ]
          },
          "metadata": {
            "tags": []
          },
          "execution_count": 167
        }
      ]
    },
    {
      "cell_type": "code",
      "metadata": {
        "id": "Q2IB2Y_a4zqn",
        "outputId": "c3401ad3-d8bb-4c48-d815-d16c70768ddb",
        "colab": {
          "base_uri": "https://localhost:8080/"
        }
      },
      "source": [
        "qbs[\"Date\"] = pd.to_datetime(qbs[\"Date\"])\n",
        "qbs[\"Date\"].head()"
      ],
      "execution_count": 168,
      "outputs": [
        {
          "output_type": "execute_result",
          "data": {
            "text/plain": [
              "0   2019-09-08\n",
              "1   2019-09-08\n",
              "2   2019-09-08\n",
              "3   2019-09-08\n",
              "4   2019-09-08\n",
              "Name: Date, dtype: datetime64[ns]"
            ]
          },
          "metadata": {
            "tags": []
          },
          "execution_count": 168
        }
      ]
    },
    {
      "cell_type": "markdown",
      "metadata": {
        "id": "Gm1b6K_Q5BmM"
      },
      "source": [
        "#### Verificando a necessidade da coluna League"
      ]
    },
    {
      "cell_type": "code",
      "metadata": {
        "id": "l-flkAx75Mux",
        "outputId": "a8b31edb-50f3-40f3-dae2-ed1dea00b208",
        "colab": {
          "base_uri": "https://localhost:8080/"
        }
      },
      "source": [
        "qbs[\"League\"].unique()"
      ],
      "execution_count": 169,
      "outputs": [
        {
          "output_type": "execute_result",
          "data": {
            "text/plain": [
              "array(['NFL'], dtype=object)"
            ]
          },
          "metadata": {
            "tags": []
          },
          "execution_count": 169
        }
      ]
    },
    {
      "cell_type": "markdown",
      "metadata": {
        "id": "lscN4YrM5Shh"
      },
      "source": [
        "Como podemos ver todas as linhas tem o mesmo valor para esta coluna. Como já é sabido que estamos no contexto da NFL, vou retirá-la do dataset."
      ]
    },
    {
      "cell_type": "code",
      "metadata": {
        "id": "kaboQXb85aW_"
      },
      "source": [
        "qbs = qbs.drop(columns=['League'])"
      ],
      "execution_count": 170,
      "outputs": []
    },
    {
      "cell_type": "markdown",
      "metadata": {
        "id": "ffDTy1DrDchE"
      },
      "source": [
        "#### Separar dados da coluna Result"
      ]
    },
    {
      "cell_type": "code",
      "metadata": {
        "id": "e_WKHtKbDrbr",
        "outputId": "9518144e-c86e-4c04-88e1-62d92c071fff",
        "colab": {
          "base_uri": "https://localhost:8080/"
        }
      },
      "source": [
        "qbs[\"Result\"].head()"
      ],
      "execution_count": 171,
      "outputs": [
        {
          "output_type": "execute_result",
          "data": {
            "text/plain": [
              "0    W 59-10\n",
              "1    W 35-17\n",
              "2    W 59-10\n",
              "3    W 40-26\n",
              "4    W 28-12\n",
              "Name: Result, dtype: object"
            ]
          },
          "metadata": {
            "tags": []
          },
          "execution_count": 171
        }
      ]
    },
    {
      "cell_type": "markdown",
      "metadata": {
        "id": "ozX2NesDDwIu"
      },
      "source": [
        "A coluna result contem 3 informaçoes: O resultado final do jogo para o jogador, a quantidade de pontos feitos e a quantidade de pontos recebidos. Vamos separar esses dados em 3 colunas distintas"
      ]
    },
    {
      "cell_type": "code",
      "metadata": {
        "id": "Yz2bQiNhDv5Y",
        "outputId": "a1870d98-b88e-43a0-fc92-d37675f6baa6",
        "colab": {
          "base_uri": "https://localhost:8080/"
        }
      },
      "source": [
        "import re\n",
        "parsed_results = qbs[\"Result\"].map(lambda result: re.findall('(.+) (\\d+)-(\\d+)', result)[0])\n",
        "qbs['Game_result'] = parsed_results.map(lambda parsed: parsed[0])\n",
        "qbs['Points_scored'] = parsed_results.map(lambda parsed: parsed[1])\n",
        "qbs['Points_Taken'] = parsed_results.map(lambda parsed: parsed[2])\n",
        "\n",
        "qbs[['Game_result', 'Points_scored', 'Points_Taken']].info()"
      ],
      "execution_count": 172,
      "outputs": [
        {
          "output_type": "stream",
          "text": [
            "<class 'pandas.core.frame.DataFrame'>\n",
            "RangeIndex: 611 entries, 0 to 610\n",
            "Data columns (total 3 columns):\n",
            " #   Column         Non-Null Count  Dtype \n",
            "---  ------         --------------  ----- \n",
            " 0   Game_result    611 non-null    object\n",
            " 1   Points_scored  611 non-null    object\n",
            " 2   Points_Taken   611 non-null    object\n",
            "dtypes: object(3)\n",
            "memory usage: 14.4+ KB\n"
          ],
          "name": "stdout"
        }
      ]
    },
    {
      "cell_type": "markdown",
      "metadata": {
        "id": "1p2rqO05LY15"
      },
      "source": [
        "Após dividir as informaçoes, vamos mudar o tipo para inteiro e apagar a coluna que foi dividida."
      ]
    },
    {
      "cell_type": "code",
      "metadata": {
        "id": "5L0VQoa5IDR1",
        "outputId": "596eb686-98ef-479d-d501-77bd74728bbc",
        "colab": {
          "base_uri": "https://localhost:8080/"
        }
      },
      "source": [
        "qbs['Points_scored'] = pd.to_numeric(qbs['Points_scored'])\n",
        "qbs['Points_Taken'] = pd.to_numeric(qbs['Points_Taken'])\n",
        "qbs[['Game_result', 'Points_scored', 'Points_Taken']].info()"
      ],
      "execution_count": 173,
      "outputs": [
        {
          "output_type": "stream",
          "text": [
            "<class 'pandas.core.frame.DataFrame'>\n",
            "RangeIndex: 611 entries, 0 to 610\n",
            "Data columns (total 3 columns):\n",
            " #   Column         Non-Null Count  Dtype \n",
            "---  ------         --------------  ----- \n",
            " 0   Game_result    611 non-null    object\n",
            " 1   Points_scored  611 non-null    int64 \n",
            " 2   Points_Taken   611 non-null    int64 \n",
            "dtypes: int64(2), object(1)\n",
            "memory usage: 14.4+ KB\n"
          ],
          "name": "stdout"
        }
      ]
    },
    {
      "cell_type": "code",
      "metadata": {
        "id": "q1poBOk9LhJr"
      },
      "source": [
        "qbs = qbs.drop(columns=['Result'])"
      ],
      "execution_count": 174,
      "outputs": []
    },
    {
      "cell_type": "markdown",
      "metadata": {
        "id": "YmLnlHgpLp4a"
      },
      "source": [
        "### Resultado final\n"
      ]
    },
    {
      "cell_type": "code",
      "metadata": {
        "id": "-CeyUYc5Lsaa",
        "outputId": "0e58b154-d3fb-4894-dffa-578a9027872a",
        "colab": {
          "base_uri": "https://localhost:8080/",
          "height": 0
        }
      },
      "source": [
        "qbs.head()"
      ],
      "execution_count": 175,
      "outputs": [
        {
          "output_type": "execute_result",
          "data": {
            "text/html": [
              "<div>\n",
              "<style scoped>\n",
              "    .dataframe tbody tr th:only-of-type {\n",
              "        vertical-align: middle;\n",
              "    }\n",
              "\n",
              "    .dataframe tbody tr th {\n",
              "        vertical-align: top;\n",
              "    }\n",
              "\n",
              "    .dataframe thead th {\n",
              "        text-align: right;\n",
              "    }\n",
              "</style>\n",
              "<table border=\"1\" class=\"dataframe\">\n",
              "  <thead>\n",
              "    <tr style=\"text-align: right;\">\n",
              "      <th></th>\n",
              "      <th>Rank</th>\n",
              "      <th>Player</th>\n",
              "      <th>Position</th>\n",
              "      <th>Age</th>\n",
              "      <th>Date</th>\n",
              "      <th>Team</th>\n",
              "      <th>Opp</th>\n",
              "      <th>Game</th>\n",
              "      <th>Week</th>\n",
              "      <th>Day</th>\n",
              "      <th>Cmp</th>\n",
              "      <th>Pass_Att</th>\n",
              "      <th>Cmp_Per</th>\n",
              "      <th>Pass_Yards</th>\n",
              "      <th>Pass_TD</th>\n",
              "      <th>Pass_Int</th>\n",
              "      <th>QB_Rate</th>\n",
              "      <th>Sacked</th>\n",
              "      <th>Yds_Lost</th>\n",
              "      <th>Yards_Att</th>\n",
              "      <th>Adj_Yards_Att</th>\n",
              "      <th>Game_result</th>\n",
              "      <th>Points_scored</th>\n",
              "      <th>Points_Taken</th>\n",
              "    </tr>\n",
              "  </thead>\n",
              "  <tbody>\n",
              "    <tr>\n",
              "      <th>0</th>\n",
              "      <td>1</td>\n",
              "      <td>Lamar Jackson</td>\n",
              "      <td>QB</td>\n",
              "      <td>22.244</td>\n",
              "      <td>2019-09-08</td>\n",
              "      <td>BAL</td>\n",
              "      <td>MIA</td>\n",
              "      <td>1</td>\n",
              "      <td>1</td>\n",
              "      <td>Sun</td>\n",
              "      <td>17</td>\n",
              "      <td>20</td>\n",
              "      <td>85.00</td>\n",
              "      <td>324</td>\n",
              "      <td>5</td>\n",
              "      <td>0</td>\n",
              "      <td>158.3</td>\n",
              "      <td>1</td>\n",
              "      <td>1</td>\n",
              "      <td>16.20</td>\n",
              "      <td>16.20</td>\n",
              "      <td>W</td>\n",
              "      <td>59</td>\n",
              "      <td>10</td>\n",
              "    </tr>\n",
              "    <tr>\n",
              "      <th>1</th>\n",
              "      <td>2</td>\n",
              "      <td>Dak Prescott</td>\n",
              "      <td>QB</td>\n",
              "      <td>26.041</td>\n",
              "      <td>2019-09-08</td>\n",
              "      <td>DAL</td>\n",
              "      <td>NYG</td>\n",
              "      <td>1</td>\n",
              "      <td>1</td>\n",
              "      <td>Sun</td>\n",
              "      <td>25</td>\n",
              "      <td>32</td>\n",
              "      <td>78.13</td>\n",
              "      <td>405</td>\n",
              "      <td>4</td>\n",
              "      <td>0</td>\n",
              "      <td>158.3</td>\n",
              "      <td>0</td>\n",
              "      <td>0</td>\n",
              "      <td>12.66</td>\n",
              "      <td>12.66</td>\n",
              "      <td>W</td>\n",
              "      <td>35</td>\n",
              "      <td>17</td>\n",
              "    </tr>\n",
              "    <tr>\n",
              "      <th>2</th>\n",
              "      <td>3</td>\n",
              "      <td>Robert Griffin III</td>\n",
              "      <td>QB</td>\n",
              "      <td>29.208</td>\n",
              "      <td>2019-09-08</td>\n",
              "      <td>BAL</td>\n",
              "      <td>MIA</td>\n",
              "      <td>1</td>\n",
              "      <td>1</td>\n",
              "      <td>Sun</td>\n",
              "      <td>6</td>\n",
              "      <td>6</td>\n",
              "      <td>100.00</td>\n",
              "      <td>55</td>\n",
              "      <td>1</td>\n",
              "      <td>0</td>\n",
              "      <td>144.4</td>\n",
              "      <td>0</td>\n",
              "      <td>0</td>\n",
              "      <td>9.17</td>\n",
              "      <td>9.17</td>\n",
              "      <td>W</td>\n",
              "      <td>59</td>\n",
              "      <td>10</td>\n",
              "    </tr>\n",
              "    <tr>\n",
              "      <th>3</th>\n",
              "      <td>4</td>\n",
              "      <td>Patrick Mahomes</td>\n",
              "      <td>QB</td>\n",
              "      <td>23.356</td>\n",
              "      <td>2019-09-08</td>\n",
              "      <td>KAN</td>\n",
              "      <td>JAX</td>\n",
              "      <td>1</td>\n",
              "      <td>1</td>\n",
              "      <td>Sun</td>\n",
              "      <td>25</td>\n",
              "      <td>33</td>\n",
              "      <td>75.76</td>\n",
              "      <td>378</td>\n",
              "      <td>3</td>\n",
              "      <td>0</td>\n",
              "      <td>143.2</td>\n",
              "      <td>0</td>\n",
              "      <td>0</td>\n",
              "      <td>11.45</td>\n",
              "      <td>11.45</td>\n",
              "      <td>W</td>\n",
              "      <td>40</td>\n",
              "      <td>26</td>\n",
              "    </tr>\n",
              "    <tr>\n",
              "      <th>4</th>\n",
              "      <td>5</td>\n",
              "      <td>Kirk Cousins</td>\n",
              "      <td>QB</td>\n",
              "      <td>31.020</td>\n",
              "      <td>2019-09-08</td>\n",
              "      <td>MIN</td>\n",
              "      <td>ATL</td>\n",
              "      <td>1</td>\n",
              "      <td>1</td>\n",
              "      <td>Sun</td>\n",
              "      <td>8</td>\n",
              "      <td>10</td>\n",
              "      <td>80.00</td>\n",
              "      <td>98</td>\n",
              "      <td>1</td>\n",
              "      <td>0</td>\n",
              "      <td>140.8</td>\n",
              "      <td>1</td>\n",
              "      <td>1</td>\n",
              "      <td>9.80</td>\n",
              "      <td>9.80</td>\n",
              "      <td>W</td>\n",
              "      <td>28</td>\n",
              "      <td>12</td>\n",
              "    </tr>\n",
              "  </tbody>\n",
              "</table>\n",
              "</div>"
            ],
            "text/plain": [
              "   Rank              Player Position  ...  Game_result Points_scored Points_Taken\n",
              "0     1       Lamar Jackson       QB  ...            W            59           10\n",
              "1     2        Dak Prescott       QB  ...            W            35           17\n",
              "2     3  Robert Griffin III       QB  ...            W            59           10\n",
              "3     4     Patrick Mahomes       QB  ...            W            40           26\n",
              "4     5        Kirk Cousins       QB  ...            W            28           12\n",
              "\n",
              "[5 rows x 24 columns]"
            ]
          },
          "metadata": {
            "tags": []
          },
          "execution_count": 175
        }
      ]
    },
    {
      "cell_type": "code",
      "metadata": {
        "id": "C0NRjB1sLvTO",
        "outputId": "11ec1d3f-21e5-46f5-91d4-395d9ac62208",
        "colab": {
          "base_uri": "https://localhost:8080/"
        }
      },
      "source": [
        "qbs.info()"
      ],
      "execution_count": 176,
      "outputs": [
        {
          "output_type": "stream",
          "text": [
            "<class 'pandas.core.frame.DataFrame'>\n",
            "RangeIndex: 611 entries, 0 to 610\n",
            "Data columns (total 24 columns):\n",
            " #   Column         Non-Null Count  Dtype         \n",
            "---  ------         --------------  -----         \n",
            " 0   Rank           611 non-null    int64         \n",
            " 1   Player         611 non-null    object        \n",
            " 2   Position       611 non-null    object        \n",
            " 3   Age            611 non-null    float64       \n",
            " 4   Date           611 non-null    datetime64[ns]\n",
            " 5   Team           611 non-null    object        \n",
            " 6   Opp            611 non-null    object        \n",
            " 7   Game           611 non-null    int64         \n",
            " 8   Week           611 non-null    int64         \n",
            " 9   Day            611 non-null    object        \n",
            " 10  Cmp            611 non-null    int64         \n",
            " 11  Pass_Att       611 non-null    int64         \n",
            " 12  Cmp_Per        611 non-null    float64       \n",
            " 13  Pass_Yards     611 non-null    int64         \n",
            " 14  Pass_TD        611 non-null    int64         \n",
            " 15  Pass_Int       611 non-null    int64         \n",
            " 16  QB_Rate        611 non-null    float64       \n",
            " 17  Sacked         611 non-null    int64         \n",
            " 18  Yds_Lost       611 non-null    int64         \n",
            " 19  Yards_Att      611 non-null    float64       \n",
            " 20  Adj_Yards_Att  611 non-null    float64       \n",
            " 21  Game_result    611 non-null    object        \n",
            " 22  Points_scored  611 non-null    int64         \n",
            " 23  Points_Taken   611 non-null    int64         \n",
            "dtypes: datetime64[ns](1), float64(5), int64(12), object(6)\n",
            "memory usage: 114.7+ KB\n"
          ],
          "name": "stdout"
        }
      ]
    },
    {
      "cell_type": "markdown",
      "metadata": {
        "id": "hapL4XIfYwJE"
      },
      "source": [
        "## Trabalho de Classificaçao de dados\n",
        "\n",
        "Agora tentarei montar um classificador para prever se um QB ganhou ou perdeu uma partida de acordo com os seus atributos. \n"
      ]
    },
    {
      "cell_type": "markdown",
      "metadata": {
        "id": "WzxF-2YmXkJ7"
      },
      "source": [
        "Antes de tudo, vou remover um único jogo que deu empate na temporada que está sendo estudada pois precisamos de pelo menos 5 exemplos de cada classa para utilizar a validaçao cruzada (cross-validation). Desse jeito, so deve haver vitórias ou derrotas no dataset.\n"
      ]
    },
    {
      "cell_type": "code",
      "metadata": {
        "id": "CMgKHy53Xsnf",
        "outputId": "8790dfcf-3a1b-4e13-b3fe-c974ad9b0918",
        "colab": {
          "base_uri": "https://localhost:8080/"
        }
      },
      "source": [
        "qbs = qbs[qbs[\"Game_result\"] != 'T']\n",
        "qbs[\"Game_result\"].unique()"
      ],
      "execution_count": 177,
      "outputs": [
        {
          "output_type": "execute_result",
          "data": {
            "text/plain": [
              "array(['W', 'L'], dtype=object)"
            ]
          },
          "metadata": {
            "tags": []
          },
          "execution_count": 177
        }
      ]
    },
    {
      "cell_type": "markdown",
      "metadata": {
        "id": "7-ECr3enSBut"
      },
      "source": [
        "### Preparaçao dos dados\n",
        "\n",
        "Primeiramente vamos remover as colunas que dizem os resultados dos jogos e separar os dados entre \"entradas\" e \"saída\" esperados.\n",
        "\n",
        "Sobre a saída, ela deve se basear apenas no status da partida: Se foi W ou L.\n",
        "\n",
        "Sobre os atributos de entrada, além de retirar os dados de resultado da partida, também vou retirar dados que não devem estar relacionados aos atributos da partida: Rank, Nome, Posição, Times envolvidos na partida, Data e ID do jogo."
      ]
    },
    {
      "cell_type": "code",
      "metadata": {
        "id": "ajsobYCKdZav",
        "outputId": "3d6d5448-3126-4660-ccd1-4d56d0e1a4d7",
        "colab": {
          "base_uri": "https://localhost:8080/",
          "height": 427
        }
      },
      "source": [
        "results = qbs[\"Game_result\"]\n",
        "\n",
        "qbs_attributes = qbs.drop(['Game_result', 'Points_scored', 'Points_Taken', 'Rank', 'Player', 'Position', 'Date', 'Team', 'Opp', 'Game'], axis=1)\n",
        "\n",
        "qbs_attributes"
      ],
      "execution_count": 178,
      "outputs": [
        {
          "output_type": "execute_result",
          "data": {
            "text/html": [
              "<div>\n",
              "<style scoped>\n",
              "    .dataframe tbody tr th:only-of-type {\n",
              "        vertical-align: middle;\n",
              "    }\n",
              "\n",
              "    .dataframe tbody tr th {\n",
              "        vertical-align: top;\n",
              "    }\n",
              "\n",
              "    .dataframe thead th {\n",
              "        text-align: right;\n",
              "    }\n",
              "</style>\n",
              "<table border=\"1\" class=\"dataframe\">\n",
              "  <thead>\n",
              "    <tr style=\"text-align: right;\">\n",
              "      <th></th>\n",
              "      <th>Age</th>\n",
              "      <th>Week</th>\n",
              "      <th>Day</th>\n",
              "      <th>Cmp</th>\n",
              "      <th>Pass_Att</th>\n",
              "      <th>Cmp_Per</th>\n",
              "      <th>Pass_Yards</th>\n",
              "      <th>Pass_TD</th>\n",
              "      <th>Pass_Int</th>\n",
              "      <th>QB_Rate</th>\n",
              "      <th>Sacked</th>\n",
              "      <th>Yds_Lost</th>\n",
              "      <th>Yards_Att</th>\n",
              "      <th>Adj_Yards_Att</th>\n",
              "    </tr>\n",
              "  </thead>\n",
              "  <tbody>\n",
              "    <tr>\n",
              "      <th>0</th>\n",
              "      <td>22.244</td>\n",
              "      <td>1</td>\n",
              "      <td>Sun</td>\n",
              "      <td>17</td>\n",
              "      <td>20</td>\n",
              "      <td>85.00</td>\n",
              "      <td>324</td>\n",
              "      <td>5</td>\n",
              "      <td>0</td>\n",
              "      <td>158.3</td>\n",
              "      <td>1</td>\n",
              "      <td>1</td>\n",
              "      <td>16.20</td>\n",
              "      <td>16.20</td>\n",
              "    </tr>\n",
              "    <tr>\n",
              "      <th>1</th>\n",
              "      <td>26.041</td>\n",
              "      <td>1</td>\n",
              "      <td>Sun</td>\n",
              "      <td>25</td>\n",
              "      <td>32</td>\n",
              "      <td>78.13</td>\n",
              "      <td>405</td>\n",
              "      <td>4</td>\n",
              "      <td>0</td>\n",
              "      <td>158.3</td>\n",
              "      <td>0</td>\n",
              "      <td>0</td>\n",
              "      <td>12.66</td>\n",
              "      <td>12.66</td>\n",
              "    </tr>\n",
              "    <tr>\n",
              "      <th>2</th>\n",
              "      <td>29.208</td>\n",
              "      <td>1</td>\n",
              "      <td>Sun</td>\n",
              "      <td>6</td>\n",
              "      <td>6</td>\n",
              "      <td>100.00</td>\n",
              "      <td>55</td>\n",
              "      <td>1</td>\n",
              "      <td>0</td>\n",
              "      <td>144.4</td>\n",
              "      <td>0</td>\n",
              "      <td>0</td>\n",
              "      <td>9.17</td>\n",
              "      <td>9.17</td>\n",
              "    </tr>\n",
              "    <tr>\n",
              "      <th>3</th>\n",
              "      <td>23.356</td>\n",
              "      <td>1</td>\n",
              "      <td>Sun</td>\n",
              "      <td>25</td>\n",
              "      <td>33</td>\n",
              "      <td>75.76</td>\n",
              "      <td>378</td>\n",
              "      <td>3</td>\n",
              "      <td>0</td>\n",
              "      <td>143.2</td>\n",
              "      <td>0</td>\n",
              "      <td>0</td>\n",
              "      <td>11.45</td>\n",
              "      <td>11.45</td>\n",
              "    </tr>\n",
              "    <tr>\n",
              "      <th>4</th>\n",
              "      <td>31.020</td>\n",
              "      <td>1</td>\n",
              "      <td>Sun</td>\n",
              "      <td>8</td>\n",
              "      <td>10</td>\n",
              "      <td>80.00</td>\n",
              "      <td>98</td>\n",
              "      <td>1</td>\n",
              "      <td>0</td>\n",
              "      <td>140.8</td>\n",
              "      <td>1</td>\n",
              "      <td>1</td>\n",
              "      <td>9.80</td>\n",
              "      <td>9.80</td>\n",
              "    </tr>\n",
              "    <tr>\n",
              "      <th>...</th>\n",
              "      <td>...</td>\n",
              "      <td>...</td>\n",
              "      <td>...</td>\n",
              "      <td>...</td>\n",
              "      <td>...</td>\n",
              "      <td>...</td>\n",
              "      <td>...</td>\n",
              "      <td>...</td>\n",
              "      <td>...</td>\n",
              "      <td>...</td>\n",
              "      <td>...</td>\n",
              "      <td>...</td>\n",
              "      <td>...</td>\n",
              "      <td>...</td>\n",
              "    </tr>\n",
              "    <tr>\n",
              "      <th>606</th>\n",
              "      <td>29.320</td>\n",
              "      <td>17</td>\n",
              "      <td>Sun</td>\n",
              "      <td>11</td>\n",
              "      <td>21</td>\n",
              "      <td>52.38</td>\n",
              "      <td>96</td>\n",
              "      <td>0</td>\n",
              "      <td>1</td>\n",
              "      <td>44.9</td>\n",
              "      <td>3</td>\n",
              "      <td>15</td>\n",
              "      <td>4.57</td>\n",
              "      <td>4.57</td>\n",
              "    </tr>\n",
              "    <tr>\n",
              "      <th>607</th>\n",
              "      <td>24.151</td>\n",
              "      <td>17</td>\n",
              "      <td>Sun</td>\n",
              "      <td>12</td>\n",
              "      <td>29</td>\n",
              "      <td>41.38</td>\n",
              "      <td>122</td>\n",
              "      <td>0</td>\n",
              "      <td>1</td>\n",
              "      <td>39.7</td>\n",
              "      <td>1</td>\n",
              "      <td>7</td>\n",
              "      <td>4.21</td>\n",
              "      <td>4.21</td>\n",
              "    </tr>\n",
              "    <tr>\n",
              "      <th>608</th>\n",
              "      <td>25.187</td>\n",
              "      <td>17</td>\n",
              "      <td>Sun</td>\n",
              "      <td>0</td>\n",
              "      <td>1</td>\n",
              "      <td>0.00</td>\n",
              "      <td>0</td>\n",
              "      <td>0</td>\n",
              "      <td>0</td>\n",
              "      <td>39.6</td>\n",
              "      <td>0</td>\n",
              "      <td>0</td>\n",
              "      <td>0.00</td>\n",
              "      <td>0.00</td>\n",
              "    </tr>\n",
              "    <tr>\n",
              "      <th>609</th>\n",
              "      <td>27.248</td>\n",
              "      <td>17</td>\n",
              "      <td>Sun</td>\n",
              "      <td>12</td>\n",
              "      <td>21</td>\n",
              "      <td>57.14</td>\n",
              "      <td>126</td>\n",
              "      <td>0</td>\n",
              "      <td>2</td>\n",
              "      <td>35.1</td>\n",
              "      <td>0</td>\n",
              "      <td>0</td>\n",
              "      <td>6.00</td>\n",
              "      <td>6.00</td>\n",
              "    </tr>\n",
              "    <tr>\n",
              "      <th>610</th>\n",
              "      <td>24.270</td>\n",
              "      <td>17</td>\n",
              "      <td>Sun</td>\n",
              "      <td>1</td>\n",
              "      <td>8</td>\n",
              "      <td>12.50</td>\n",
              "      <td>4</td>\n",
              "      <td>0</td>\n",
              "      <td>1</td>\n",
              "      <td>0.0</td>\n",
              "      <td>1</td>\n",
              "      <td>7</td>\n",
              "      <td>0.50</td>\n",
              "      <td>0.50</td>\n",
              "    </tr>\n",
              "  </tbody>\n",
              "</table>\n",
              "<p>609 rows × 14 columns</p>\n",
              "</div>"
            ],
            "text/plain": [
              "        Age  Week  Day  Cmp  ...  Sacked  Yds_Lost  Yards_Att  Adj_Yards_Att\n",
              "0    22.244     1  Sun   17  ...       1         1      16.20          16.20\n",
              "1    26.041     1  Sun   25  ...       0         0      12.66          12.66\n",
              "2    29.208     1  Sun    6  ...       0         0       9.17           9.17\n",
              "3    23.356     1  Sun   25  ...       0         0      11.45          11.45\n",
              "4    31.020     1  Sun    8  ...       1         1       9.80           9.80\n",
              "..      ...   ...  ...  ...  ...     ...       ...        ...            ...\n",
              "606  29.320    17  Sun   11  ...       3        15       4.57           4.57\n",
              "607  24.151    17  Sun   12  ...       1         7       4.21           4.21\n",
              "608  25.187    17  Sun    0  ...       0         0       0.00           0.00\n",
              "609  27.248    17  Sun   12  ...       0         0       6.00           6.00\n",
              "610  24.270    17  Sun    1  ...       1         7       0.50           0.50\n",
              "\n",
              "[609 rows x 14 columns]"
            ]
          },
          "metadata": {
            "tags": []
          },
          "execution_count": 178
        }
      ]
    },
    {
      "cell_type": "markdown",
      "metadata": {
        "id": "jvL9HimgF-F7"
      },
      "source": [
        "Também temos que transformar o dia em um número para que os modelos aceitem o seu formato."
      ]
    },
    {
      "cell_type": "code",
      "metadata": {
        "id": "SFtOmH60GHzl"
      },
      "source": [
        "qbs_attributes['Day'] = qbs_attributes['Day'].astype('category').cat.codes"
      ],
      "execution_count": 179,
      "outputs": []
    },
    {
      "cell_type": "markdown",
      "metadata": {
        "id": "dMoK1rbjVZdC"
      },
      "source": [
        "Também temos que transformar os resultados em números.\n"
      ]
    },
    {
      "cell_type": "code",
      "metadata": {
        "id": "IGO2KxrfVc8c"
      },
      "source": [
        "results = results.astype('category').cat.codes"
      ],
      "execution_count": 180,
      "outputs": []
    },
    {
      "cell_type": "markdown",
      "metadata": {
        "id": "ItN0cOLRaRIu"
      },
      "source": [
        "Como iremos utilizar o método de cross validation, não é necessário separaros dados em treinamento, validação e teste pois o próprio algoritmo já faz este trabalho."
      ]
    },
    {
      "cell_type": "markdown",
      "metadata": {
        "id": "6EIvD2T_JxkI"
      },
      "source": [
        "### Tunning de Modelos\n",
        "\n",
        "Agora temos que escolher que modelo utilizaremos para o nosso preditor. \n",
        "Os modelos escolhidos para se trabalhar foram:\n",
        "\n",
        "\n",
        "*   Multi-layer Perceptron\n",
        "*   k-nearest neighbors\n",
        "*   Decision Tree\n",
        "*   Random Forest\n",
        "\n",
        "Vamos agora passar por cada um para escolher os melhores hiper-parâmetros através do método de cross-validation. Com ela vamos testar o mesmo modelo com multiplos subconjutos mutualmente exclusivos de dados para medir o nível de generalizaçao do mesmo."
      ]
    },
    {
      "cell_type": "markdown",
      "metadata": {
        "id": "qUG41d5nNei0"
      },
      "source": [
        "#### Multi-layer Perceptron\n",
        "\n",
        "Vamos agora escolher os melhores valores de **alpha** e **max_iter** para este algoritmo.\n"
      ]
    },
    {
      "cell_type": "code",
      "metadata": {
        "id": "kCXztNDGIdu3",
        "outputId": "db3c3397-1aa6-4aa9-d5d5-d013e3a25765",
        "colab": {
          "base_uri": "https://localhost:8080/"
        }
      },
      "source": [
        "from sklearn.neural_network import MLPClassifier\n",
        "len(results[results == 1])"
      ],
      "execution_count": 181,
      "outputs": [
        {
          "output_type": "execute_result",
          "data": {
            "text/plain": [
              "300"
            ]
          },
          "metadata": {
            "tags": []
          },
          "execution_count": 181
        }
      ]
    },
    {
      "cell_type": "markdown",
      "metadata": {
        "id": "HZoQdkYyOQKw"
      },
      "source": [
        "#### KNN\n",
        "\n",
        "Vamos agora escolher o melhor valor de **N_neighbors** para este algoritmo. Vamos analisar a acurácia de valores entre 1 e 30.\n"
      ]
    },
    {
      "cell_type": "code",
      "metadata": {
        "id": "hTufaWjUOQKx",
        "outputId": "c88bf049-a906-42e3-debd-5f9cee6fec35",
        "colab": {
          "base_uri": "https://localhost:8080/",
          "height": 296
        }
      },
      "source": [
        "from sklearn.neighbors import KNeighborsClassifier\n",
        "k_range = range(1,31)\n",
        "k_scores = {}\n",
        "\n",
        "for k in k_range:\n",
        "    model = KNeighborsClassifier(n_neighbors=k)\n",
        "    scores = cross_val_score(model, qbs_attributes, results, cv=5, scoring='accuracy')\n",
        "    k_scores[k] = scores.mean() \n",
        "\n",
        "plt.plot(list(k_scores.keys()), list(k_scores.values()))\n",
        "plt.xlabel('Value of K for KNN')\n",
        "plt.ylabel('Cross-Validated Accuracy')\n"
      ],
      "execution_count": 194,
      "outputs": [
        {
          "output_type": "execute_result",
          "data": {
            "text/plain": [
              "Text(0, 0.5, 'Cross-Validated Accuracy')"
            ]
          },
          "metadata": {
            "tags": []
          },
          "execution_count": 194
        },
        {
          "output_type": "display_data",
          "data": {
            "image/png": "[encoded data removed]",
            "text/plain": [
              "<Figure size 432x288 with 1 Axes>"
            ]
          },
          "metadata": {
            "tags": [],
            "needs_background": "light"
          }
        }
      ]
    },
    {
      "cell_type": "markdown",
      "metadata": {
        "id": "1b_iRdCsbp4S"
      },
      "source": [
        "Agora vamos procurar qual foi o K que gerou a melhor acurácia."
      ]
    },
    {
      "cell_type": "code",
      "metadata": {
        "id": "5UBCxdpgTKfY",
        "outputId": "b4005ece-0fce-4fc0-9224-5c8c1c1faf81",
        "colab": {
          "base_uri": "https://localhost:8080/"
        }
      },
      "source": [
        "best_k = 1\n",
        "best_accuracy = 0\n",
        "\n",
        "for index, accuracy in k_scores.items():\n",
        "  if best_accuracy < accuracy:\n",
        "    best_k = index\n",
        "    best_accuracy = accuracy\n",
        "\n",
        "print(\"A melhor acurácia (\", best_accuracy*100, \"%) foi encontrada com K =\", best_k)"
      ],
      "execution_count": 198,
      "outputs": [
        {
          "output_type": "stream",
          "text": [
            "A melhor acurácia ( 72.5660479609809 %) foi encontrada com K = 9\n"
          ],
          "name": "stdout"
        }
      ]
    },
    {
      "cell_type": "markdown",
      "metadata": {
        "id": "LFm85YJyOcr1"
      },
      "source": [
        "#### Decision Tree\n",
        "\n",
        "Vamos agora escolher o melhor valor de **max_depth** para este algoritmo. Vamos alternar o max_depth entre os valores de 1 e 30.\n"
      ]
    },
    {
      "cell_type": "code",
      "metadata": {
        "id": "yGuGTuRkOcr7",
        "outputId": "7a63e78b-60a5-46bd-fd32-fa81edf64a32",
        "colab": {
          "base_uri": "https://localhost:8080/",
          "height": 298
        }
      },
      "source": [
        "from sklearn.tree import DecisionTreeClassifier\n",
        "\n",
        "depth_range = range(1,31)\n",
        "depth_scores = {}\n",
        "\n",
        "for d in depth_range:\n",
        "    model = DecisionTreeClassifier(max_depth=d)\n",
        "    scores = cross_val_score(model, qbs_attributes, results, cv=5, scoring='accuracy')\n",
        "    depth_scores[d] = scores.mean()\n",
        "\n",
        "plt.plot(list(depth_scores.keys()), list(depth_scores.values()))\n",
        "plt.xlabel('Value of Max-Depth for DecisionTreeClassifier')\n",
        "plt.ylabel('Cross-Validated Accuracy')"
      ],
      "execution_count": 200,
      "outputs": [
        {
          "output_type": "execute_result",
          "data": {
            "text/plain": [
              "Text(0, 0.5, 'Cross-Validated Accuracy')"
            ]
          },
          "metadata": {
            "tags": []
          },
          "execution_count": 200
        },
        {
          "output_type": "display_data",
          "data": {
            "image/png": "[encoded data removed]",
            "text/plain": [
              "<Figure size 432x288 with 1 Axes>"
            ]
          },
          "metadata": {
            "tags": [],
            "needs_background": "light"
          }
        }
      ]
    },
    {
      "cell_type": "markdown",
      "metadata": {
        "id": "mIIJ453hb6ZM"
      },
      "source": [
        "Agora vamos procurar qual foi a profundidade que gerou a melhor acurácia."
      ]
    },
    {
      "cell_type": "code",
      "metadata": {
        "id": "vju1H6aJb6ZR",
        "outputId": "2af35b5e-a206-42eb-92a4-5003b2b61fe4",
        "colab": {
          "base_uri": "https://localhost:8080/"
        }
      },
      "source": [
        "best_depth = 1\n",
        "best_accuracy = 0\n",
        "\n",
        "for index, accuracy in k_scores.items():\n",
        "  if best_accuracy < accuracy:\n",
        "    best_depth = index\n",
        "    best_accuracy = accuracy\n",
        "\n",
        "print(\"A melhor acurácia (\", best_accuracy*100, \"%) foi encontrada com max-depth =\", best_depth)"
      ],
      "execution_count": 201,
      "outputs": [
        {
          "output_type": "stream",
          "text": [
            "A melhor acurácia ( 68.79555615770221 %) foi encontrada com max-depth = 3\n"
          ],
          "name": "stdout"
        }
      ]
    },
    {
      "cell_type": "markdown",
      "metadata": {
        "id": "LYqHlFclOc79"
      },
      "source": [
        "#### Random Forest\n",
        "\n",
        "Vamos agora escolher o melhor valor de **N_neighbors** para este algoritmo.\n"
      ]
    },
    {
      "cell_type": "code",
      "metadata": {
        "id": "SHCzTDf8Oc7-"
      },
      "source": [
        "from sklearn.ensemble import RandomForestClassifier\n"
      ],
      "execution_count": null,
      "outputs": []
    },
    {
      "cell_type": "markdown",
      "metadata": {
        "id": "B0R2vl2XahPU"
      },
      "source": [
        "## Consideraçoes finais\n",
        "\n",
        "\n",
        "A melhor acurácia encontrada foi de <insira aaqui> com o modelo <insira aqui>.\n",
        "\n",
        "\n",
        "Talvez a quantidade baixa de dados (609 linhas) tenha impactado no quão bom o modelo se tornou.\n"
      ]
    }
  ]
}